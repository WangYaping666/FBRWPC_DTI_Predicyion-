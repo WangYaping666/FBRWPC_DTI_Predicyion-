{
 "cells": [
  {
   "cell_type": "code",
   "execution_count": 45,
   "id": "4ead2006",
   "metadata": {},
   "outputs": [
    {
     "name": "stderr",
     "output_type": "stream",
     "text": [
      "100%|█████████████████████████████████████████████████████████████████████████████████| 10/10 [00:00<00:00, 122.46it/s]\n"
     ]
    }
   ],
   "source": [
    "# %load data_divide - ic.py\n",
    "import random\n",
    "import numpy as np\n",
    "from tqdm import trange\n",
    "\n",
    "\n",
    "fold=10\n",
    "\n",
    "dr_pre=np.loadtxt(\"./source_data/gpcr4_admat_dgc.txt\")\n",
    "simdr=np.loadtxt(\"./source_data/gpcr_simmat_drug.txt\")\n",
    "simpre=np.loadtxt(\"./source_data/gpcr_simmat_target.txt\")\n",
    "\n",
    "\n",
    "prenum=len(simpre)\n",
    "\n",
    "dd_dim1=dr_pre.flatten()\n",
    "\n",
    "i=0\n",
    "list_1=[]\n",
    "while i<len(dd_dim1):\n",
    "    if dd_dim1[i]==1:\n",
    "        list_1.append(i)\n",
    "    i=i+1\n",
    "num1=len(list_1)\n",
    "group_size1=int(num1/fold)\n",
    "random.seed(10)\n",
    "random.shuffle(list_1)\n",
    "#\n",
    "array_1=np.array(list_1)[0:fold*group_size1]\n",
    "group_data1=np.reshape(array_1,(fold,group_size1))\n",
    "np.savetxt(\"./dataset/index_1_gpcr.txt\",group_data1)\n",
    "\n",
    "\n",
    "i=0\n",
    "list_0=[]\n",
    "while i<len(dd_dim1):\n",
    "    if dd_dim1[i]==0:\n",
    "        list_0.append(i)\n",
    "    i=i+1\n",
    "num0=len(list_0)\n",
    "group_size0=int(num0/fold)\n",
    "random.seed(10)\n",
    "random.shuffle(list_0)\n",
    "\n",
    "array_0=np.array(list_0)[0:fold*group_size0]\n",
    "group_data0=np.reshape(array_0,(fold,group_size0))\n",
    "np.savetxt(\"./dataset/index_0_gpcr.txt\",group_data0)\n",
    "\n",
    "\n",
    "f = 0\n",
    "for f in trange(fold):\n",
    "    DTI_gpcr = np.copy(dr_pre)\n",
    "    i=0\n",
    "    while i < group_size1:\n",
    "        r = int(group_data1[f, i] / prenum)\n",
    "        c = int(group_data1[f, i] % prenum)\n",
    "        DTI[r, c] = 0\n",
    "        i += 1  # 得到每次交叉验证中所使用的A矩阵\n",
    "    np.savetxt(\"./dataset/DTI_gpcr\"+str(f)+\".txt\",DTI_gpcr)\n",
    "\n",
    "\n",
    "\n"
   ]
  },
  {
   "cell_type": "code",
   "execution_count": 71,
   "id": "6d4b75b1",
   "metadata": {},
   "outputs": [],
   "source": [
    "# %load run_main.py\n",
    "import numpy as np\n",
    "from function import *\n",
    "from tqdm import trange\n",
    "from sklearn.metrics.pairwise import cosine_similarity\n",
    "import sklearn.metrics\n",
    "import copy\n",
    "rs = 0.6\n",
    "n_fold=10\n",
    "eta=0.7\n",
    "l_1=5\n",
    "l_2=5\n",
    "fr=500\n",
    "fp=300\n",
    "K=20\n",
    "#dr_dis=np.loadtxt(\"./source_data/mat_drug_disease.txt\")\n",
    "dr_pre=np.loadtxt(\"./source_data/gpcr4_admat_dgc.txt\").T\n",
    "#pre_dis=np.loadtxt(\"./source_data/mat_protein_disease.txt\")\n",
    "#dr_dr=np.loadtxt(\"./source_data/mat_drug_drug.txt\")\n",
    "#dr_se=np.loadtxt(\"./source_data/mat_drug_se.txt\")\n",
    "#pre_pre=np.loadtxt(\"./source_data/mat_protein_protein.txt\")\n",
    "simdr=np.loadtxt(\"./source_data/gpcr_simmat_drug.txt\")\n",
    "simpre=np.loadtxt(\"./source_data/gpcr_simmat_target.txt\")\n",
    "\n",
    "drnum=len(simdr)\n",
    "#disnum=len(dr_dis[0])\n",
    "prenum=len(simpre)\n",
    "\n",
    "index_1 = np.loadtxt(\"./dataset/index_1_gpcr.txt\")\n",
    "index_0 = np.loadtxt(\"./dataset/index_0_gpcr.txt\")\n",
    "index = np.hstack((index_1, index_0))\n",
    "reala=dr_pre\n",
    "sr = simdr\n",
    "sd = simpre\n",
    "\n",
    "#RR=np.zeros(dr_pre.shape)\n",
    "#A = np.hstack((dr_dr, dr_dis, dr_se))\n",
    "#B = np.hstack((pre_pre, pre_dis))\n",
    "#cutdr_dis = SVD(A, fr)\n",
    "#cutpre_dis = SVD(B, fp)\n",
    "#pre_simdti = cosine_similarity(cutpre_dis, cutpre_dis)\n",
    "#dr_simdti = cosine_similarity(cutdr_dis, cutdr_dis)\n",
    "pre_simdti = np.loadtxt(\"./source_data/S_FGS_p_gpcr.txt\")\n",
    "dr_simdti = np.loadtxt(\"./source_data/S_FGS_d_gpcr.txt\")\n",
    "\n",
    "srfp, spfp = pruning(K=K, drug_mat=dr_simdti, target_mat=pre_simdti, miu=eta)\n",
    "srsp, spsp = pruning(K=K, drug_mat=sr, target_mat=sd, miu=eta)\n",
    "\n",
    "for f in trange(n_fold):\n",
    "    a = np.loadtxt(\"./dataset/DTI_gpcr\" + str(f) + \".txt\").T\n",
    "    idx=index[f,:]\n",
    "   \n",
    "    R = copy.deepcopy(a)\n",
    "    R = BiRW(R, dr_simdti, pre_simdti, a, rs)        \n",
    "    for i in trange(l_1):\n",
    "        R=BiRW(R, srfp, spfp, a, rs/2)\n",
    "    for i in trange(l_2):\n",
    "        R=BiRW(R, srsp, spsp, a, rs/2)\n",
    "\n",
    "    realvalue=np.zeros(R.shape)\n",
    "    for i in range(len(idx)):\n",
    "        d=int(idx[i]/prenum)\n",
    "        p=int(idx[i]%prenum)\n",
    "    \n",
    "        realvalue[d,p]=reala[d,p]\n",
    "    for i in range(len(idx)):\n",
    "        d=int(idx[i]/prenum)\n",
    "        p=int(idx[i]%prenum)\n",
    "        RR[d,p]=R[d,p]\n",
    "\n",
    "y_true_m = dr_pre.tolist()\n",
    "y_pre_m = RR.tolist()\n",
    "\n",
    "tpr_cov=[[] for i in range(n_fold)]\n",
    "fpr_cov=[[] for i in range(n_fold)]\n",
    "recall_cov=[[] for i in range(n_fold)]\n",
    "precision_cov=[[] for i in range(n_fold)]\n",
    "\n",
    "for f in range(n_fold):\n",
    "    idx=index[f,:]\n",
    "    singal=[[] for i in range(len(y_true_m))]\n",
    "    singal_test=[[] for i in range(len(y_true_m))]\n",
    "    for i in trange(len(y_true_m)):\n",
    "        for j in range(len(y_true_m[0])):\n",
    "            if i*prenum+j in idx:\n",
    "                singal[i].append(y_true_m[i][j])\n",
    "                singal_test[i].append(y_pre_m[i][j])\n",
    "    y_true=singal\n",
    "    y_pre=singal_test\n",
    "\n",
    "    idx = []\n",
    "    tpr_list = []\n",
    "    fpr_list = []\n",
    "    recall_list = []\n",
    "    precision_list = []\n",
    "    c = 0\n",
    "    for i in trange(len(y_true)):\n",
    "        if np.sum(np.array(y_true[i])) == 0:\n",
    "            c += 1\n",
    "            continue\n",
    "        else:\n",
    "            tpr1, fpr1, precision1, recall1 = tpr_fpr_precision_recall(np.array(y_true[i]), np.array(y_pre[i]))\n",
    "            fpr_list.append(fpr1)\n",
    "            tpr_list.append(tpr1)\n",
    "            precision_list.append(precision1)\n",
    "            recall_list.append(recall1)\n",
    "    coverage = []\n",
    "\n",
    "    for i in tpr_list:\n",
    "        try:\n",
    "            coverage.append(i.index(1.0)+1)\n",
    "        except:\n",
    "            print('1')\n",
    "    print(np.mean(np.array(coverage)))\n",
    "\n",
    "    tpr = equal_len_list(tpr_list)\n",
    "    print(len(tpr ),type(tpr))\n",
    "    fpr = equal_len_list(fpr_list)\n",
    "    precision = equal_len_list(precision_list)\n",
    "    recall = equal_len_list(recall_list)\n",
    "    tpr_mean = np.mean(tpr, axis=0)\n",
    "    tpr_cov[f]=tpr_mean\n",
    "    print(type(tpr_mean),len(tpr_mean))\n",
    "    fpr_mean = np.mean(fpr, axis=0)\n",
    "    fpr_cov[f]=fpr_mean\n",
    "    recall_mean = np.mean(recall, axis=0)\n",
    "    recall_cov[f]=recall_mean\n",
    "    precision_mean = np.mean(precision, axis=0)\n",
    "    precision_cov[f]=precision_mean\n",
    "    print('The auc of prediction is:', sklearn.metrics.auc(fpr_mean, tpr_mean))\n",
    "    print('The aupr of prediction is:', sklearn.metrics.auc(recall_mean, precision_mean)+recall_mean[0]*precision_mean[0])\n",
    "\n",
    "tpr = equal_len_list(tpr_cov)\n",
    "fpr = equal_len_list(fpr_cov)\n",
    "precision = equal_len_list(precision_cov)\n",
    "recall = equal_len_list(recall_cov)\n",
    "\n",
    "tpr_mean = np.mean(tpr, axis=0)\n",
    "fpr_mean = np.mean(fpr, axis=0)\n",
    "recall_mean = np.mean(recall, axis=0)\n",
    "precision_mean = np.mean(precision, axis=0)\n",
    "\n",
    "print('The auc of prediction is:', sklearn.metrics.auc(fpr_mean, tpr_mean))\n",
    "print('The aupr of prediction is:', sklearn.metrics.auc(recall_mean, precision_mean)+recall_mean[0]*precision_mean[0])\n",
    "\n",
    "np.savetxt('./result/fpr_list.txt', fpr_mean)\n",
    "np.savetxt('./result/tpr_list.txt', tpr_mean)\n",
    "np.savetxt('./result/recall_list.txt', recall_mean)\n",
    "np.savetxt('./result/precision_list.txt', precision_mean)"
   ]
  },
  {
   "cell_type": "code",
   "execution_count": 47,
   "id": "bab80324",
   "metadata": {},
   "outputs": [],
   "source": [
    "dr_pre=np.loadtxt(\"./source_data/gpcr4_admat_dgc.txt\")\n",
    "#pre_dis=np.loadtxt(\"./source_data/mat_protein_disease.txt\")\n",
    "#dr_dr=np.loadtxt(\"./source_data/mat_drug_drug.txt\")\n",
    "#dr_se=np.loadtxt(\"./source_data/mat_drug_se.txt\")\n",
    "#pre_pre=np.loadtxt(\"./source_data/mat_protein_protein.txt\")\n",
    "simdr=np.loadtxt(\"./source_data/gpcr_simmat_drug.txt\")\n",
    "simpre=np.loadtxt(\"./source_data/gpcr_simmat_target.txt\")"
   ]
  },
  {
   "cell_type": "code",
   "execution_count": 41,
   "id": "9615d2ad",
   "metadata": {},
   "outputs": [
    {
     "data": {
      "text/plain": [
       "(223, 223)"
      ]
     },
     "execution_count": 41,
     "metadata": {},
     "output_type": "execute_result"
    }
   ],
   "source": [
    "simdr.shape"
   ]
  },
  {
   "cell_type": "code",
   "execution_count": 40,
   "id": "73e265cf",
   "metadata": {},
   "outputs": [
    {
     "data": {
      "text/plain": [
       "array([11470.,   771.,  4649., ...,  9990., 13051.,  7740.])"
      ]
     },
     "execution_count": 40,
     "metadata": {},
     "output_type": "execute_result"
    }
   ],
   "source": [
    "idx"
   ]
  },
  {
   "cell_type": "code",
   "execution_count": 43,
   "id": "199058a2",
   "metadata": {},
   "outputs": [
    {
     "data": {
      "text/plain": [
       "(95, 223)"
      ]
     },
     "execution_count": 43,
     "metadata": {},
     "output_type": "execute_result"
    }
   ],
   "source": [
    "reala.shape"
   ]
  },
  {
   "cell_type": "code",
   "execution_count": 44,
   "id": "ce7e5d49",
   "metadata": {},
   "outputs": [
    {
     "data": {
      "text/plain": [
       "(70, 120)"
      ]
     },
     "execution_count": 44,
     "metadata": {},
     "output_type": "execute_result"
    }
   ],
   "source": [
    "p,d"
   ]
  },
  {
   "cell_type": "code",
   "execution_count": 53,
   "id": "ff63489c",
   "metadata": {},
   "outputs": [
    {
     "data": {
      "text/plain": [
       "(223, 95)"
      ]
     },
     "execution_count": 53,
     "metadata": {},
     "output_type": "execute_result"
    }
   ],
   "source": [
    "a.shape"
   ]
  },
  {
   "cell_type": "code",
   "execution_count": 56,
   "id": "678f891c",
   "metadata": {},
   "outputs": [
    {
     "data": {
      "text/plain": [
       "0.0"
      ]
     },
     "execution_count": 56,
     "metadata": {},
     "output_type": "execute_result"
    }
   ],
   "source": [
    "realvalue[d,p]"
   ]
  },
  {
   "cell_type": "code",
   "execution_count": 57,
   "id": "e0203a2c",
   "metadata": {},
   "outputs": [
    {
     "data": {
      "text/plain": [
       "array([[0., 0., 0., ..., 0., 0., 0.],\n",
       "       [0., 0., 0., ..., 0., 0., 0.],\n",
       "       [0., 0., 0., ..., 0., 0., 0.],\n",
       "       ...,\n",
       "       [0., 0., 0., ..., 0., 0., 0.],\n",
       "       [0., 0., 0., ..., 0., 0., 0.],\n",
       "       [0., 0., 0., ..., 0., 0., 0.]])"
      ]
     },
     "execution_count": 57,
     "metadata": {},
     "output_type": "execute_result"
    }
   ],
   "source": [
    "reala"
   ]
  },
  {
   "cell_type": "code",
   "execution_count": 59,
   "id": "0f1f108d",
   "metadata": {},
   "outputs": [
    {
     "data": {
      "text/plain": [
       "10"
      ]
     },
     "execution_count": 59,
     "metadata": {},
     "output_type": "execute_result"
    }
   ],
   "source": []
  },
  {
   "cell_type": "code",
   "execution_count": 62,
   "id": "52769283",
   "metadata": {},
   "outputs": [
    {
     "data": {
      "text/plain": [
       "array([[0.01      , 0.00282628, 0.00083495, ..., 0.00019751, 0.00068153,\n",
       "        0.00199133],\n",
       "       [0.00282628, 0.01      , 0.0006315 , ..., 0.00022949, 0.00051822,\n",
       "        0.00203509],\n",
       "       [0.00083495, 0.0006315 , 0.01      , ..., 0.0001932 , 0.0005582 ,\n",
       "        0.00048957],\n",
       "       ...,\n",
       "       [0.00019751, 0.00022949, 0.0001932 , ..., 0.01      , 0.00023548,\n",
       "        0.00029656],\n",
       "       [0.00068153, 0.00051822, 0.0005582 , ..., 0.00023548, 0.01      ,\n",
       "        0.00051825],\n",
       "       [0.00199133, 0.00203509, 0.00048957, ..., 0.00029656, 0.00051825,\n",
       "        0.01      ]])"
      ]
     },
     "execution_count": 62,
     "metadata": {},
     "output_type": "execute_result"
    }
   ],
   "source": [
    "sd"
   ]
  },
  {
   "cell_type": "code",
   "execution_count": 63,
   "id": "f6ed4b6c",
   "metadata": {},
   "outputs": [
    {
     "data": {
      "text/plain": [
       "array([[1.        , 0.28262829, 0.08349522, ..., 0.01975119, 0.06815311,\n",
       "        0.19913333],\n",
       "       [0.28262829, 1.        , 0.06314987, ..., 0.02294885, 0.05182183,\n",
       "        0.2035093 ],\n",
       "       [0.08349522, 0.06314987, 1.        , ..., 0.01932024, 0.05582016,\n",
       "        0.0489569 ],\n",
       "       ...,\n",
       "       [0.01975119, 0.02294885, 0.01932024, ..., 1.        , 0.02354822,\n",
       "        0.0296562 ],\n",
       "       [0.06815311, 0.05182183, 0.05582016, ..., 0.02354822, 1.        ,\n",
       "        0.05182548],\n",
       "       [0.19913333, 0.2035093 , 0.0489569 , ..., 0.0296562 , 0.05182548,\n",
       "        1.        ]])"
      ]
     },
     "execution_count": 63,
     "metadata": {},
     "output_type": "execute_result"
    }
   ],
   "source": [
    "simpre"
   ]
  },
  {
   "cell_type": "code",
   "execution_count": null,
   "id": "2262f915",
   "metadata": {},
   "outputs": [],
   "source": []
  }
 ],
 "metadata": {
  "kernelspec": {
   "display_name": "Python 3 (ipykernel)",
   "language": "python",
   "name": "python3"
  },
  "language_info": {
   "codemirror_mode": {
    "name": "ipython",
    "version": 3
   },
   "file_extension": ".py",
   "mimetype": "text/x-python",
   "name": "python",
   "nbconvert_exporter": "python",
   "pygments_lexer": "ipython3",
   "version": "3.9.13"
  }
 },
 "nbformat": 4,
 "nbformat_minor": 5
}
