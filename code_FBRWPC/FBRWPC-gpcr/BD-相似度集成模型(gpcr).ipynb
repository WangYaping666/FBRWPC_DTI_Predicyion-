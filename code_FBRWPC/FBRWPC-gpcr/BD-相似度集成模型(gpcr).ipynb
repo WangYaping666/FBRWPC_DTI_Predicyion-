{
 "cells": [
  {
   "cell_type": "code",
   "execution_count": 1,
   "id": "ed4258d7",
   "metadata": {},
   "outputs": [
    {
     "name": "stderr",
     "output_type": "stream",
     "text": [
      "100%|█████████████████████████████████████████████████████████████████████████████████| 10/10 [00:00<00:00, 130.94it/s]\n"
     ]
    }
   ],
   "source": [
    "# %load data_divide - ic.py\n",
    "import random\n",
    "import numpy as np\n",
    "from tqdm import trange\n",
    "\n",
    "\n",
    "fold=10\n",
    "\n",
    "dr_pre=np.loadtxt(\"./source_data/gpcr4_admat_dgc.txt\").T\n",
    "simdr=np.loadtxt(\"./source_data/gpcr_simmat_drug.txt\")\n",
    "simpre=np.loadtxt(\"./source_data/gpcr_simmat_target.txt\")\n",
    "\n",
    "\n",
    "prenum=len(simpre)\n",
    "\n",
    "dd_dim1=dr_pre.flatten()\n",
    "\n",
    "i=0\n",
    "list_1=[]\n",
    "while i<len(dd_dim1):\n",
    "    if dd_dim1[i]==1:\n",
    "        list_1.append(i)\n",
    "    i=i+1\n",
    "num1=len(list_1)\n",
    "group_size1=int(num1/fold)\n",
    "random.seed(10)\n",
    "random.shuffle(list_1)\n",
    "#\n",
    "array_1=np.array(list_1)[0:fold*group_size1]\n",
    "group_data1=np.reshape(array_1,(fold,group_size1))\n",
    "np.savetxt(\"./dataset/index_1.txt\",group_data1)\n",
    "\n",
    "\n",
    "i=0\n",
    "list_0=[]\n",
    "while i<len(dd_dim1):\n",
    "    if dd_dim1[i]==0:\n",
    "        list_0.append(i)\n",
    "    i=i+1\n",
    "num0=len(list_0)\n",
    "group_size0=int(num0/fold)\n",
    "random.seed(10)\n",
    "random.shuffle(list_0)\n",
    "\n",
    "array_0=np.array(list_0)[0:fold*group_size0]\n",
    "group_data0=np.reshape(array_0,(fold,group_size0))\n",
    "np.savetxt(\"./dataset/index_0.txt\",group_data0)\n",
    "\n",
    "\n",
    "f = 0\n",
    "for f in trange(fold):\n",
    "    DTI = np.copy(dr_pre)\n",
    "    i=0\n",
    "    while i < group_size1:\n",
    "        r = int(group_data1[f, i] / prenum)\n",
    "        c = int(group_data1[f, i] % prenum)\n",
    "        DTI[r, c] = 0\n",
    "        i += 1  # 得到每次交叉验证中所使用的A矩阵\n",
    "    np.savetxt(\"./dataset/DTI\"+str(f)+\".txt\",DTI)\n",
    "\n",
    "\n",
    "\n"
   ]
  },
  {
   "cell_type": "code",
   "execution_count": 2,
   "id": "a8a63408",
   "metadata": {},
   "outputs": [
    {
     "name": "stderr",
     "output_type": "stream",
     "text": [
      "  0%|                                                                                           | 0/10 [00:00<?, ?it/s]\n",
      "100%|████████████████████████████████████████████████████████████████████████████████████| 5/5 [00:00<00:00, 51.89it/s]\u001b[A\n",
      "\n",
      "  0%|                                                                                            | 0/5 [00:00<?, ?it/s]\u001b[A\n",
      "100%|████████████████████████████████████████████████████████████████████████████████████| 5/5 [00:00<00:00, 49.46it/s]\u001b[A\n",
      " 10%|████████▎                                                                          | 1/10 [00:00<00:02,  4.32it/s]\n",
      "100%|████████████████████████████████████████████████████████████████████████████████████| 5/5 [00:00<00:00, 51.39it/s]\u001b[A\n",
      "\n",
      "100%|████████████████████████████████████████████████████████████████████████████████████| 5/5 [00:00<00:00, 50.85it/s]\u001b[A\n",
      " 20%|████████████████▌                                                                  | 2/10 [00:00<00:01,  4.37it/s]\n",
      "100%|████████████████████████████████████████████████████████████████████████████████████| 5/5 [00:00<00:00, 50.34it/s]\u001b[A\n",
      "\n",
      "100%|████████████████████████████████████████████████████████████████████████████████████| 5/5 [00:00<00:00, 50.85it/s]\u001b[A\n",
      " 30%|████████████████████████▉                                                          | 3/10 [00:00<00:01,  4.37it/s]\n",
      "  0%|                                                                                            | 0/5 [00:00<?, ?it/s]\u001b[A\n",
      "100%|████████████████████████████████████████████████████████████████████████████████████| 5/5 [00:00<00:00, 47.54it/s]\u001b[A\n",
      "\n",
      "  0%|                                                                                            | 0/5 [00:00<?, ?it/s]\u001b[A\n",
      "100%|████████████████████████████████████████████████████████████████████████████████████| 5/5 [00:00<00:00, 48.87it/s]\u001b[A\n",
      " 40%|█████████████████████████████████▏                                                 | 4/10 [00:00<00:01,  4.29it/s]\n",
      "  0%|                                                                                            | 0/5 [00:00<?, ?it/s]\u001b[A\n",
      "100%|████████████████████████████████████████████████████████████████████████████████████| 5/5 [00:00<00:00, 48.91it/s]\u001b[A\n",
      "\n",
      "100%|████████████████████████████████████████████████████████████████████████████████████| 5/5 [00:00<00:00, 51.89it/s]\u001b[A\n",
      " 50%|█████████████████████████████████████████▌                                         | 5/10 [00:01<00:01,  4.32it/s]\n",
      "  0%|                                                                                            | 0/5 [00:00<?, ?it/s]\u001b[A\n",
      "100%|████████████████████████████████████████████████████████████████████████████████████| 5/5 [00:00<00:00, 49.35it/s]\u001b[A\n",
      "\n",
      "  0%|                                                                                            | 0/5 [00:00<?, ?it/s]\u001b[A\n",
      "100%|████████████████████████████████████████████████████████████████████████████████████| 5/5 [00:00<00:00, 48.47it/s]\u001b[A\n",
      " 60%|█████████████████████████████████████████████████▊                                 | 6/10 [00:01<00:00,  4.29it/s]\n",
      "100%|████████████████████████████████████████████████████████████████████████████████████| 5/5 [00:00<00:00, 51.58it/s]\u001b[A\n",
      "\n",
      "100%|████████████████████████████████████████████████████████████████████████████████████| 5/5 [00:00<00:00, 51.37it/s]\u001b[A\n",
      " 70%|██████████████████████████████████████████████████████████                         | 7/10 [00:01<00:00,  4.34it/s]\n",
      "  0%|                                                                                            | 0/5 [00:00<?, ?it/s]\u001b[A\n",
      "100%|████████████████████████████████████████████████████████████████████████████████████| 5/5 [00:00<00:00, 48.46it/s]\u001b[A\n",
      "\n",
      "100%|████████████████████████████████████████████████████████████████████████████████████| 5/5 [00:00<00:00, 50.88it/s]\u001b[A\n",
      " 80%|██████████████████████████████████████████████████████████████████▍                | 8/10 [00:01<00:00,  4.33it/s]\n",
      "100%|████████████████████████████████████████████████████████████████████████████████████| 5/5 [00:00<00:00, 50.36it/s]\u001b[A\n",
      "\n",
      "100%|████████████████████████████████████████████████████████████████████████████████████| 5/5 [00:00<00:00, 50.83it/s]\u001b[A\n",
      " 90%|██████████████████████████████████████████████████████████████████████████▋        | 9/10 [00:02<00:00,  4.33it/s]\n",
      "100%|████████████████████████████████████████████████████████████████████████████████████| 5/5 [00:00<00:00, 50.32it/s]\u001b[A\n",
      "\n",
      "  0%|                                                                                            | 0/5 [00:00<?, ?it/s]\u001b[A\n",
      "100%|████████████████████████████████████████████████████████████████████████████████████| 5/5 [00:00<00:00, 48.88it/s]\u001b[A\n",
      "100%|██████████████████████████████████████████████████████████████████████████████████| 10/10 [00:02<00:00,  4.33it/s]\n",
      "100%|██████████████████████████████████████████████████████████████████████████████| 223/223 [00:00<00:00, 3121.56it/s]\n",
      "100%|█████████████████████████████████████████████████████████████████████████████| 223/223 [00:00<00:00, 13161.61it/s]\n"
     ]
    },
    {
     "name": "stdout",
     "output_type": "stream",
     "text": [
      "1.7127659574468086\n",
      "94 <class 'list'>\n",
      "<class 'numpy.ndarray'> 3\n",
      "The auc of prediction is: 0.9606962517660231\n",
      "The aupr of prediction is: 0.9243599696928408\n"
     ]
    },
    {
     "name": "stderr",
     "output_type": "stream",
     "text": [
      "100%|██████████████████████████████████████████████████████████████████████████████| 223/223 [00:00<00:00, 3055.04it/s]\n",
      "100%|█████████████████████████████████████████████████████████████████████████████| 223/223 [00:00<00:00, 17164.53it/s]\n"
     ]
    },
    {
     "name": "stdout",
     "output_type": "stream",
     "text": [
      "1.8295454545454546\n",
      "88 <class 'list'>\n",
      "<class 'numpy.ndarray'> 5\n",
      "The auc of prediction is: 0.9786621330554538\n",
      "The aupr of prediction is: 0.9404842507591411\n"
     ]
    },
    {
     "name": "stderr",
     "output_type": "stream",
     "text": [
      "100%|██████████████████████████████████████████████████████████████████████████████| 223/223 [00:00<00:00, 3166.14it/s]\n",
      "100%|█████████████████████████████████████████████████████████████████████████████| 223/223 [00:00<00:00, 15933.25it/s]\n"
     ]
    },
    {
     "name": "stdout",
     "output_type": "stream",
     "text": [
      "1.788888888888889\n",
      "90 <class 'list'>\n",
      "<class 'numpy.ndarray'> 4\n",
      "The auc of prediction is: 0.9721344333093176\n",
      "The aupr of prediction is: 0.9318391436409956\n"
     ]
    },
    {
     "name": "stderr",
     "output_type": "stream",
     "text": [
      "100%|██████████████████████████████████████████████████████████████████████████████| 223/223 [00:00<00:00, 3121.38it/s]\n",
      "100%|█████████████████████████████████████████████████████████████████████████████| 223/223 [00:00<00:00, 17161.70it/s]\n"
     ]
    },
    {
     "name": "stdout",
     "output_type": "stream",
     "text": [
      "1.7127659574468086\n",
      "94 <class 'list'>\n",
      "<class 'numpy.ndarray'> 3\n",
      "The auc of prediction is: 0.9618640565460392\n",
      "The aupr of prediction is: 0.9263910844653687\n"
     ]
    },
    {
     "name": "stderr",
     "output_type": "stream",
     "text": [
      "100%|██████████████████████████████████████████████████████████████████████████████| 223/223 [00:00<00:00, 3151.40it/s]\n",
      "100%|█████████████████████████████████████████████████████████████████████████████| 223/223 [00:00<00:00, 17887.70it/s]\n"
     ]
    },
    {
     "name": "stdout",
     "output_type": "stream",
     "text": [
      "1.7127659574468086\n",
      "94 <class 'list'>\n",
      "<class 'numpy.ndarray'> 4\n",
      "The auc of prediction is: 0.9725299288313063\n",
      "The aupr of prediction is: 0.9328024902934364\n"
     ]
    },
    {
     "name": "stderr",
     "output_type": "stream",
     "text": [
      "100%|██████████████████████████████████████████████████████████████████████████████| 223/223 [00:00<00:00, 3123.41it/s]\n",
      "100%|█████████████████████████████████████████████████████████████████████████████| 223/223 [00:00<00:00, 16408.43it/s]\n"
     ]
    },
    {
     "name": "stdout",
     "output_type": "stream",
     "text": [
      "1.872093023255814\n",
      "86 <class 'list'>\n",
      "<class 'numpy.ndarray'> 4\n",
      "The auc of prediction is: 0.968660052749341\n",
      "The aupr of prediction is: 0.9261596318151382\n"
     ]
    },
    {
     "name": "stderr",
     "output_type": "stream",
     "text": [
      "100%|██████████████████████████████████████████████████████████████████████████████| 223/223 [00:00<00:00, 2991.85it/s]\n",
      "100%|█████████████████████████████████████████████████████████████████████████████| 223/223 [00:00<00:00, 16848.24it/s]\n"
     ]
    },
    {
     "name": "stdout",
     "output_type": "stream",
     "text": [
      "1.788888888888889\n",
      "90 <class 'list'>\n",
      "<class 'numpy.ndarray'> 3\n",
      "The auc of prediction is: 0.9603626535617773\n",
      "The aupr of prediction is: 0.9255617524377446\n"
     ]
    },
    {
     "name": "stderr",
     "output_type": "stream",
     "text": [
      "100%|██████████████████████████████████████████████████████████████████████████████| 223/223 [00:00<00:00, 3000.71it/s]\n",
      "100%|█████████████████████████████████████████████████████████████████████████████| 223/223 [00:00<00:00, 18649.90it/s]\n"
     ]
    },
    {
     "name": "stdout",
     "output_type": "stream",
     "text": [
      "1.8089887640449438\n",
      "89 <class 'list'>\n",
      "<class 'numpy.ndarray'> 4\n",
      "The auc of prediction is: 0.9736531868795417\n",
      "The aupr of prediction is: 0.9363707032297623\n"
     ]
    },
    {
     "name": "stderr",
     "output_type": "stream",
     "text": [
      "100%|██████████████████████████████████████████████████████████████████████████████| 223/223 [00:00<00:00, 3171.78it/s]\n",
      "100%|█████████████████████████████████████████████████████████████████████████████| 223/223 [00:00<00:00, 18579.51it/s]\n"
     ]
    },
    {
     "name": "stdout",
     "output_type": "stream",
     "text": [
      "1.8295454545454546\n",
      "88 <class 'list'>\n",
      "<class 'numpy.ndarray'> 4\n",
      "The auc of prediction is: 0.9716781023728338\n",
      "The aupr of prediction is: 0.9305075477447637\n"
     ]
    },
    {
     "name": "stderr",
     "output_type": "stream",
     "text": [
      "100%|██████████████████████████████████████████████████████████████████████████████| 223/223 [00:00<00:00, 3166.03it/s]\n",
      "100%|█████████████████████████████████████████████████████████████████████████████| 223/223 [00:00<00:00, 15975.16it/s]"
     ]
    },
    {
     "name": "stdout",
     "output_type": "stream",
     "text": [
      "2.536082474226804\n",
      "97 <class 'list'>\n",
      "<class 'numpy.ndarray'> 3\n",
      "The auc of prediction is: 0.8813032361878351\n",
      "The aupr of prediction is: 0.7339917642517371\n",
      "The auc of prediction is: 0.9556527791474275\n",
      "The aupr of prediction is: 0.9089596048913533\n"
     ]
    },
    {
     "name": "stderr",
     "output_type": "stream",
     "text": [
      "\n"
     ]
    }
   ],
   "source": [
    "# %load run_main.py\n",
    "import numpy as np\n",
    "from function import *\n",
    "from tqdm import trange\n",
    "from sklearn.metrics.pairwise import cosine_similarity\n",
    "import sklearn.metrics\n",
    "import copy\n",
    "rs = 0.4\n",
    "n_fold=10\n",
    "eta=0.7\n",
    "l_1=5\n",
    "l_2=5\n",
    "fr=500\n",
    "fp=300\n",
    "K=20\n",
    "#dr_dis=np.loadtxt(\"./source_data/mat_drug_disease.txt\")\n",
    "dr_pre=np.loadtxt(\"./source_data/gpcr4_admat_dgc.txt\").T\n",
    "#pre_dis=np.loadtxt(\"./source_data/mat_protein_disease.txt\")\n",
    "#dr_dr=np.loadtxt(\"./source_data/mat_drug_drug.txt\")\n",
    "#dr_se=np.loadtxt(\"./source_data/mat_drug_se.txt\")\n",
    "#pre_pre=np.loadtxt(\"./source_data/mat_protein_protein.txt\")\n",
    "simdr=np.loadtxt(\"./source_data/gpcr_simmat_drug.txt\")\n",
    "simpre=np.loadtxt(\"./source_data/gpcr_simmat_target.txt\")\n",
    "\n",
    "drnum=len(simdr)\n",
    "#disnum=len(dr_dis[0])\n",
    "prenum=len(simpre)\n",
    "\n",
    "index_1 = np.loadtxt(\"./dataset/index_1.txt\")\n",
    "index_0 = np.loadtxt(\"./dataset/index_0.txt\")\n",
    "index = np.hstack((index_1, index_0))\n",
    "reala=dr_pre\n",
    "sr = simdr\n",
    "sd = simpre\n",
    "\n",
    "RR=np.zeros(dr_pre.shape)\n",
    "#A = np.hstack((dr_dr, dr_dis, dr_se))\n",
    "#B = np.hstack((pre_pre, pre_dis))\n",
    "#cutdr_dis = SVD(A, fr)\n",
    "#cutpre_dis = SVD(B, fp)\n",
    "#pre_simdti = cosine_similarity(cutpre_dis, cutpre_dis)\n",
    "#dr_simdti = cosine_similarity(cutdr_dis, cutdr_dis)\n",
    "pre_simdti = np.loadtxt(\"./source_data/S_FGS_p_gpcr.txt\")\n",
    "dr_simdti = np.loadtxt(\"./source_data/S_FGS_d_gpcr.txt\")\n",
    "\n",
    "srfp, spfp = pruning(K=K, drug_mat=dr_simdti, target_mat=pre_simdti, miu=eta)\n",
    "srsp, spsp = pruning(K=K, drug_mat=sr, target_mat=sd, miu=eta)\n",
    "\n",
    "for f in trange(n_fold):\n",
    "    a = np.loadtxt(\"./dataset/DTI\" + str(f) + \".txt\")\n",
    "    idx=index[f,:]\n",
    "   \n",
    "    R = copy.deepcopy(a)\n",
    "    R = BiRW(R, dr_simdti, pre_simdti, a, rs)        \n",
    "    for i in trange(l_1):\n",
    "        R=BiRW(R, srfp, spfp, a, rs/2)\n",
    "    for i in trange(l_2):\n",
    "        R=BiRW(R, srsp, spsp, a, rs/2)\n",
    "\n",
    "    realvalue=np.zeros(R.shape)\n",
    "    #for i in range(len(idx)):\n",
    "        #d=int(idx[i]/prenum)\n",
    "        #p=int(idx[i]%prenum)\n",
    "    \n",
    "        #realvalue[d,p]=reala[d,p]\n",
    "    #for i in range(len(idx)):\n",
    "        #d=int(idx[i]/prenum)\n",
    "        #p=int(idx[i]%prenum)\n",
    "        #RR[d,p]=R[d,p]\n",
    "\n",
    "y_true_m = dr_pre.tolist()\n",
    "y_pre_m =R.tolist()\n",
    "\n",
    "tpr_cov=[[] for i in range(n_fold)]\n",
    "fpr_cov=[[] for i in range(n_fold)]\n",
    "recall_cov=[[] for i in range(n_fold)]\n",
    "precision_cov=[[] for i in range(n_fold)]\n",
    "\n",
    "for f in range(n_fold):\n",
    "    idx=index[f,:]\n",
    "    singal=[[] for i in range(len(y_true_m))]\n",
    "    singal_test=[[] for i in range(len(y_true_m))]\n",
    "    for i in trange(len(y_true_m)):\n",
    "        for j in range(len(y_true_m[0])):\n",
    "            if i*prenum+j in idx:\n",
    "                singal[i].append(y_true_m[i][j])\n",
    "                singal_test[i].append(y_pre_m[i][j])\n",
    "    y_true=singal\n",
    "    y_pre=singal_test\n",
    "\n",
    "    idx = []\n",
    "    tpr_list = []\n",
    "    fpr_list = []\n",
    "    recall_list = []\n",
    "    precision_list = []\n",
    "    c = 0\n",
    "    for i in trange(len(y_true)):\n",
    "        if np.sum(np.array(y_true[i])) == 0:\n",
    "            c += 1\n",
    "            continue\n",
    "        else:\n",
    "            tpr1, fpr1, precision1, recall1 = tpr_fpr_precision_recall(np.array(y_true[i]), np.array(y_pre[i]))\n",
    "            fpr_list.append(fpr1)\n",
    "            tpr_list.append(tpr1)\n",
    "            precision_list.append(precision1)\n",
    "            recall_list.append(recall1)\n",
    "    coverage = []\n",
    "\n",
    "    for i in tpr_list:\n",
    "        try:\n",
    "            coverage.append(i.index(1.0)+1)\n",
    "        except:\n",
    "            print('1')\n",
    "    print(np.mean(np.array(coverage)))\n",
    "\n",
    "    tpr = equal_len_list(tpr_list)\n",
    "    print(len(tpr ),type(tpr))\n",
    "    fpr = equal_len_list(fpr_list)\n",
    "    precision = equal_len_list(precision_list)\n",
    "    recall = equal_len_list(recall_list)\n",
    "    tpr_mean = np.mean(tpr, axis=0)\n",
    "    tpr_cov[f]=tpr_mean\n",
    "    print(type(tpr_mean),len(tpr_mean))\n",
    "    fpr_mean = np.mean(fpr, axis=0)\n",
    "    fpr_cov[f]=fpr_mean\n",
    "    recall_mean = np.mean(recall, axis=0)\n",
    "    recall_cov[f]=recall_mean\n",
    "    precision_mean = np.mean(precision, axis=0)\n",
    "    precision_cov[f]=precision_mean\n",
    "    print('The auc of prediction is:', sklearn.metrics.auc(fpr_mean, tpr_mean))\n",
    "    print('The aupr of prediction is:', sklearn.metrics.auc(recall_mean, precision_mean)+recall_mean[0]*precision_mean[0])\n",
    "\n",
    "tpr = equal_len_list(tpr_cov)\n",
    "fpr = equal_len_list(fpr_cov)\n",
    "precision = equal_len_list(precision_cov)\n",
    "recall = equal_len_list(recall_cov)\n",
    "\n",
    "tpr_mean = np.mean(tpr, axis=0)\n",
    "fpr_mean = np.mean(fpr, axis=0)\n",
    "recall_mean = np.mean(recall, axis=0)\n",
    "precision_mean = np.mean(precision, axis=0)\n",
    "\n",
    "print('The auc of prediction is:', sklearn.metrics.auc(fpr_mean, tpr_mean))\n",
    "print('The aupr of prediction is:', sklearn.metrics.auc(recall_mean, precision_mean)+recall_mean[0]*precision_mean[0])\n",
    "\n",
    "np.savetxt('./result/fpr_list.txt', fpr_mean)\n",
    "np.savetxt('./result/tpr_list.txt', tpr_mean)\n",
    "np.savetxt('./result/recall_list.txt', recall_mean)\n",
    "np.savetxt('./result/precision_list.txt', precision_mean)"
   ]
  },
  {
   "cell_type": "code",
   "execution_count": 3,
   "id": "eef4d348",
   "metadata": {},
   "outputs": [
    {
     "data": {
      "text/plain": [
       "(223, 95)"
      ]
     },
     "execution_count": 3,
     "metadata": {},
     "output_type": "execute_result"
    }
   ],
   "source": [
    "RR.shape"
   ]
  },
  {
   "cell_type": "code",
   "execution_count": 4,
   "id": "20cafac6",
   "metadata": {},
   "outputs": [
    {
     "data": {
      "text/plain": [
       "(223, 95)"
      ]
     },
     "execution_count": 4,
     "metadata": {},
     "output_type": "execute_result"
    }
   ],
   "source": [
    "reala.shape"
   ]
  },
  {
   "cell_type": "code",
   "execution_count": 5,
   "id": "4f8d7e94",
   "metadata": {},
   "outputs": [
    {
     "data": {
      "image/png": "[encoded data removed]",
      "text/plain": [
       "<Figure size 2000x1000 with 2 Axes>"
      ]
     },
     "metadata": {},
     "output_type": "display_data"
    }
   ],
   "source": [
    "# %load draw_fig.py\n",
    "import numpy as np\n",
    "import matplotlib.pyplot as plt\n",
    "from sklearn.metrics import *\n",
    "from tqdm import tqdm\n",
    "import pylab as Plot\n",
    "\n",
    "CPC_FPR = np.loadtxt('./result/fpr_list.txt')\n",
    "CPC_TPR = np.loadtxt('./result/tpr_list.txt')\n",
    "CPC_RECALL = np.loadtxt('./result/recall_list.txt')\n",
    "CPC_P = np.loadtxt('./result/precision_list.txt')\n",
    "\n",
    "\n",
    "\n",
    "plt.figure(1, figsize=(20, 10))\n",
    "plt.subplot(1, 2, 1)\n",
    "plt.rcParams['figure.figsize'] = (4, 4)\n",
    "plt.title('ROC curve', fontsize=15)\n",
    "\n",
    "plt.xticks(fontsize=15)\n",
    "plt.yticks(fontsize=15)\n",
    "plt.xlabel('FPR', fontsize=15)\n",
    "plt.ylabel('TPR', fontsize=15)\n",
    "\n",
    "\n",
    "plt.plot(CPC_FPR, CPC_TPR, 'aqua', label='BRWCP:{:.4f}'.format(auc(CPC_FPR, CPC_TPR)))\n",
    "\n",
    "\n",
    "plt.legend(loc='lower right', fontsize=12)\n",
    "# plt.plot(fpr_mean, tpr_mean)\n",
    "\n",
    "\n",
    "plt.subplot(1, 2, 2)\n",
    "plt.title('PR curve', fontsize=15)\n",
    "plt.xticks(fontsize=15)\n",
    "plt.yticks(fontsize=15)\n",
    "plt.xlabel('Recall', fontsize=15)\n",
    "plt.ylabel('Precision', fontsize=15)\n",
    "\n",
    "plt.plot(CPC_RECALL, CPC_P, 'aqua', label='BRWCP:{:.4f}'.format(auc(CPC_RECALL, CPC_P)+CPC_RECALL[0]*CPC_P[0]))\n",
    "\n",
    "\n",
    "plt.legend(loc='upper right', fontsize=12)\n",
    "plt.show()\n"
   ]
  },
  {
   "cell_type": "markdown",
   "id": "95ace863",
   "metadata": {},
   "source": [
    "# setting2"
   ]
  },
  {
   "cell_type": "code",
   "execution_count": 1,
   "id": "ef48ffac",
   "metadata": {},
   "outputs": [
    {
     "name": "stderr",
     "output_type": "stream",
     "text": [
      "100%|█████████████████████████████████████████████████████████████████████████████████| 10/10 [00:00<00:00, 108.04it/s]\n"
     ]
    }
   ],
   "source": [
    "import random\n",
    "import numpy as np\n",
    "from tqdm import trange\n",
    "import numpy as np\n",
    "\n",
    "fold = 10\n",
    "dr_pre=np.loadtxt(\"./source_data/gpcr4_admat_dgc.txt\").T\n",
    "simdr=np.loadtxt(\"./source_data/gpcr_simmat_drug.txt\")\n",
    "simpre=np.loadtxt(\"./source_data/gpcr_simmat_target.txt\")\n",
    "\n",
    "prenum = len(simpre)\n",
    "drnum = len(simdr)\n",
    "\n",
    "# 获取药物的索引（矩阵的行索引）\n",
    "drug_indices = list(range(dr_pre.shape[0]))\n",
    "num_d = len(drug_indices)\n",
    "\n",
    "group_size1_d = int(num_d / fold)\n",
    "random.seed(10)\n",
    "random.shuffle(drug_indices)\n",
    "\n",
    "array_1=np.array(drug_indices)[0:fold*group_size1_d]\n",
    "group_data1=np.reshape(array_1,(fold,group_size1_d))\n",
    "\n",
    "f = 0\n",
    "for f in trange(fold):\n",
    "    DTI = np.copy(dr_pre)\n",
    "    i=0\n",
    "    while i < group_size1_d:\n",
    "        r = group_data1[f,i ] \n",
    "        c = np.where(DTI[group_data1[f, i], :] == 1)[0]\n",
    "        DTI[r, c] = 0\n",
    "        i += 1  # 得到每次交叉验证中所使用的A矩阵\n",
    "    np.savetxt(\"./dataset/DTI_setting2\"+str(f)+\".txt\",DTI)\n",
    "\n"
   ]
  },
  {
   "cell_type": "code",
   "execution_count": 2,
   "id": "acce63b2",
   "metadata": {},
   "outputs": [
    {
     "name": "stderr",
     "output_type": "stream",
     "text": [
      "  0%|                                                                                           | 0/10 [00:00<?, ?it/s]\n",
      "  0%|                                                                                            | 0/5 [00:00<?, ?it/s]\u001b[A\n",
      "100%|████████████████████████████████████████████████████████████████████████████████████| 5/5 [00:00<00:00, 27.78it/s]\u001b[A\n",
      "\n",
      "  0%|                                                                                            | 0/5 [00:00<?, ?it/s]\u001b[A\n",
      "100%|████████████████████████████████████████████████████████████████████████████████████| 5/5 [00:00<00:00, 25.25it/s]\u001b[A\n",
      " 10%|████████▎                                                                          | 1/10 [00:00<00:04,  2.25it/s]\n",
      "  0%|                                                                                            | 0/5 [00:00<?, ?it/s]\u001b[A\n",
      "100%|████████████████████████████████████████████████████████████████████████████████████| 5/5 [00:00<00:00, 25.57it/s]\u001b[A\n",
      "\n",
      "  0%|                                                                                            | 0/5 [00:00<?, ?it/s]\u001b[A\n",
      "100%|████████████████████████████████████████████████████████████████████████████████████| 5/5 [00:00<00:00, 26.07it/s]\u001b[A\n",
      " 20%|████████████████▌                                                                  | 2/10 [00:00<00:03,  2.24it/s]\n",
      "  0%|                                                                                            | 0/5 [00:00<?, ?it/s]\u001b[A\n",
      "100%|████████████████████████████████████████████████████████████████████████████████████| 5/5 [00:00<00:00, 29.41it/s]\u001b[A\n",
      "\n",
      "  0%|                                                                                            | 0/5 [00:00<?, ?it/s]\u001b[A\n",
      "100%|████████████████████████████████████████████████████████████████████████████████████| 5/5 [00:00<00:00, 27.55it/s]\u001b[A\n",
      " 30%|████████████████████████▉                                                          | 3/10 [00:01<00:02,  2.34it/s]\n",
      "  0%|                                                                                            | 0/5 [00:00<?, ?it/s]\u001b[A\n",
      "100%|████████████████████████████████████████████████████████████████████████████████████| 5/5 [00:00<00:00, 25.41it/s]\u001b[A\n",
      "\n",
      "  0%|                                                                                            | 0/5 [00:00<?, ?it/s]\u001b[A\n",
      "100%|████████████████████████████████████████████████████████████████████████████████████| 5/5 [00:00<00:00, 26.50it/s]\u001b[A\n",
      " 40%|█████████████████████████████████▏                                                 | 4/10 [00:01<00:02,  2.31it/s]\n",
      "  0%|                                                                                            | 0/5 [00:00<?, ?it/s]\u001b[A\n",
      "100%|████████████████████████████████████████████████████████████████████████████████████| 5/5 [00:00<00:00, 25.91it/s]\u001b[A\n",
      "\n",
      "  0%|                                                                                            | 0/5 [00:00<?, ?it/s]\u001b[A\n",
      "100%|████████████████████████████████████████████████████████████████████████████████████| 5/5 [00:00<00:00, 24.87it/s]\u001b[A\n",
      " 50%|█████████████████████████████████████████▌                                         | 5/10 [00:02<00:02,  2.27it/s]\n",
      "  0%|                                                                                            | 0/5 [00:00<?, ?it/s]\u001b[A\n",
      "100%|████████████████████████████████████████████████████████████████████████████████████| 5/5 [00:00<00:00, 23.81it/s]\u001b[A\n",
      "\n",
      "  0%|                                                                                            | 0/5 [00:00<?, ?it/s]\u001b[A\n",
      "100%|████████████████████████████████████████████████████████████████████████████████████| 5/5 [00:00<00:00, 26.74it/s]\u001b[A\n",
      " 60%|█████████████████████████████████████████████████▊                                 | 6/10 [00:02<00:01,  2.24it/s]\n",
      "  0%|                                                                                            | 0/5 [00:00<?, ?it/s]\u001b[A\n",
      "100%|████████████████████████████████████████████████████████████████████████████████████| 5/5 [00:00<00:00, 26.67it/s]\u001b[A\n",
      "\n",
      "  0%|                                                                                            | 0/5 [00:00<?, ?it/s]\u001b[A\n",
      "100%|████████████████████████████████████████████████████████████████████████████████████| 5/5 [00:00<00:00, 27.70it/s]\u001b[A\n",
      " 70%|██████████████████████████████████████████████████████████                         | 7/10 [00:03<00:01,  2.26it/s]\n",
      "  0%|                                                                                            | 0/5 [00:00<?, ?it/s]\u001b[A\n",
      "100%|████████████████████████████████████████████████████████████████████████████████████| 5/5 [00:00<00:00, 28.25it/s]\u001b[A\n",
      "\n",
      "  0%|                                                                                            | 0/5 [00:00<?, ?it/s]\u001b[A\n",
      "100%|████████████████████████████████████████████████████████████████████████████████████| 5/5 [00:00<00:00, 27.03it/s]\u001b[A\n",
      " 80%|██████████████████████████████████████████████████████████████████▍                | 8/10 [00:03<00:00,  2.29it/s]\n",
      "  0%|                                                                                            | 0/5 [00:00<?, ?it/s]\u001b[A\n",
      "100%|████████████████████████████████████████████████████████████████████████████████████| 5/5 [00:00<00:00, 27.08it/s]\u001b[A\n",
      "\n",
      "  0%|                                                                                            | 0/5 [00:00<?, ?it/s]\u001b[A\n",
      "100%|████████████████████████████████████████████████████████████████████████████████████| 5/5 [00:00<00:00, 25.90it/s]\u001b[A\n",
      " 90%|██████████████████████████████████████████████████████████████████████████▋        | 9/10 [00:03<00:00,  2.29it/s]\n",
      "  0%|                                                                                            | 0/5 [00:00<?, ?it/s]\u001b[A\n",
      "100%|████████████████████████████████████████████████████████████████████████████████████| 5/5 [00:00<00:00, 27.10it/s]\u001b[A\n",
      "\n",
      "  0%|                                                                                            | 0/5 [00:00<?, ?it/s]\u001b[A\n",
      "100%|████████████████████████████████████████████████████████████████████████████████████| 5/5 [00:00<00:00, 27.03it/s]\u001b[A\n",
      "100%|██████████████████████████████████████████████████████████████████████████████████| 10/10 [00:04<00:00,  2.29it/s]\n",
      "100%|██████████████████████████████████████████████████████████████████████████████| 223/223 [00:00<00:00, 3685.45it/s]\n",
      "100%|██████████████████████████████████████████████████████████████████████████████| 223/223 [00:00<00:00, 6194.40it/s]\n"
     ]
    },
    {
     "name": "stdout",
     "output_type": "stream",
     "text": [
      "7.090909090909091\n",
      "22 <class 'list'>\n",
      "<class 'numpy.ndarray'> 95\n",
      "The auc of prediction is: 0.982708149229881\n",
      "The aupr of prediction is: 0.832347434015618\n"
     ]
    },
    {
     "name": "stderr",
     "output_type": "stream",
     "text": [
      "100%|██████████████████████████████████████████████████████████████████████████████| 223/223 [00:00<00:00, 3625.63it/s]\n",
      "100%|██████████████████████████████████████████████████████████████████████████████| 223/223 [00:00<00:00, 6559.21it/s]\n"
     ]
    },
    {
     "name": "stdout",
     "output_type": "stream",
     "text": [
      "4.818181818181818\n",
      "22 <class 'list'>\n",
      "<class 'numpy.ndarray'> 95\n",
      "The auc of prediction is: 0.989935719231921\n",
      "The aupr of prediction is: 0.8619145511727139\n"
     ]
    },
    {
     "name": "stderr",
     "output_type": "stream",
     "text": [
      "100%|██████████████████████████████████████████████████████████████████████████████| 223/223 [00:00<00:00, 4091.31it/s]\n",
      "100%|██████████████████████████████████████████████████████████████████████████████| 223/223 [00:00<00:00, 8259.57it/s]\n"
     ]
    },
    {
     "name": "stdout",
     "output_type": "stream",
     "text": [
      "6.2272727272727275\n",
      "22 <class 'list'>\n",
      "<class 'numpy.ndarray'> 95\n",
      "The auc of prediction is: 0.9897890255133849\n",
      "The aupr of prediction is: 0.8800923176637134\n"
     ]
    },
    {
     "name": "stderr",
     "output_type": "stream",
     "text": [
      "100%|██████████████████████████████████████████████████████████████████████████████| 223/223 [00:00<00:00, 4121.85it/s]\n",
      "100%|██████████████████████████████████████████████████████████████████████████████| 223/223 [00:00<00:00, 7192.41it/s]\n"
     ]
    },
    {
     "name": "stdout",
     "output_type": "stream",
     "text": [
      "6.090909090909091\n",
      "22 <class 'list'>\n",
      "<class 'numpy.ndarray'> 95\n",
      "The auc of prediction is: 0.987200362134424\n",
      "The aupr of prediction is: 0.8473199877316161\n"
     ]
    },
    {
     "name": "stderr",
     "output_type": "stream",
     "text": [
      "100%|██████████████████████████████████████████████████████████████████████████████| 223/223 [00:00<00:00, 4596.01it/s]\n",
      "100%|██████████████████████████████████████████████████████████████████████████████| 223/223 [00:00<00:00, 7677.15it/s]\n"
     ]
    },
    {
     "name": "stdout",
     "output_type": "stream",
     "text": [
      "6.863636363636363\n",
      "22 <class 'list'>\n",
      "<class 'numpy.ndarray'> 95\n",
      "The auc of prediction is: 0.9849483341210217\n",
      "The aupr of prediction is: 0.840945765809805\n"
     ]
    },
    {
     "name": "stderr",
     "output_type": "stream",
     "text": [
      "100%|██████████████████████████████████████████████████████████████████████████████| 223/223 [00:00<00:00, 4848.68it/s]\n",
      "100%|██████████████████████████████████████████████████████████████████████████████| 223/223 [00:00<00:00, 8066.25it/s]\n"
     ]
    },
    {
     "name": "stdout",
     "output_type": "stream",
     "text": [
      "6.863636363636363\n",
      "22 <class 'list'>\n",
      "<class 'numpy.ndarray'> 95\n",
      "The auc of prediction is: 0.9833187799935291\n",
      "The aupr of prediction is: 0.8501220898475901\n"
     ]
    },
    {
     "name": "stderr",
     "output_type": "stream",
     "text": [
      "100%|██████████████████████████████████████████████████████████████████████████████| 223/223 [00:00<00:00, 4551.08it/s]\n",
      "100%|██████████████████████████████████████████████████████████████████████████████| 223/223 [00:00<00:00, 7068.96it/s]\n"
     ]
    },
    {
     "name": "stdout",
     "output_type": "stream",
     "text": [
      "9.090909090909092\n",
      "22 <class 'list'>\n",
      "<class 'numpy.ndarray'> 95\n",
      "The auc of prediction is: 0.9787577793744214\n",
      "The aupr of prediction is: 0.8214261342120561\n"
     ]
    },
    {
     "name": "stderr",
     "output_type": "stream",
     "text": [
      "100%|██████████████████████████████████████████████████████████████████████████████| 223/223 [00:00<00:00, 3779.64it/s]\n",
      "100%|██████████████████████████████████████████████████████████████████████████████| 223/223 [00:00<00:00, 7546.94it/s]\n"
     ]
    },
    {
     "name": "stdout",
     "output_type": "stream",
     "text": [
      "7.454545454545454\n",
      "22 <class 'list'>\n",
      "<class 'numpy.ndarray'> 95\n",
      "The auc of prediction is: 0.9805422880653937\n",
      "The aupr of prediction is: 0.8221723470986588\n"
     ]
    },
    {
     "name": "stderr",
     "output_type": "stream",
     "text": [
      "100%|██████████████████████████████████████████████████████████████████████████████| 223/223 [00:00<00:00, 4460.05it/s]\n",
      "100%|██████████████████████████████████████████████████████████████████████████████| 223/223 [00:00<00:00, 7686.17it/s]\n"
     ]
    },
    {
     "name": "stdout",
     "output_type": "stream",
     "text": [
      "7.5\n",
      "22 <class 'list'>\n",
      "<class 'numpy.ndarray'> 95\n",
      "The auc of prediction is: 0.9825087547387632\n",
      "The aupr of prediction is: 0.8222867561154373\n"
     ]
    },
    {
     "name": "stderr",
     "output_type": "stream",
     "text": [
      "100%|██████████████████████████████████████████████████████████████████████████████| 223/223 [00:00<00:00, 4504.55it/s]\n",
      "100%|██████████████████████████████████████████████████████████████████████████████| 223/223 [00:00<00:00, 7689.45it/s]"
     ]
    },
    {
     "name": "stdout",
     "output_type": "stream",
     "text": [
      "63.5\n",
      "22 <class 'list'>\n",
      "<class 'numpy.ndarray'> 95\n",
      "The auc of prediction is: 0.5457977531850301\n",
      "The aupr of prediction is: 0.11617449863640114\n",
      "The auc of prediction is: 0.9413394467801488\n",
      "The aupr of prediction is: 0.7112344743464543\n",
      "Runtime: 5.304995059967041\n"
     ]
    },
    {
     "name": "stderr",
     "output_type": "stream",
     "text": [
      "\n"
     ]
    }
   ],
   "source": [
    "# %load run_main.py\n",
    "import numpy as np\n",
    "from function import *\n",
    "from tqdm import trange\n",
    "from sklearn.metrics.pairwise import cosine_similarity\n",
    "import sklearn.metrics\n",
    "import copy\n",
    "import time\n",
    "rs = 0.6\n",
    "n_fold=10\n",
    "eta=0.7\n",
    "l_1=5\n",
    "l_2=5\n",
    "fr=500\n",
    "fp=300\n",
    "K=20\n",
    "dr_pre=np.loadtxt(\"./source_data/gpcr4_admat_dgc.txt\").T\n",
    "simdr=np.loadtxt(\"./source_data/gpcr_simmat_drug.txt\")\n",
    "simpre=np.loadtxt(\"./source_data/gpcr_simmat_target.txt\")\n",
    "\n",
    "drnum=len(simdr)     #药物的数目\n",
    "#disnum=len(dr_dis[0])     #副作用的数目\n",
    "prenum=len(simpre)     #蛋白质的数目\n",
    "\n",
    "\n",
    "#index_1 = np.loadtxt(\"./dataset/index_1.txt\")\n",
    "#index_0 = np.loadtxt(\"./dataset/index_0.txt\")\n",
    "#index = np.hstack((index_1, index_0))     #水平拼接\n",
    "reala=dr_pre\n",
    "sr = simdr\n",
    "sd = simpre/100\n",
    "\n",
    "RR=np.zeros(dr_pre.shape)       #原始的邻接矩阵\n",
    "#A = np.hstack((dr_dr, dr_dis, dr_se))       #Fr\n",
    "#B = np.hstack((pre_pre, pre_dis))         #Fp\n",
    "#cutdr_dis = SVD(A, fr)    #奇异值分解    Fr'\n",
    "#cutpre_dis = SVD(B, fp)     #奇异值分解    Fp'\n",
    "#pre_simdti = cosine_similarity(cutpre_dis, cutpre_dis)    #计算余弦相似度   SrF\n",
    "#dr_simdti = cosine_similarity(cutdr_dis, cutdr_dis)        #计算余弦相似度   SpF\n",
    "pre_simdti = np.loadtxt(\"./source_data/S_FGS_p_gpcr.txt\")\n",
    "dr_simdti = np.loadtxt(\"./source_data/S_FGS_d_gpcr.txt\")\n",
    "\n",
    "# 获取药物的索引（矩阵的行索引）\n",
    "drug_indices = list(range(dr_pre.shape[0]))\n",
    "num_d = len(drug_indices)\n",
    "\n",
    "group_size1_d = int(num_d / fold)\n",
    "random.seed(10)\n",
    "random.shuffle(drug_indices)\n",
    "\n",
    "array_1=np.array(drug_indices)[0:fold*group_size1_d]\n",
    "group_data1=np.reshape(array_1,(fold,group_size1_d))\n",
    "# 获取靶点的索引（矩阵的列索引）\n",
    "protein_indices = list(range(dr_pre.shape[1]))\n",
    "\n",
    "# 记录开始时间\n",
    "start_time = time.time()\n",
    "\n",
    "srfp, spfp = pruning(K=K, drug_mat=dr_simdti, target_mat=pre_simdti, miu=eta)\n",
    "srsp, spsp = pruning(K=K, drug_mat=sr, target_mat=sd, miu=eta)\n",
    "\n",
    "for f in trange(n_fold):\n",
    "    a = np.loadtxt(\"./dataset/DTI_setting2\" + str(f) + \".txt\")\n",
    "    #idx=index[f,:]\n",
    "   \n",
    "    R = copy.deepcopy(a)\n",
    "    R = BiRW(R, dr_simdti, pre_simdti, a, rs)        \n",
    "    for i in trange(l_1):\n",
    "        R=BiRW(R, srfp, spfp, a, rs/2)\n",
    "    for i in trange(l_2):\n",
    "        R=BiRW(R, srsp, spsp, a, rs/2)\n",
    "\n",
    "    realvalue=np.zeros(R.shape)\n",
    "    for i in range(len(group_data1[f, :])): \n",
    "        d=group_data1[f, i]\n",
    "        p=np.where(DTI[group_data1[f, i], :] == 1)[0]\n",
    "        realvalue[d,p]=reala[d,p]\n",
    "    for i in range(len(group_data1[f, :])): \n",
    "        d=group_data1[f, i]\n",
    "        p=np.where(DTI[group_data1[f, i], :] == 1)[0]\n",
    "        RR[d,p]=R[d,p]\n",
    "\n",
    "y_true_m = dr_pre.tolist()\n",
    "y_pre_m = RR.tolist()\n",
    "\n",
    "tpr_cov=[[] for i in range(n_fold)]\n",
    "fpr_cov=[[] for i in range(n_fold)]\n",
    "recall_cov=[[] for i in range(n_fold)]\n",
    "precision_cov=[[] for i in range(n_fold)]\n",
    "\n",
    "for f in range(n_fold):\n",
    "    #idx=index[f,:]\n",
    "    singal=[[] for i in range(len(y_true_m))]\n",
    "    singal_test=[[] for i in range(len(y_true_m))]\n",
    "    for i in trange(len(y_true_m)):\n",
    "        for j in range(len(y_true_m[0])):\n",
    "            if i in group_data1[f, :] and j in protein_indices :\n",
    "                singal[i].append(y_true_m[i][j])\n",
    "                singal_test[i].append(y_pre_m[i][j])\n",
    "    y_true=singal\n",
    "    y_pre=singal_test\n",
    "\n",
    "    idx = []\n",
    "    tpr_list = []\n",
    "    fpr_list = []\n",
    "    recall_list = []\n",
    "    precision_list = []\n",
    "    c = 0\n",
    "    for i in trange(len(y_true)):\n",
    "        if np.sum(np.array(y_true[i])) == 0:\n",
    "            c += 1\n",
    "            continue\n",
    "        else:\n",
    "            tpr1, fpr1, precision1, recall1 = tpr_fpr_precision_recall(np.array(y_true[i]), np.array(y_pre[i]))\n",
    "            fpr_list.append(fpr1)\n",
    "            tpr_list.append(tpr1)\n",
    "            precision_list.append(precision1)\n",
    "            recall_list.append(recall1)\n",
    "    coverage = []\n",
    "\n",
    "    for i in tpr_list:\n",
    "        try:\n",
    "            coverage.append(i.index(1.0)+1)\n",
    "        except:\n",
    "            print('1')\n",
    "    print(np.mean(np.array(coverage)))\n",
    "\n",
    "    tpr = equal_len_list(tpr_list)\n",
    "    print(len(tpr ),type(tpr))\n",
    "    fpr = equal_len_list(fpr_list)\n",
    "    precision = equal_len_list(precision_list)\n",
    "    recall = equal_len_list(recall_list)\n",
    "    tpr_mean = np.mean(tpr, axis=0)\n",
    "    tpr_cov[f]=tpr_mean\n",
    "    print(type(tpr_mean),len(tpr_mean))\n",
    "    fpr_mean = np.mean(fpr, axis=0)\n",
    "    fpr_cov[f]=fpr_mean\n",
    "    recall_mean = np.mean(recall, axis=0)\n",
    "    recall_cov[f]=recall_mean\n",
    "    precision_mean = np.mean(precision, axis=0)\n",
    "    precision_cov[f]=precision_mean\n",
    "    print('The auc of prediction is:', sklearn.metrics.auc(fpr_mean, tpr_mean))\n",
    "    print('The aupr of prediction is:', sklearn.metrics.auc(recall_mean, precision_mean)+recall_mean[0]*precision_mean[0])\n",
    "\n",
    "tpr = equal_len_list(tpr_cov)\n",
    "fpr = equal_len_list(fpr_cov)\n",
    "precision = equal_len_list(precision_cov)\n",
    "recall = equal_len_list(recall_cov)\n",
    "\n",
    "tpr_mean_snf = np.mean(tpr, axis=0)\n",
    "fpr_mean_snf = np.mean(fpr, axis=0)\n",
    "recall_mean_snf = np.mean(recall, axis=0)\n",
    "precision_mean_snf = np.mean(precision, axis=0)\n",
    "\n",
    "# 记录结束时间并计算运行时间\n",
    "end_time = time.time()\n",
    "runtime = end_time - start_time\n",
    "\n",
    "print('The auc of prediction is:', sklearn.metrics.auc(fpr_mean_snf, tpr_mean_snf))\n",
    "print('The aupr of prediction is:', sklearn.metrics.auc(recall_mean_snf, precision_mean_snf)+recall_mean_snf[0]*precision_mean_snf[0])\n",
    "# 打印灵敏度和运行时间\n",
    "\n",
    "print('Runtime:', runtime)\n",
    "#np.savetxt('./result/fpr_list_snf.txt', fpr_mean_snf)\n",
    "#np.savetxt('./result/tpr_list.txt_snf', tpr_mean_snf)\n",
    "#np.savetxt('./result/recall_list.txt_snf', recall_mean_snf)\n",
    "#np.savetxt('./result/precision_list.txt_snf', precision_mean_snf)\n",
    "\n",
    "\n",
    "\n",
    "\n"
   ]
  },
  {
   "cell_type": "markdown",
   "id": "e4492742",
   "metadata": {},
   "source": [
    "# setting3"
   ]
  },
  {
   "cell_type": "code",
   "execution_count": 3,
   "id": "375466e6",
   "metadata": {},
   "outputs": [
    {
     "name": "stderr",
     "output_type": "stream",
     "text": [
      "100%|██████████████████████████████████████████████████████████████████████████████████| 10/10 [00:00<00:00, 83.57it/s]\n"
     ]
    }
   ],
   "source": [
    "import random\n",
    "import numpy as np\n",
    "from tqdm import trange\n",
    "import numpy as np\n",
    "\n",
    "fold = 10\n",
    "dr_pre=np.loadtxt(\"./source_data/gpcr4_admat_dgc.txt\").T\n",
    "simdr=np.loadtxt(\"./source_data/gpcr_simmat_drug.txt\")\n",
    "simpre=np.loadtxt(\"./source_data/gpcr_simmat_target.txt\")\n",
    "\n",
    "prenum = len(simpre)\n",
    "drnum = len(simdr)\n",
    "\n",
    "# 获取药物的索引（矩阵的行索引）\n",
    "drug_indices = list(range(dr_pre.shape[0]))\n",
    "num_d = len(drug_indices)\n",
    "group_size1_d = int(num_d / fold)\n",
    "random.seed(10)\n",
    "random.shuffle(drug_indices)\n",
    "\n",
    "# 获取靶点的索引（矩阵的列索引）\n",
    "protein_indices = list(range(dr_pre.shape[1]))\n",
    "num_p = len(protein_indices)\n",
    "group_size1_p = int(num_p / fold)\n",
    "random.seed(10)\n",
    "random.shuffle(protein_indices)\n",
    "\n",
    "array_1_p=np.array(protein_indices)[0:fold*group_size1_p]\n",
    "group_data1_p=np.reshape(array_1_p,(fold,group_size1_p))\n",
    "\n",
    "f = 0\n",
    "for f in trange(fold):\n",
    "    DTI = np.copy(dr_pre)\n",
    "    i=0\n",
    "    while i < group_size1_p:\n",
    "        r = np.where(dr_pre[:, group_data1_p[f, i]] == 1)[0]\n",
    "        c = group_data1_p[f, i]\n",
    "        DTI[r, c] = 0\n",
    "        i += 1  # 得到每次交叉验证中所使用的A矩阵\n",
    "    np.savetxt(\"./dataset/DTI_setting3\"+str(f)+\".txt\",DTI)\n",
    "\n"
   ]
  },
  {
   "cell_type": "code",
   "execution_count": 4,
   "id": "0a32eacb",
   "metadata": {},
   "outputs": [
    {
     "name": "stderr",
     "output_type": "stream",
     "text": [
      "  0%|                                                                                           | 0/10 [00:00<?, ?it/s]\n",
      "  0%|                                                                                            | 0/5 [00:00<?, ?it/s]\u001b[A\n",
      "100%|████████████████████████████████████████████████████████████████████████████████████| 5/5 [00:00<00:00, 27.25it/s]\u001b[A\n",
      "\n",
      "  0%|                                                                                            | 0/5 [00:00<?, ?it/s]\u001b[A\n",
      "100%|████████████████████████████████████████████████████████████████████████████████████| 5/5 [00:00<00:00, 24.27it/s]\u001b[A\n",
      " 10%|████████▎                                                                          | 1/10 [00:00<00:04,  2.22it/s]\n",
      "  0%|                                                                                            | 0/5 [00:00<?, ?it/s]\u001b[A\n",
      "100%|████████████████████████████████████████████████████████████████████████████████████| 5/5 [00:00<00:00, 23.58it/s]\u001b[A\n",
      "\n",
      "  0%|                                                                                            | 0/5 [00:00<?, ?it/s]\u001b[A\n",
      "100%|████████████████████████████████████████████████████████████████████████████████████| 5/5 [00:00<00:00, 23.15it/s]\u001b[A\n",
      " 20%|████████████████▌                                                                  | 2/10 [00:00<00:03,  2.09it/s]\n",
      "  0%|                                                                                            | 0/5 [00:00<?, ?it/s]\u001b[A\n",
      "100%|████████████████████████████████████████████████████████████████████████████████████| 5/5 [00:00<00:00, 27.62it/s]\u001b[A\n",
      "\n",
      "  0%|                                                                                            | 0/5 [00:00<?, ?it/s]\u001b[A\n",
      "100%|████████████████████████████████████████████████████████████████████████████████████| 5/5 [00:00<00:00, 26.04it/s]\u001b[A\n",
      " 30%|████████████████████████▉                                                          | 3/10 [00:01<00:03,  2.16it/s]\n",
      "  0%|                                                                                            | 0/5 [00:00<?, ?it/s]\u001b[A\n",
      "100%|████████████████████████████████████████████████████████████████████████████████████| 5/5 [00:00<00:00, 27.78it/s]\u001b[A\n",
      "\n",
      "  0%|                                                                                            | 0/5 [00:00<?, ?it/s]\u001b[A\n",
      "100%|████████████████████████████████████████████████████████████████████████████████████| 5/5 [00:00<00:00, 26.74it/s]\u001b[A\n",
      " 40%|█████████████████████████████████▏                                                 | 4/10 [00:01<00:02,  2.24it/s]\n",
      "  0%|                                                                                            | 0/5 [00:00<?, ?it/s]\u001b[A\n",
      "100%|████████████████████████████████████████████████████████████████████████████████████| 5/5 [00:00<00:00, 25.06it/s]\u001b[A\n",
      "\n",
      "  0%|                                                                                            | 0/5 [00:00<?, ?it/s]\u001b[A\n",
      "100%|████████████████████████████████████████████████████████████████████████████████████| 5/5 [00:00<00:00, 28.09it/s]\u001b[A\n",
      " 50%|█████████████████████████████████████████▌                                         | 5/10 [00:02<00:02,  2.24it/s]\n",
      "  0%|                                                                                            | 0/5 [00:00<?, ?it/s]\u001b[A\n",
      "100%|████████████████████████████████████████████████████████████████████████████████████| 5/5 [00:00<00:00, 25.12it/s]\u001b[A\n",
      "\n",
      "  0%|                                                                                            | 0/5 [00:00<?, ?it/s]\u001b[A\n",
      "100%|████████████████████████████████████████████████████████████████████████████████████| 5/5 [00:00<00:00, 23.69it/s]\u001b[A\n",
      " 60%|█████████████████████████████████████████████████▊                                 | 6/10 [00:02<00:01,  2.20it/s]\n",
      "  0%|                                                                                            | 0/5 [00:00<?, ?it/s]\u001b[A\n",
      "100%|████████████████████████████████████████████████████████████████████████████████████| 5/5 [00:00<00:00, 25.18it/s]\u001b[A\n",
      "\n",
      "  0%|                                                                                            | 0/5 [00:00<?, ?it/s]\u001b[A\n",
      "100%|████████████████████████████████████████████████████████████████████████████████████| 5/5 [00:00<00:00, 24.56it/s]\u001b[A\n",
      " 70%|██████████████████████████████████████████████████████████                         | 7/10 [00:03<00:01,  2.14it/s]\n",
      "  0%|                                                                                            | 0/5 [00:00<?, ?it/s]\u001b[A\n",
      "100%|████████████████████████████████████████████████████████████████████████████████████| 5/5 [00:00<00:00, 24.04it/s]\u001b[A\n",
      "\n",
      "  0%|                                                                                            | 0/5 [00:00<?, ?it/s]\u001b[A\n",
      "100%|████████████████████████████████████████████████████████████████████████████████████| 5/5 [00:00<00:00, 26.59it/s]\u001b[A\n",
      " 80%|██████████████████████████████████████████████████████████████████▍                | 8/10 [00:03<00:00,  2.16it/s]\n",
      "  0%|                                                                                            | 0/5 [00:00<?, ?it/s]\u001b[A\n",
      "100%|████████████████████████████████████████████████████████████████████████████████████| 5/5 [00:00<00:00, 27.62it/s]\u001b[A\n",
      "\n",
      "  0%|                                                                                            | 0/5 [00:00<?, ?it/s]\u001b[A\n",
      "100%|████████████████████████████████████████████████████████████████████████████████████| 5/5 [00:00<00:00, 25.19it/s]\u001b[A\n",
      " 90%|██████████████████████████████████████████████████████████████████████████▋        | 9/10 [00:04<00:00,  2.20it/s]\n",
      "  0%|                                                                                            | 0/5 [00:00<?, ?it/s]\u001b[A\n",
      "100%|████████████████████████████████████████████████████████████████████████████████████| 5/5 [00:00<00:00, 22.11it/s]\u001b[A\n",
      "\n",
      "  0%|                                                                                            | 0/5 [00:00<?, ?it/s]\u001b[A\n",
      "100%|████████████████████████████████████████████████████████████████████████████████████| 5/5 [00:00<00:00, 23.52it/s]\u001b[A\n",
      "100%|██████████████████████████████████████████████████████████████████████████████████| 10/10 [00:04<00:00,  2.17it/s]\n",
      "100%|██████████████████████████████████████████████████████████████████████████████| 223/223 [00:00<00:00, 2093.83it/s]\n",
      "100%|█████████████████████████████████████████████████████████████████████████████| 223/223 [00:00<00:00, 10135.23it/s]\n"
     ]
    },
    {
     "name": "stdout",
     "output_type": "stream",
     "text": [
      "1.684782608695652\n",
      "92 <class 'list'>\n",
      "<class 'numpy.ndarray'> 9\n",
      "The auc of prediction is: 0.98665921915789\n",
      "The aupr of prediction is: 0.9548469990548204\n"
     ]
    },
    {
     "name": "stderr",
     "output_type": "stream",
     "text": [
      "100%|██████████████████████████████████████████████████████████████████████████████| 223/223 [00:00<00:00, 2263.67it/s]\n",
      "100%|█████████████████████████████████████████████████████████████████████████████| 223/223 [00:00<00:00, 13936.02it/s]\n"
     ]
    },
    {
     "name": "stdout",
     "output_type": "stream",
     "text": [
      "2.509433962264151\n",
      "106 <class 'list'>\n",
      "<class 'numpy.ndarray'> 9\n",
      "The auc of prediction is: 0.962044620001792\n",
      "The aupr of prediction is: 0.9095309895347721\n"
     ]
    },
    {
     "name": "stderr",
     "output_type": "stream",
     "text": [
      "100%|██████████████████████████████████████████████████████████████████████████████| 223/223 [00:00<00:00, 3229.92it/s]\n",
      "100%|█████████████████████████████████████████████████████████████████████████████| 223/223 [00:00<00:00, 13513.98it/s]\n"
     ]
    },
    {
     "name": "stdout",
     "output_type": "stream",
     "text": [
      "1.8487394957983194\n",
      "119 <class 'list'>\n",
      "<class 'numpy.ndarray'> 9\n",
      "The auc of prediction is: 0.9767197004852362\n",
      "The aupr of prediction is: 0.933238736671139\n"
     ]
    },
    {
     "name": "stderr",
     "output_type": "stream",
     "text": [
      "100%|██████████████████████████████████████████████████████████████████████████████| 223/223 [00:00<00:00, 3456.91it/s]\n",
      "100%|█████████████████████████████████████████████████████████████████████████████| 223/223 [00:00<00:00, 31830.18it/s]\n"
     ]
    },
    {
     "name": "stdout",
     "output_type": "stream",
     "text": [
      "1.205128205128205\n",
      "39 <class 'list'>\n",
      "<class 'numpy.ndarray'> 9\n",
      "The auc of prediction is: 0.9921040942675557\n",
      "The aupr of prediction is: 0.9752607020235226\n"
     ]
    },
    {
     "name": "stderr",
     "output_type": "stream",
     "text": [
      "100%|██████████████████████████████████████████████████████████████████████████████| 223/223 [00:00<00:00, 2873.42it/s]\n",
      "100%|█████████████████████████████████████████████████████████████████████████████| 223/223 [00:00<00:00, 37185.62it/s]\n"
     ]
    },
    {
     "name": "stdout",
     "output_type": "stream",
     "text": [
      "1.125\n",
      "40 <class 'list'>\n",
      "<class 'numpy.ndarray'> 9\n",
      "The auc of prediction is: 0.99658203125\n",
      "The aupr of prediction is: 0.986328125\n"
     ]
    },
    {
     "name": "stderr",
     "output_type": "stream",
     "text": [
      "100%|██████████████████████████████████████████████████████████████████████████████| 223/223 [00:00<00:00, 3556.97it/s]\n",
      "100%|█████████████████████████████████████████████████████████████████████████████| 223/223 [00:00<00:00, 15929.45it/s]\n"
     ]
    },
    {
     "name": "stdout",
     "output_type": "stream",
     "text": [
      "1.5588235294117647\n",
      "102 <class 'list'>\n",
      "<class 'numpy.ndarray'> 9\n",
      "The auc of prediction is: 0.9889783119130006\n",
      "The aupr of prediction is: 0.9598471741637832\n"
     ]
    },
    {
     "name": "stderr",
     "output_type": "stream",
     "text": [
      "100%|██████████████████████████████████████████████████████████████████████████████| 223/223 [00:00<00:00, 3559.08it/s]\n",
      "100%|█████████████████████████████████████████████████████████████████████████████| 223/223 [00:00<00:00, 18521.75it/s]\n"
     ]
    },
    {
     "name": "stdout",
     "output_type": "stream",
     "text": [
      "2.045977011494253\n",
      "87 <class 'list'>\n",
      "<class 'numpy.ndarray'> 9\n",
      "The auc of prediction is: 0.9722993875843374\n",
      "The aupr of prediction is: 0.9280642241042275\n"
     ]
    },
    {
     "name": "stderr",
     "output_type": "stream",
     "text": [
      "100%|██████████████████████████████████████████████████████████████████████████████| 223/223 [00:00<00:00, 3070.72it/s]\n",
      "100%|█████████████████████████████████████████████████████████████████████████████| 223/223 [00:00<00:00, 17154.46it/s]\n"
     ]
    },
    {
     "name": "stdout",
     "output_type": "stream",
     "text": [
      "1.2023809523809523\n",
      "84 <class 'list'>\n",
      "<class 'numpy.ndarray'> 9\n",
      "The auc of prediction is: 0.9942048433956916\n",
      "The aupr of prediction is: 0.9788285974111867\n"
     ]
    },
    {
     "name": "stderr",
     "output_type": "stream",
     "text": [
      "100%|██████████████████████████████████████████████████████████████████████████████| 223/223 [00:00<00:00, 2768.52it/s]\n",
      "100%|█████████████████████████████████████████████████████████████████████████████| 223/223 [00:00<00:00, 14825.09it/s]\n"
     ]
    },
    {
     "name": "stdout",
     "output_type": "stream",
     "text": [
      "2.0357142857142856\n",
      "112 <class 'list'>\n",
      "<class 'numpy.ndarray'> 9\n",
      "The auc of prediction is: 0.9710205789905249\n",
      "The aupr of prediction is: 0.9221837354733561\n"
     ]
    },
    {
     "name": "stderr",
     "output_type": "stream",
     "text": [
      "100%|██████████████████████████████████████████████████████████████████████████████| 223/223 [00:00<00:00, 3159.05it/s]\n",
      "100%|█████████████████████████████████████████████████████████████████████████████| 223/223 [00:00<00:00, 17152.89it/s]"
     ]
    },
    {
     "name": "stdout",
     "output_type": "stream",
     "text": [
      "1.5119047619047619\n",
      "84 <class 'list'>\n",
      "<class 'numpy.ndarray'> 9\n",
      "The auc of prediction is: 0.9878296122516467\n",
      "The aupr of prediction is: 0.9574254180839002\n",
      "The auc of prediction is: 0.9801801832897461\n",
      "The aupr of prediction is: 0.9427848038742822\n",
      "Runtime: 5.630863904953003\n"
     ]
    },
    {
     "name": "stderr",
     "output_type": "stream",
     "text": [
      "\n"
     ]
    }
   ],
   "source": [
    "# %load run_main.py\n",
    "import numpy as np\n",
    "from function import *\n",
    "from tqdm import trange\n",
    "from sklearn.metrics.pairwise import cosine_similarity\n",
    "import sklearn.metrics\n",
    "import copy\n",
    "import time\n",
    "rs = 0.6\n",
    "n_fold=10\n",
    "eta=0.7\n",
    "l_1=5\n",
    "l_2=5\n",
    "fr=500\n",
    "fp=300\n",
    "K=20\n",
    "dr_pre=np.loadtxt(\"./source_data/gpcr4_admat_dgc.txt\").T\n",
    "simdr=np.loadtxt(\"./source_data/gpcr_simmat_drug.txt\")\n",
    "simpre=np.loadtxt(\"./source_data/gpcr_simmat_target.txt\")\n",
    "\n",
    "drnum=len(simdr)     #药物的数目\n",
    "#disnum=len(dr_dis[0])     #副作用的数目\n",
    "prenum=len(simpre)     #蛋白质的数目\n",
    "\n",
    "\n",
    "#index_1 = np.loadtxt(\"./dataset/index_1.txt\")\n",
    "#index_0 = np.loadtxt(\"./dataset/index_0.txt\")\n",
    "#index = np.hstack((index_1, index_0))     #水平拼接\n",
    "reala=dr_pre\n",
    "sr = simdr\n",
    "sd = simpre/100\n",
    "\n",
    "RR=np.zeros(dr_pre.shape)       #原始的邻接矩阵\n",
    "#A = np.hstack((dr_dr, dr_dis, dr_se))       #Fr\n",
    "#B = np.hstack((pre_pre, pre_dis))         #Fp\n",
    "#cutdr_dis = SVD(A, fr)    #奇异值分解    Fr'\n",
    "#cutpre_dis = SVD(B, fp)     #奇异值分解    Fp'\n",
    "#pre_simdti = cosine_similarity(cutpre_dis, cutpre_dis)    #计算余弦相似度   SrF\n",
    "#dr_simdti = cosine_similarity(cutdr_dis, cutdr_dis)        #计算余弦相似度   SpF\n",
    "pre_simdti = np.loadtxt(\"./source_data/S_FGS_p_gpcr.txt\")\n",
    "dr_simdti = np.loadtxt(\"./source_data/S_FGS_d_gpcr.txt\")\n",
    "\n",
    "# 获取靶点的索引（矩阵的列索引）\n",
    "protein_indices = list(range(dr_pre.shape[1]))\n",
    "num_p = len(protein_indices)\n",
    "group_size1_p = int(num_p / fold)\n",
    "random.seed(10)\n",
    "random.shuffle(protein_indices)\n",
    "\n",
    "array_1_p=np.array(protein_indices)[0:fold*group_size1_p]\n",
    "group_data1_p=np.reshape(array_1_p,(fold,group_size1_p))\n",
    "\n",
    "# 记录开始时间\n",
    "start_time = time.time()\n",
    "\n",
    "srfp, spfp = pruning(K=K, drug_mat=dr_simdti, target_mat=pre_simdti, miu=eta)\n",
    "srsp, spsp = pruning(K=K, drug_mat=sr, target_mat=sd, miu=eta)\n",
    "\n",
    "for f in trange(n_fold):\n",
    "    a = np.loadtxt(\"./dataset/DTI_setting3\" + str(f) + \".txt\")\n",
    "    #idx=index[f,:]\n",
    "   \n",
    "    R = copy.deepcopy(a)\n",
    "    R = BiRW(R, dr_simdti, pre_simdti, a, rs)        \n",
    "    for i in trange(l_1):\n",
    "        R=BiRW(R, srfp, spfp, a, rs/2)\n",
    "    for i in trange(l_2):\n",
    "        R=BiRW(R, srsp, spsp, a, rs/2)\n",
    "\n",
    "    realvalue=np.zeros(R.shape)\n",
    "    for i in range(len(group_data1_p[f, :])): \n",
    "        d=np.where(dr_pre[:, group_data1_p[f, i]] == 1)[0]\n",
    "        p=group_data1_p[f, i]\n",
    "        realvalue[d,p]=reala[d,p]\n",
    "    for i in range(len(group_data1_p[f, :])): \n",
    "        d=np.where(dr_pre[:, group_data1_p[f, i]] == 1)[0]\n",
    "        p=group_data1_p[f, i]\n",
    "        RR[d,p]=R[d,p]\n",
    "\n",
    "y_true_m = dr_pre.tolist()\n",
    "y_pre_m = RR.tolist()\n",
    "\n",
    "tpr_cov=[[] for i in range(n_fold)]\n",
    "fpr_cov=[[] for i in range(n_fold)]\n",
    "recall_cov=[[] for i in range(n_fold)]\n",
    "precision_cov=[[] for i in range(n_fold)]\n",
    "\n",
    "for f in range(n_fold):\n",
    "    #idx=index[f,:]\n",
    "    singal=[[] for i in range(len(y_true_m))]\n",
    "    singal_test=[[] for i in range(len(y_true_m))]\n",
    "    for i in trange(len(y_true_m)):\n",
    "        for j in range(len(y_true_m[0])):\n",
    "            if i in drug_indices and j in group_data1_p[f, :] :\n",
    "                singal[i].append(y_true_m[i][j])\n",
    "                singal_test[i].append(y_pre_m[i][j])\n",
    "    y_true=singal\n",
    "    y_pre=singal_test\n",
    "\n",
    "    idx = []\n",
    "    tpr_list = []\n",
    "    fpr_list = []\n",
    "    recall_list = []\n",
    "    precision_list = []\n",
    "    c = 0\n",
    "    for i in trange(len(y_true)):\n",
    "        if np.sum(np.array(y_true[i])) == 0:\n",
    "            c += 1\n",
    "            continue\n",
    "        else:\n",
    "            tpr1, fpr1, precision1, recall1 = tpr_fpr_precision_recall(np.array(y_true[i]), np.array(y_pre[i]))\n",
    "            fpr_list.append(fpr1)\n",
    "            tpr_list.append(tpr1)\n",
    "            precision_list.append(precision1)\n",
    "            recall_list.append(recall1)\n",
    "    coverage = []\n",
    "\n",
    "    for i in tpr_list:\n",
    "        try:\n",
    "            coverage.append(i.index(1.0)+1)\n",
    "        except:\n",
    "            print('1')\n",
    "    print(np.mean(np.array(coverage)))\n",
    "\n",
    "    tpr = equal_len_list(tpr_list)\n",
    "    print(len(tpr ),type(tpr))\n",
    "    fpr = equal_len_list(fpr_list)\n",
    "    precision = equal_len_list(precision_list)\n",
    "    recall = equal_len_list(recall_list)\n",
    "    tpr_mean = np.mean(tpr, axis=0)\n",
    "    tpr_cov[f]=tpr_mean\n",
    "    print(type(tpr_mean),len(tpr_mean))\n",
    "    fpr_mean = np.mean(fpr, axis=0)\n",
    "    fpr_cov[f]=fpr_mean\n",
    "    recall_mean = np.mean(recall, axis=0)\n",
    "    recall_cov[f]=recall_mean\n",
    "    precision_mean = np.mean(precision, axis=0)\n",
    "    precision_cov[f]=precision_mean\n",
    "    print('The auc of prediction is:', sklearn.metrics.auc(fpr_mean, tpr_mean))\n",
    "    print('The aupr of prediction is:', sklearn.metrics.auc(recall_mean, precision_mean)+recall_mean[0]*precision_mean[0])\n",
    "\n",
    "tpr = equal_len_list(tpr_cov)\n",
    "fpr = equal_len_list(fpr_cov)\n",
    "precision = equal_len_list(precision_cov)\n",
    "recall = equal_len_list(recall_cov)\n",
    "\n",
    "tpr_mean_snf = np.mean(tpr, axis=0)\n",
    "fpr_mean_snf = np.mean(fpr, axis=0)\n",
    "recall_mean_snf = np.mean(recall, axis=0)\n",
    "precision_mean_snf = np.mean(precision, axis=0)\n",
    "\n",
    "# 记录结束时间并计算运行时间\n",
    "end_time = time.time()\n",
    "runtime = end_time - start_time\n",
    "\n",
    "print('The auc of prediction is:', sklearn.metrics.auc(fpr_mean_snf, tpr_mean_snf))\n",
    "print('The aupr of prediction is:', sklearn.metrics.auc(recall_mean_snf, precision_mean_snf)+recall_mean_snf[0]*precision_mean_snf[0])\n",
    "# 打印灵敏度和运行时间\n",
    "\n",
    "print('Runtime:', runtime)\n",
    "#np.savetxt('./result/fpr_list_snf.txt', fpr_mean_snf)\n",
    "#np.savetxt('./result/tpr_list.txt_snf', tpr_mean_snf)\n",
    "#np.savetxt('./result/recall_list.txt_snf', recall_mean_snf)\n",
    "#np.savetxt('./result/precision_list.txt_snf', precision_mean_snf)\n",
    "\n",
    "\n",
    "\n",
    "\n"
   ]
  },
  {
   "cell_type": "markdown",
   "id": "a29de592",
   "metadata": {},
   "source": [
    "# setting4"
   ]
  },
  {
   "cell_type": "code",
   "execution_count": 6,
   "id": "ed88a097",
   "metadata": {},
   "outputs": [
    {
     "name": "stderr",
     "output_type": "stream",
     "text": [
      "100%|█████████████████████████████████████████████████████████████████████████████████| 10/10 [00:00<00:00, 101.35it/s]\n"
     ]
    }
   ],
   "source": [
    "import random\n",
    "import numpy as np\n",
    "from tqdm import trange\n",
    "import numpy as np\n",
    "\n",
    "fold = 10\n",
    "dr_pre=np.loadtxt(\"./source_data/gpcr4_admat_dgc.txt\").T\n",
    "simdr=np.loadtxt(\"./source_data/gpcr_simmat_drug.txt\")\n",
    "simpre=np.loadtxt(\"./source_data/gpcr_simmat_target.txt\")\n",
    "\n",
    "prenum = len(simpre)\n",
    "drnum = len(simdr)\n",
    "\n",
    "# 获取药物的索引（矩阵的行索引）\n",
    "drug_indices = list(range(dr_pre.shape[0]))\n",
    "num_d = len(drug_indices)\n",
    "group_size1_d = int(num_d / fold)\n",
    "random.seed(10)\n",
    "random.shuffle(drug_indices)\n",
    "\n",
    "# 获取靶点的索引（矩阵的列索引）\n",
    "protein_indices = list(range(dr_pre.shape[1]))\n",
    "num_p = len(protein_indices)\n",
    "group_size1_p = int(num_p / fold)\n",
    "random.seed(10)\n",
    "random.shuffle(protein_indices)\n",
    "\n",
    "array_1_p=np.array(protein_indices)[0:fold*group_size1_p]\n",
    "group_data1_p=np.reshape(array_1_p,(fold,group_size1_p))\n",
    "\n",
    "f = 0\n",
    "for f in trange(fold):\n",
    "    DTI = np.copy(dr_pre)\n",
    "    i=0\n",
    "    while i < group_size1_d:\n",
    "        r = group_data1[f,i ] \n",
    "        c = np.where(DTI[group_data1[f, i], :] == 1)[0]\n",
    "        DTI[r, c] = 0\n",
    "        i += 1  # 得到每次交叉验证中所使用的A矩阵\n",
    "\n",
    "    while i < group_size1_p:\n",
    "        r = np.where(dr_pre[:, group_data1_p[f, i]] == 1)[0]\n",
    "        c = group_data1_p[f, i]\n",
    "        DTI[r, c] = 0\n",
    "        i += 1  # 得到每次交叉验证中所使用的A矩阵\n",
    "    np.savetxt(\"./dataset/DTI_setting4\"+str(f)+\".txt\",DTI)\n",
    "\n"
   ]
  },
  {
   "cell_type": "code",
   "execution_count": 7,
   "id": "7015289d",
   "metadata": {},
   "outputs": [
    {
     "name": "stderr",
     "output_type": "stream",
     "text": [
      "  0%|                                                                                           | 0/10 [00:00<?, ?it/s]\n",
      "  0%|                                                                                            | 0/5 [00:00<?, ?it/s]\u001b[A\n",
      "100%|████████████████████████████████████████████████████████████████████████████████████| 5/5 [00:00<00:00, 27.47it/s]\u001b[A\n",
      "\n",
      "  0%|                                                                                            | 0/5 [00:00<?, ?it/s]\u001b[A\n",
      "100%|████████████████████████████████████████████████████████████████████████████████████| 5/5 [00:00<00:00, 24.94it/s]\u001b[A\n",
      " 10%|████████▎                                                                          | 1/10 [00:00<00:03,  2.29it/s]\n",
      "  0%|                                                                                            | 0/5 [00:00<?, ?it/s]\u001b[A\n",
      "100%|████████████████████████████████████████████████████████████████████████████████████| 5/5 [00:00<00:00, 21.69it/s]\u001b[A\n",
      "\n",
      "  0%|                                                                                            | 0/5 [00:00<?, ?it/s]\u001b[A\n",
      "100%|████████████████████████████████████████████████████████████████████████████████████| 5/5 [00:00<00:00, 26.81it/s]\u001b[A\n",
      " 20%|████████████████▌                                                                  | 2/10 [00:00<00:03,  2.15it/s]\n",
      "  0%|                                                                                            | 0/5 [00:00<?, ?it/s]\u001b[A\n",
      "100%|████████████████████████████████████████████████████████████████████████████████████| 5/5 [00:00<00:00, 27.02it/s]\u001b[A\n",
      "\n",
      "  0%|                                                                                            | 0/5 [00:00<?, ?it/s]\u001b[A\n",
      "100%|████████████████████████████████████████████████████████████████████████████████████| 5/5 [00:00<00:00, 26.24it/s]\u001b[A\n",
      " 30%|████████████████████████▉                                                          | 3/10 [00:01<00:03,  2.22it/s]\n",
      "  0%|                                                                                            | 0/5 [00:00<?, ?it/s]\u001b[A\n",
      "100%|████████████████████████████████████████████████████████████████████████████████████| 5/5 [00:00<00:00, 24.51it/s]\u001b[A\n",
      "\n",
      "  0%|                                                                                            | 0/5 [00:00<?, ?it/s]\u001b[A\n",
      " 40%|█████████████████████████████████▌                                                  | 2/5 [00:00<00:00, 19.51it/s]\u001b[A\n",
      "100%|████████████████████████████████████████████████████████████████████████████████████| 5/5 [00:00<00:00, 21.41it/s]\u001b[A\n",
      " 40%|█████████████████████████████████▏                                                 | 4/10 [00:01<00:02,  2.14it/s]\n",
      "  0%|                                                                                            | 0/5 [00:00<?, ?it/s]\u001b[A\n",
      "100%|████████████████████████████████████████████████████████████████████████████████████| 5/5 [00:00<00:00, 27.02it/s]\u001b[A\n",
      "\n",
      "  0%|                                                                                            | 0/5 [00:00<?, ?it/s]\u001b[A\n",
      "100%|████████████████████████████████████████████████████████████████████████████████████| 5/5 [00:00<00:00, 25.38it/s]\u001b[A\n",
      " 50%|█████████████████████████████████████████▌                                         | 5/10 [00:02<00:02,  2.18it/s]\n",
      "  0%|                                                                                            | 0/5 [00:00<?, ?it/s]\u001b[A\n",
      "100%|████████████████████████████████████████████████████████████████████████████████████| 5/5 [00:00<00:00, 22.62it/s]\u001b[A\n",
      "\n",
      "  0%|                                                                                            | 0/5 [00:00<?, ?it/s]\u001b[A\n",
      "100%|████████████████████████████████████████████████████████████████████████████████████| 5/5 [00:00<00:00, 25.38it/s]\u001b[A\n",
      " 60%|█████████████████████████████████████████████████▊                                 | 6/10 [00:02<00:01,  2.13it/s]\n",
      "  0%|                                                                                            | 0/5 [00:00<?, ?it/s]\u001b[A\n",
      "100%|████████████████████████████████████████████████████████████████████████████████████| 5/5 [00:00<00:00, 25.12it/s]\u001b[A\n",
      "\n",
      "  0%|                                                                                            | 0/5 [00:00<?, ?it/s]\u001b[A\n",
      "100%|████████████████████████████████████████████████████████████████████████████████████| 5/5 [00:00<00:00, 28.65it/s]\u001b[A\n",
      " 70%|██████████████████████████████████████████████████████████                         | 7/10 [00:03<00:01,  2.18it/s]\n",
      "  0%|                                                                                            | 0/5 [00:00<?, ?it/s]\u001b[A\n",
      "100%|████████████████████████████████████████████████████████████████████████████████████| 5/5 [00:00<00:00, 25.19it/s]\u001b[A\n",
      "\n",
      "  0%|                                                                                            | 0/5 [00:00<?, ?it/s]\u001b[A\n",
      "100%|████████████████████████████████████████████████████████████████████████████████████| 5/5 [00:00<00:00, 26.31it/s]\u001b[A\n",
      " 80%|██████████████████████████████████████████████████████████████████▍                | 8/10 [00:03<00:00,  2.20it/s]\n",
      "  0%|                                                                                            | 0/5 [00:00<?, ?it/s]\u001b[A\n",
      "100%|████████████████████████████████████████████████████████████████████████████████████| 5/5 [00:00<00:00, 22.07it/s]\u001b[A\n",
      "\n",
      "  0%|                                                                                            | 0/5 [00:00<?, ?it/s]\u001b[A\n",
      "100%|████████████████████████████████████████████████████████████████████████████████████| 5/5 [00:00<00:00, 25.00it/s]\u001b[A\n",
      " 90%|██████████████████████████████████████████████████████████████████████████▋        | 9/10 [00:04<00:00,  2.15it/s]\n",
      "  0%|                                                                                            | 0/5 [00:00<?, ?it/s]\u001b[A\n",
      "100%|████████████████████████████████████████████████████████████████████████████████████| 5/5 [00:00<00:00, 20.74it/s]\u001b[A\n",
      "\n",
      "  0%|                                                                                            | 0/5 [00:00<?, ?it/s]\u001b[A\n",
      "100%|████████████████████████████████████████████████████████████████████████████████████| 5/5 [00:00<00:00, 26.88it/s]\u001b[A\n",
      "100%|██████████████████████████████████████████████████████████████████████████████████| 10/10 [00:04<00:00,  2.15it/s]\n",
      "100%|██████████████████████████████████████████████████████████████████████████████| 223/223 [00:00<00:00, 1292.64it/s]\n",
      "100%|██████████████████████████████████████████████████████████████████████████████| 223/223 [00:00<00:00, 4329.85it/s]\n"
     ]
    },
    {
     "name": "stdout",
     "output_type": "stream",
     "text": [
      "8.862745098039216\n",
      "102 <class 'list'>\n",
      "<class 'numpy.ndarray'> 9\n",
      "The auc of prediction is: 0.5933293928449397\n",
      "The aupr of prediction is: 0.18973977008283507\n"
     ]
    },
    {
     "name": "stderr",
     "output_type": "stream",
     "text": [
      "100%|██████████████████████████████████████████████████████████████████████████████| 223/223 [00:00<00:00, 1721.21it/s]\n",
      "100%|██████████████████████████████████████████████████████████████████████████████| 223/223 [00:00<00:00, 4496.78it/s]\n"
     ]
    },
    {
     "name": "stdout",
     "output_type": "stream",
     "text": [
      "11.857142857142858\n",
      "119 <class 'list'>\n",
      "<class 'numpy.ndarray'> 9\n",
      "The auc of prediction is: 0.42657050359304227\n",
      "The aupr of prediction is: 0.20121592842231198\n"
     ]
    },
    {
     "name": "stderr",
     "output_type": "stream",
     "text": [
      "100%|██████████████████████████████████████████████████████████████████████████████| 223/223 [00:00<00:00, 1708.74it/s]\n",
      "100%|██████████████████████████████████████████████████████████████████████████████| 223/223 [00:00<00:00, 4790.52it/s]\n"
     ]
    },
    {
     "name": "stdout",
     "output_type": "stream",
     "text": [
      "12.720930232558139\n",
      "129 <class 'list'>\n",
      "<class 'numpy.ndarray'> 9\n",
      "The auc of prediction is: 0.5260204403025415\n",
      "The aupr of prediction is: 0.2255983402304315\n"
     ]
    },
    {
     "name": "stderr",
     "output_type": "stream",
     "text": [
      "100%|██████████████████████████████████████████████████████████████████████████████| 223/223 [00:00<00:00, 1812.80it/s]\n",
      "100%|██████████████████████████████████████████████████████████████████████████████| 223/223 [00:00<00:00, 6186.37it/s]\n"
     ]
    },
    {
     "name": "stdout",
     "output_type": "stream",
     "text": [
      "19.16949152542373\n",
      "59 <class 'list'>\n",
      "<class 'numpy.ndarray'> 9\n",
      "The auc of prediction is: 0.782564327425642\n",
      "The aupr of prediction is: 0.4935522537424069\n"
     ]
    },
    {
     "name": "stderr",
     "output_type": "stream",
     "text": [
      "100%|██████████████████████████████████████████████████████████████████████████████| 223/223 [00:00<00:00, 1854.12it/s]\n",
      "100%|██████████████████████████████████████████████████████████████████████████████| 223/223 [00:00<00:00, 4741.13it/s]\n"
     ]
    },
    {
     "name": "stdout",
     "output_type": "stream",
     "text": [
      "22.55\n",
      "60 <class 'list'>\n",
      "<class 'numpy.ndarray'> 9\n",
      "The auc of prediction is: 0.552377996326887\n",
      "The aupr of prediction is: 0.2691549805559452\n"
     ]
    },
    {
     "name": "stderr",
     "output_type": "stream",
     "text": [
      "100%|██████████████████████████████████████████████████████████████████████████████| 223/223 [00:00<00:00, 2044.66it/s]\n",
      "100%|██████████████████████████████████████████████████████████████████████████████| 223/223 [00:00<00:00, 4415.33it/s]\n"
     ]
    },
    {
     "name": "stdout",
     "output_type": "stream",
     "text": [
      "15.03448275862069\n",
      "116 <class 'list'>\n",
      "<class 'numpy.ndarray'> 9\n",
      "The auc of prediction is: 0.7519124961128245\n",
      "The aupr of prediction is: 0.4084349987543021\n"
     ]
    },
    {
     "name": "stderr",
     "output_type": "stream",
     "text": [
      "100%|██████████████████████████████████████████████████████████████████████████████| 223/223 [00:00<00:00, 1834.33it/s]\n",
      "100%|██████████████████████████████████████████████████████████████████████████████| 223/223 [00:00<00:00, 4848.00it/s]\n"
     ]
    },
    {
     "name": "stdout",
     "output_type": "stream",
     "text": [
      "19.427083333333332\n",
      "96 <class 'list'>\n",
      "<class 'numpy.ndarray'> 9\n",
      "The auc of prediction is: 0.7012231006026749\n",
      "The aupr of prediction is: 0.4998328091868738\n"
     ]
    },
    {
     "name": "stderr",
     "output_type": "stream",
     "text": [
      "100%|██████████████████████████████████████████████████████████████████████████████| 223/223 [00:00<00:00, 1914.00it/s]\n",
      "100%|██████████████████████████████████████████████████████████████████████████████| 223/223 [00:00<00:00, 5309.79it/s]\n"
     ]
    },
    {
     "name": "stdout",
     "output_type": "stream",
     "text": [
      "13.208333333333334\n",
      "96 <class 'list'>\n",
      "<class 'numpy.ndarray'> 9\n",
      "The auc of prediction is: 0.8232209592490901\n",
      "The aupr of prediction is: 0.6321755501243108\n"
     ]
    },
    {
     "name": "stderr",
     "output_type": "stream",
     "text": [
      "100%|██████████████████████████████████████████████████████████████████████████████| 223/223 [00:00<00:00, 1897.78it/s]\n",
      "100%|██████████████████████████████████████████████████████████████████████████████| 223/223 [00:00<00:00, 4795.43it/s]\n"
     ]
    },
    {
     "name": "stdout",
     "output_type": "stream",
     "text": [
      "12.4\n",
      "120 <class 'list'>\n",
      "<class 'numpy.ndarray'> 9\n",
      "The auc of prediction is: 0.8515604673999366\n",
      "The aupr of prediction is: 0.6914984244946389\n"
     ]
    },
    {
     "name": "stderr",
     "output_type": "stream",
     "text": [
      "100%|██████████████████████████████████████████████████████████████████████████████| 223/223 [00:00<00:00, 1798.76it/s]\n",
      "100%|██████████████████████████████████████████████████████████████████████████████| 223/223 [00:00<00:00, 4596.78it/s]"
     ]
    },
    {
     "name": "stdout",
     "output_type": "stream",
     "text": [
      "17.09375\n",
      "96 <class 'list'>\n",
      "<class 'numpy.ndarray'> 9\n",
      "The auc of prediction is: 0.8617125663030055\n",
      "The aupr of prediction is: 0.6307140052646389\n",
      "The auc of prediction is: 0.6859577684916114\n",
      "The aupr of prediction is: 0.3884790280673617\n",
      "Runtime: 6.4673004150390625\n"
     ]
    },
    {
     "name": "stderr",
     "output_type": "stream",
     "text": [
      "\n"
     ]
    }
   ],
   "source": [
    "# %load run_main.py\n",
    "import numpy as np\n",
    "from function import *\n",
    "from tqdm import trange\n",
    "from sklearn.metrics.pairwise import cosine_similarity\n",
    "import sklearn.metrics\n",
    "import copy\n",
    "import time\n",
    "rs = 0.6\n",
    "n_fold=10\n",
    "eta=0.7\n",
    "l_1=5\n",
    "l_2=5\n",
    "fr=500\n",
    "fp=300\n",
    "K=20\n",
    "dr_pre=np.loadtxt(\"./source_data/gpcr4_admat_dgc.txt\").T\n",
    "simdr=np.loadtxt(\"./source_data/gpcr_simmat_drug.txt\")\n",
    "simpre=np.loadtxt(\"./source_data/gpcr_simmat_target.txt\")\n",
    "\n",
    "drnum=len(simdr)     #药物的数目\n",
    "#disnum=len(dr_dis[0])     #副作用的数目\n",
    "prenum=len(simpre)     #蛋白质的数目\n",
    "\n",
    "\n",
    "#index_1 = np.loadtxt(\"./dataset/index_1.txt\")\n",
    "#index_0 = np.loadtxt(\"./dataset/index_0.txt\")\n",
    "#index = np.hstack((index_1, index_0))     #水平拼接\n",
    "reala=dr_pre\n",
    "sr = simdr\n",
    "sd = simpre/100\n",
    "\n",
    "RR=np.zeros(dr_pre.shape)       #原始的邻接矩阵\n",
    "RR_1=np.zeros(dr_pre.shape)       #原始的邻接矩阵\n",
    "#A = np.hstack((dr_dr, dr_dis, dr_se))       #Fr\n",
    "#B = np.hstack((pre_pre, pre_dis))         #Fp\n",
    "#cutdr_dis = SVD(A, fr)    #奇异值分解    Fr'\n",
    "#cutpre_dis = SVD(B, fp)     #奇异值分解    Fp'\n",
    "#pre_simdti = cosine_similarity(cutpre_dis, cutpre_dis)    #计算余弦相似度   SrF\n",
    "#dr_simdti = cosine_similarity(cutdr_dis, cutdr_dis)        #计算余弦相似度   SpF\n",
    "pre_simdti = np.loadtxt(\"./source_data/S_FGS_p_gpcr.txt\")\n",
    "dr_simdti = np.loadtxt(\"./source_data/S_FGS_d_gpcr.txt\")\n",
    "\n",
    "# 获取药物的索引（矩阵的行索引）\n",
    "drug_indices = list(range(dr_pre.shape[0]))\n",
    "num_d = len(drug_indices)\n",
    "group_size1_d = int(num_d / fold)\n",
    "random.seed(10)\n",
    "random.shuffle(drug_indices)\n",
    "array_1=np.array(drug_indices)[0:fold*group_size1_d]\n",
    "group_data1=np.reshape(array_1,(fold,group_size1_d))\n",
    "\n",
    "# 获取靶点的索引（矩阵的列索引）\n",
    "protein_indices = list(range(dr_pre.shape[1]))\n",
    "num_p = len(protein_indices)\n",
    "group_size1_p = int(num_p / fold)\n",
    "random.seed(10)\n",
    "random.shuffle(protein_indices)\n",
    "\n",
    "array_1_p=np.array(protein_indices)[0:fold*group_size1_p]\n",
    "group_data1_p=np.reshape(array_1_p,(fold,group_size1_p))\n",
    "\n",
    "# 记录开始时间\n",
    "start_time = time.time()\n",
    "\n",
    "srfp, spfp = pruning(K=K, drug_mat=dr_simdti, target_mat=pre_simdti, miu=eta)\n",
    "srsp, spsp = pruning(K=K, drug_mat=sr, target_mat=sd, miu=eta)\n",
    "\n",
    "for f in trange(n_fold):\n",
    "    a = np.loadtxt(\"./dataset/DTI_setting4\" + str(f) + \".txt\")\n",
    "    #idx=index[f,:]\n",
    "   \n",
    "    R = copy.deepcopy(a)\n",
    "    R = BiRW(R, dr_simdti, pre_simdti, a, rs)        \n",
    "    for i in trange(l_1):\n",
    "        R=BiRW(R, srfp, spfp, a, rs/2)\n",
    "    for i in trange(l_2):\n",
    "        R=BiRW(R, srsp, spsp, a, rs/2)\n",
    "\n",
    "    realvalue=np.zeros(R.shape)\n",
    "    realvalue_1=np.zeros(R.shape)\n",
    "    for i in range(len(group_data1[f, :])): \n",
    "        d=group_data1[f, i]\n",
    "        p=np.where(DTI[group_data1[f, i], :] == 1)[0]\n",
    "        realvalue_1[d,p]=reala[d,p]\n",
    "    for i in range(len(group_data1_p[f, :])): \n",
    "        d=np.where(dr_pre[:, group_data1_p[f, i]] == 1)[0]\n",
    "        p=group_data1_p[f, i]\n",
    "        realvalue[d,p]=realvalue_1[d,p]\n",
    "    for i in range(len(group_data1[f, :])): \n",
    "        d=group_data1[f, i]\n",
    "        p=np.where(DTI[group_data1[f, i], :] == 1)[0]\n",
    "        RR_1[d,p]=R[d,p]\n",
    "    for i in range(len(group_data1_p[f, :])): \n",
    "        d=np.where(dr_pre[:, group_data1_p[f, i]] == 1)[0]\n",
    "        p=group_data1_p[f, i]\n",
    "        RR[d,p]=RR_1[d,p]\n",
    "\n",
    "    \n",
    "y_true_m = dr_pre.tolist()\n",
    "y_pre_m = RR.tolist()\n",
    "\n",
    "tpr_cov=[[] for i in range(n_fold)]\n",
    "fpr_cov=[[] for i in range(n_fold)]\n",
    "recall_cov=[[] for i in range(n_fold)]\n",
    "precision_cov=[[] for i in range(n_fold)]\n",
    "\n",
    "for f in range(n_fold):\n",
    "    #idx=index[f,:]\n",
    "    singal=[[] for i in range(len(y_true_m))]\n",
    "    singal_test=[[] for i in range(len(y_true_m))]\n",
    "    for i in trange(len(y_true_m)):\n",
    "        for j in range(len(y_true_m[0])):\n",
    "            if i in drug_indices and j in group_data1_p[f, :] :\n",
    "                singal[i].append(y_true_m[i][j])\n",
    "                singal_test[i].append(y_pre_m[i][j])\n",
    "            if i in group_data1[f, :] and j in protein_indices :\n",
    "                singal[i].append(y_true_m[i][j])\n",
    "                singal_test[i].append(y_pre_m[i][j])\n",
    "    y_true=singal\n",
    "    y_pre=singal_test\n",
    "\n",
    "    idx = []\n",
    "    tpr_list = []\n",
    "    fpr_list = []\n",
    "    recall_list = []\n",
    "    precision_list = []\n",
    "    c = 0\n",
    "    for i in trange(len(y_true)):\n",
    "        if np.sum(np.array(y_true[i])) == 0:\n",
    "            c += 1\n",
    "            continue\n",
    "        else:\n",
    "            tpr1, fpr1, precision1, recall1 = tpr_fpr_precision_recall(np.array(y_true[i]), np.array(y_pre[i]))\n",
    "            fpr_list.append(fpr1)\n",
    "            tpr_list.append(tpr1)\n",
    "            precision_list.append(precision1)\n",
    "            recall_list.append(recall1)\n",
    "    coverage = []\n",
    "\n",
    "    for i in tpr_list:\n",
    "        try:\n",
    "            coverage.append(i.index(1.0)+1)\n",
    "        except:\n",
    "            print('1')\n",
    "    print(np.mean(np.array(coverage)))\n",
    "\n",
    "    tpr = equal_len_list(tpr_list)\n",
    "    print(len(tpr ),type(tpr))\n",
    "    fpr = equal_len_list(fpr_list)\n",
    "    precision = equal_len_list(precision_list)\n",
    "    recall = equal_len_list(recall_list)\n",
    "    tpr_mean = np.mean(tpr, axis=0)\n",
    "    tpr_cov[f]=tpr_mean\n",
    "    print(type(tpr_mean),len(tpr_mean))\n",
    "    fpr_mean = np.mean(fpr, axis=0)\n",
    "    fpr_cov[f]=fpr_mean\n",
    "    recall_mean = np.mean(recall, axis=0)\n",
    "    recall_cov[f]=recall_mean\n",
    "    precision_mean = np.mean(precision, axis=0)\n",
    "    precision_cov[f]=precision_mean\n",
    "    print('The auc of prediction is:', sklearn.metrics.auc(fpr_mean, tpr_mean))\n",
    "    print('The aupr of prediction is:', sklearn.metrics.auc(recall_mean, precision_mean)+recall_mean[0]*precision_mean[0])\n",
    "\n",
    "tpr = equal_len_list(tpr_cov)\n",
    "fpr = equal_len_list(fpr_cov)\n",
    "precision = equal_len_list(precision_cov)\n",
    "recall = equal_len_list(recall_cov)\n",
    "\n",
    "tpr_mean_snf = np.mean(tpr, axis=0)\n",
    "fpr_mean_snf = np.mean(fpr, axis=0)\n",
    "recall_mean_snf = np.mean(recall, axis=0)\n",
    "precision_mean_snf = np.mean(precision, axis=0)\n",
    "\n",
    "# 记录结束时间并计算运行时间\n",
    "end_time = time.time()\n",
    "runtime = end_time - start_time\n",
    "\n",
    "print('The auc of prediction is:', sklearn.metrics.auc(fpr_mean_snf, tpr_mean_snf))\n",
    "print('The aupr of prediction is:', sklearn.metrics.auc(recall_mean_snf, precision_mean_snf)+recall_mean_snf[0]*precision_mean_snf[0])\n",
    "# 打印灵敏度和运行时间\n",
    "\n",
    "print('Runtime:', runtime)\n",
    "#np.savetxt('./result/fpr_list_snf.txt', fpr_mean_snf)\n",
    "#np.savetxt('./result/tpr_list.txt_snf', tpr_mean_snf)\n",
    "#np.savetxt('./result/recall_list.txt_snf', recall_mean_snf)\n",
    "#np.savetxt('./result/precision_list.txt_snf', precision_mean_snf)\n",
    "\n",
    "\n",
    "\n",
    "\n"
   ]
  },
  {
   "cell_type": "code",
   "execution_count": null,
   "id": "6bdff176",
   "metadata": {},
   "outputs": [],
   "source": []
  }
 ],
 "metadata": {
  "kernelspec": {
   "display_name": "Python 3 (ipykernel)",
   "language": "python",
   "name": "python3"
  },
  "language_info": {
   "codemirror_mode": {
    "name": "ipython",
    "version": 3
   },
   "file_extension": ".py",
   "mimetype": "text/x-python",
   "name": "python",
   "nbconvert_exporter": "python",
   "pygments_lexer": "ipython3",
   "version": "3.9.13"
  }
 },
 "nbformat": 4,
 "nbformat_minor": 5
}
