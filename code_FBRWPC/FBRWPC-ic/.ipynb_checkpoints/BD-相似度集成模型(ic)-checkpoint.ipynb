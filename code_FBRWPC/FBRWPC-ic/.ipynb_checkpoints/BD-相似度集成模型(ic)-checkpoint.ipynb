{
 "cells": [
  {
   "cell_type": "code",
   "execution_count": null,
   "id": "5b0bd096",
   "metadata": {},
   "outputs": [],
   "source": []
  },
  {
   "cell_type": "code",
   "execution_count": 1,
   "id": "ed4258d7",
   "metadata": {},
   "outputs": [
    {
     "name": "stderr",
     "output_type": "stream",
     "text": [
      "100%|██████████████████████████████████████████████████████████████████████████████████| 10/10 [00:00<00:00, 59.18it/s]\n"
     ]
    }
   ],
   "source": [
    "# %load data_divide - ic.py\n",
    "import random\n",
    "import numpy as np\n",
    "from tqdm import trange\n",
    "\n",
    "\n",
    "fold=10\n",
    "\n",
    "dr_pre=np.loadtxt(\"./source_data/ic4_admat_dgc.txt\").T\n",
    "simdr=np.loadtxt(\"./source_data/ic_simmat_drug.txt\")\n",
    "simpre=np.loadtxt(\"./source_data/ic_simmat_target.txt\")\n",
    "\n",
    "\n",
    "prenum=len(simpre)\n",
    "\n",
    "dd_dim1=dr_pre.flatten()\n",
    "\n",
    "i=0\n",
    "list_1=[]\n",
    "while i<len(dd_dim1):\n",
    "    if dd_dim1[i]==1:\n",
    "        list_1.append(i)\n",
    "    i=i+1\n",
    "num1=len(list_1)\n",
    "group_size1=int(num1/fold)\n",
    "random.seed(10)\n",
    "random.shuffle(list_1)\n",
    "#\n",
    "array_1=np.array(list_1)[0:fold*group_size1]\n",
    "group_data1=np.reshape(array_1,(fold,group_size1))\n",
    "np.savetxt(\"./dataset/index_1.txt\",group_data1)\n",
    "\n",
    "\n",
    "i=0\n",
    "list_0=[]\n",
    "while i<len(dd_dim1):\n",
    "    if dd_dim1[i]==0:\n",
    "        list_0.append(i)\n",
    "    i=i+1\n",
    "num0=len(list_0)\n",
    "group_size0=int(num0/fold)\n",
    "random.seed(10)\n",
    "random.shuffle(list_0)\n",
    "\n",
    "array_0=np.array(list_0)[0:fold*group_size0]\n",
    "group_data0=np.reshape(array_0,(fold,group_size0))\n",
    "np.savetxt(\"./dataset/index_0.txt\",group_data0)\n",
    "\n",
    "\n",
    "f = 0\n",
    "for f in trange(fold):\n",
    "    DTI = np.copy(dr_pre)\n",
    "    i=0\n",
    "    while i < group_size1:\n",
    "        r = int(group_data1[f, i] / prenum)\n",
    "        c = int(group_data1[f, i] % prenum)\n",
    "        DTI[r, c] = 0\n",
    "        i += 1  # 得到每次交叉验证中所使用的A矩阵\n",
    "    np.savetxt(\"./dataset/DTI\"+str(f)+\".txt\",DTI)\n",
    "\n",
    "\n",
    "\n"
   ]
  },
  {
   "cell_type": "code",
   "execution_count": 2,
   "id": "a8a63408",
   "metadata": {},
   "outputs": [
    {
     "name": "stderr",
     "output_type": "stream",
     "text": [
      "  0%|                                                                                           | 0/10 [00:00<?, ?it/s]\n",
      "  0%|                                                                                            | 0/5 [00:00<?, ?it/s]\u001b[A\n",
      "100%|████████████████████████████████████████████████████████████████████████████████████| 5/5 [00:00<00:00, 25.24it/s]\u001b[A\n",
      "\n",
      "  0%|                                                                                            | 0/5 [00:00<?, ?it/s]\u001b[A\n",
      "100%|████████████████████████████████████████████████████████████████████████████████████| 5/5 [00:00<00:00, 24.68it/s]\u001b[A\n",
      " 10%|████████▎                                                                          | 1/10 [00:00<00:04,  2.19it/s]\n",
      "  0%|                                                                                            | 0/5 [00:00<?, ?it/s]\u001b[A\n",
      "100%|████████████████████████████████████████████████████████████████████████████████████| 5/5 [00:00<00:00, 25.60it/s]\u001b[A\n",
      "\n",
      "  0%|                                                                                            | 0/5 [00:00<?, ?it/s]\u001b[A\n",
      "100%|████████████████████████████████████████████████████████████████████████████████████| 5/5 [00:00<00:00, 24.54it/s]\u001b[A\n",
      " 20%|████████████████▌                                                                  | 2/10 [00:00<00:03,  2.20it/s]\n",
      "  0%|                                                                                            | 0/5 [00:00<?, ?it/s]\u001b[A\n",
      "100%|████████████████████████████████████████████████████████████████████████████████████| 5/5 [00:00<00:00, 25.03it/s]\u001b[A\n",
      "\n",
      "  0%|                                                                                            | 0/5 [00:00<?, ?it/s]\u001b[A\n",
      "100%|████████████████████████████████████████████████████████████████████████████████████| 5/5 [00:00<00:00, 25.62it/s]\u001b[A\n",
      " 30%|████████████████████████▉                                                          | 3/10 [00:01<00:03,  2.20it/s]\n",
      "  0%|                                                                                            | 0/5 [00:00<?, ?it/s]\u001b[A\n",
      "100%|████████████████████████████████████████████████████████████████████████████████████| 5/5 [00:00<00:00, 24.60it/s]\u001b[A\n",
      "\n",
      "  0%|                                                                                            | 0/5 [00:00<?, ?it/s]\u001b[A\n",
      "100%|████████████████████████████████████████████████████████████████████████████████████| 5/5 [00:00<00:00, 25.94it/s]\u001b[A\n",
      " 40%|█████████████████████████████████▏                                                 | 4/10 [00:01<00:02,  2.21it/s]\n",
      "  0%|                                                                                            | 0/5 [00:00<?, ?it/s]\u001b[A\n",
      "100%|████████████████████████████████████████████████████████████████████████████████████| 5/5 [00:00<00:00, 25.88it/s]\u001b[A\n",
      "\n",
      "  0%|                                                                                            | 0/5 [00:00<?, ?it/s]\u001b[A\n",
      "100%|████████████████████████████████████████████████████████████████████████████████████| 5/5 [00:00<00:00, 25.74it/s]\u001b[A\n",
      " 50%|█████████████████████████████████████████▌                                         | 5/10 [00:02<00:02,  2.23it/s]\n",
      "  0%|                                                                                            | 0/5 [00:00<?, ?it/s]\u001b[A\n",
      "100%|████████████████████████████████████████████████████████████████████████████████████| 5/5 [00:00<00:00, 25.88it/s]\u001b[A\n",
      "\n",
      "  0%|                                                                                            | 0/5 [00:00<?, ?it/s]\u001b[A\n",
      "100%|████████████████████████████████████████████████████████████████████████████████████| 5/5 [00:00<00:00, 25.34it/s]\u001b[A\n",
      " 60%|█████████████████████████████████████████████████▊                                 | 6/10 [00:02<00:01,  2.24it/s]\n",
      "  0%|                                                                                            | 0/5 [00:00<?, ?it/s]\u001b[A\n",
      "100%|████████████████████████████████████████████████████████████████████████████████████| 5/5 [00:00<00:00, 26.12it/s]\u001b[A\n",
      "\n",
      "  0%|                                                                                            | 0/5 [00:00<?, ?it/s]\u001b[A\n",
      "100%|████████████████████████████████████████████████████████████████████████████████████| 5/5 [00:00<00:00, 24.98it/s]\u001b[A\n",
      " 70%|██████████████████████████████████████████████████████████                         | 7/10 [00:03<00:01,  2.24it/s]\n",
      "  0%|                                                                                            | 0/5 [00:00<?, ?it/s]\u001b[A\n",
      "100%|████████████████████████████████████████████████████████████████████████████████████| 5/5 [00:00<00:00, 26.01it/s]\u001b[A\n",
      "\n",
      "  0%|                                                                                            | 0/5 [00:00<?, ?it/s]\u001b[A\n",
      "100%|████████████████████████████████████████████████████████████████████████████████████| 5/5 [00:00<00:00, 26.29it/s]\u001b[A\n",
      " 80%|██████████████████████████████████████████████████████████████████▍                | 8/10 [00:03<00:00,  2.25it/s]\n",
      "  0%|                                                                                            | 0/5 [00:00<?, ?it/s]\u001b[A\n",
      "100%|████████████████████████████████████████████████████████████████████████████████████| 5/5 [00:00<00:00, 26.21it/s]\u001b[A\n",
      "\n",
      "  0%|                                                                                            | 0/5 [00:00<?, ?it/s]\u001b[A\n",
      "100%|████████████████████████████████████████████████████████████████████████████████████| 5/5 [00:00<00:00, 25.75it/s]\u001b[A\n",
      " 90%|██████████████████████████████████████████████████████████████████████████▋        | 9/10 [00:04<00:00,  2.26it/s]\n",
      "  0%|                                                                                            | 0/5 [00:00<?, ?it/s]\u001b[A\n",
      "100%|████████████████████████████████████████████████████████████████████████████████████| 5/5 [00:00<00:00, 25.69it/s]\u001b[A\n",
      "\n",
      "  0%|                                                                                            | 0/5 [00:00<?, ?it/s]\u001b[A\n",
      "100%|████████████████████████████████████████████████████████████████████████████████████| 5/5 [00:00<00:00, 24.98it/s]\u001b[A\n",
      "100%|██████████████████████████████████████████████████████████████████████████████████| 10/10 [00:04<00:00,  2.23it/s]\n",
      "100%|██████████████████████████████████████████████████████████████████████████████| 210/210 [00:00<00:00, 1283.34it/s]\n",
      "100%|██████████████████████████████████████████████████████████████████████████████| 210/210 [00:00<00:00, 6445.74it/s]\n"
     ]
    },
    {
     "name": "stdout",
     "output_type": "stream",
     "text": [
      "2.6942148760330578\n",
      "121 <class 'list'>\n",
      "<class 'numpy.ndarray'> 12\n",
      "The auc of prediction is: 0.9774927359470623\n",
      "The aupr of prediction is: 0.9044947537320205\n"
     ]
    },
    {
     "name": "stderr",
     "output_type": "stream",
     "text": [
      "100%|██████████████████████████████████████████████████████████████████████████████| 210/210 [00:00<00:00, 1302.89it/s]\n",
      "100%|██████████████████████████████████████████████████████████████████████████████| 210/210 [00:00<00:00, 5918.55it/s]\n"
     ]
    },
    {
     "name": "stdout",
     "output_type": "stream",
     "text": [
      "2.5873015873015874\n",
      "126 <class 'list'>\n",
      "<class 'numpy.ndarray'> 11\n",
      "The auc of prediction is: 0.9776920361780781\n",
      "The aupr of prediction is: 0.8998910960754896\n"
     ]
    },
    {
     "name": "stderr",
     "output_type": "stream",
     "text": [
      "100%|██████████████████████████████████████████████████████████████████████████████| 210/210 [00:00<00:00, 1300.03it/s]\n",
      "100%|██████████████████████████████████████████████████████████████████████████████| 210/210 [00:00<00:00, 6258.06it/s]\n"
     ]
    },
    {
     "name": "stdout",
     "output_type": "stream",
     "text": [
      "2.7394957983193278\n",
      "119 <class 'list'>\n",
      "<class 'numpy.ndarray'> 11\n",
      "The auc of prediction is: 0.9764345146676252\n",
      "The aupr of prediction is: 0.8997336897331694\n"
     ]
    },
    {
     "name": "stderr",
     "output_type": "stream",
     "text": [
      "100%|██████████████████████████████████████████████████████████████████████████████| 210/210 [00:00<00:00, 1275.62it/s]\n",
      "100%|██████████████████████████████████████████████████████████████████████████████| 210/210 [00:00<00:00, 6268.00it/s]\n"
     ]
    },
    {
     "name": "stdout",
     "output_type": "stream",
     "text": [
      "2.76271186440678\n",
      "118 <class 'list'>\n",
      "<class 'numpy.ndarray'> 11\n",
      "The auc of prediction is: 0.9756122908847621\n",
      "The aupr of prediction is: 0.8945592210246449\n"
     ]
    },
    {
     "name": "stderr",
     "output_type": "stream",
     "text": [
      "100%|██████████████████████████████████████████████████████████████████████████████| 210/210 [00:00<00:00, 1276.20it/s]\n",
      "100%|██████████████████████████████████████████████████████████████████████████████| 210/210 [00:00<00:00, 5751.96it/s]\n"
     ]
    },
    {
     "name": "stdout",
     "output_type": "stream",
     "text": [
      "2.546875\n",
      "128 <class 'list'>\n",
      "<class 'numpy.ndarray'> 7\n",
      "The auc of prediction is: 0.9737572605530456\n",
      "The aupr of prediction is: 0.8952122885109014\n"
     ]
    },
    {
     "name": "stderr",
     "output_type": "stream",
     "text": [
      "100%|██████████████████████████████████████████████████████████████████████████████| 210/210 [00:00<00:00, 1238.95it/s]\n",
      "100%|██████████████████████████████████████████████████████████████████████████████| 210/210 [00:00<00:00, 6355.74it/s]\n"
     ]
    },
    {
     "name": "stdout",
     "output_type": "stream",
     "text": [
      "2.6504065040650406\n",
      "123 <class 'list'>\n",
      "<class 'numpy.ndarray'> 12\n",
      "The auc of prediction is: 0.978299723586929\n",
      "The aupr of prediction is: 0.9014049505092233\n"
     ]
    },
    {
     "name": "stderr",
     "output_type": "stream",
     "text": [
      "100%|██████████████████████████████████████████████████████████████████████████████| 210/210 [00:00<00:00, 1244.96it/s]\n",
      "100%|██████████████████████████████████████████████████████████████████████████████| 210/210 [00:00<00:00, 6169.48it/s]\n"
     ]
    },
    {
     "name": "stdout",
     "output_type": "stream",
     "text": [
      "2.7394957983193278\n",
      "119 <class 'list'>\n",
      "<class 'numpy.ndarray'> 11\n",
      "The auc of prediction is: 0.9762197866847965\n",
      "The aupr of prediction is: 0.8987584321482637\n"
     ]
    },
    {
     "name": "stderr",
     "output_type": "stream",
     "text": [
      "100%|██████████████████████████████████████████████████████████████████████████████| 210/210 [00:00<00:00, 1303.20it/s]\n",
      "100%|██████████████████████████████████████████████████████████████████████████████| 210/210 [00:00<00:00, 6176.49it/s]\n"
     ]
    },
    {
     "name": "stdout",
     "output_type": "stream",
     "text": [
      "2.6504065040650406\n",
      "123 <class 'list'>\n",
      "<class 'numpy.ndarray'> 11\n",
      "The auc of prediction is: 0.9779931993843762\n",
      "The aupr of prediction is: 0.8989700297795209\n"
     ]
    },
    {
     "name": "stderr",
     "output_type": "stream",
     "text": [
      "100%|██████████████████████████████████████████████████████████████████████████████| 210/210 [00:00<00:00, 1263.93it/s]\n",
      "100%|██████████████████████████████████████████████████████████████████████████████| 210/210 [00:00<00:00, 6168.40it/s]\n"
     ]
    },
    {
     "name": "stdout",
     "output_type": "stream",
     "text": [
      "2.608\n",
      "125 <class 'list'>\n",
      "<class 'numpy.ndarray'> 11\n",
      "The auc of prediction is: 0.9772606077050714\n",
      "The aupr of prediction is: 0.9002245571244014\n"
     ]
    },
    {
     "name": "stderr",
     "output_type": "stream",
     "text": [
      "100%|██████████████████████████████████████████████████████████████████████████████| 210/210 [00:00<00:00, 1264.13it/s]\n",
      "100%|██████████████████████████████████████████████████████████████████████████████| 210/210 [00:00<00:00, 5672.58it/s]"
     ]
    },
    {
     "name": "stdout",
     "output_type": "stream",
     "text": [
      "4.353448275862069\n",
      "116 <class 'list'>\n",
      "<class 'numpy.ndarray'> 11\n",
      "The auc of prediction is: 0.9433662756431529\n",
      "The aupr of prediction is: 0.7499380715671922\n",
      "The auc of prediction is: 0.9700714404877169\n",
      "The aupr of prediction is: 0.8807224458720172\n"
     ]
    },
    {
     "name": "stderr",
     "output_type": "stream",
     "text": [
      "\n"
     ]
    }
   ],
   "source": [
    "# %load run_main.py\n",
    "import numpy as np\n",
    "from function import *\n",
    "from tqdm import trange\n",
    "from sklearn.metrics.pairwise import cosine_similarity\n",
    "import sklearn.metrics\n",
    "import copy\n",
    "rs = 0.6\n",
    "n_fold=10\n",
    "eta=0.7\n",
    "l_1=5\n",
    "l_2=5\n",
    "fr=500\n",
    "fp=300\n",
    "K=20\n",
    "#dr_dis=np.loadtxt(\"./source_data/mat_drug_disease.txt\")\n",
    "dr_pre=np.loadtxt(\"./source_data/ic4_admat_dgc.txt\").T\n",
    "#pre_dis=np.loadtxt(\"./source_data/mat_protein_disease.txt\")\n",
    "#dr_dr=np.loadtxt(\"./source_data/mat_drug_drug.txt\")\n",
    "#dr_se=np.loadtxt(\"./source_data/mat_drug_se.txt\")\n",
    "#pre_pre=np.loadtxt(\"./source_data/mat_protein_protein.txt\")\n",
    "simdr=np.loadtxt(\"./source_data/ic_simmat_drug.txt\")\n",
    "simpre=np.loadtxt(\"./source_data/ic_simmat_target.txt\")\n",
    "\n",
    "drnum=len(simdr)\n",
    "#disnum=len(dr_dis[0])\n",
    "prenum=len(simpre)\n",
    "\n",
    "index_1 = np.loadtxt(\"./dataset/index_1.txt\")\n",
    "index_0 = np.loadtxt(\"./dataset/index_0.txt\")\n",
    "index = np.hstack((index_1, index_0))\n",
    "reala=dr_pre\n",
    "sr = simdr\n",
    "sd = simpre\n",
    "\n",
    "RR=np.zeros(dr_pre.shape)\n",
    "#A = np.hstack((dr_dr, dr_dis, dr_se))\n",
    "#B = np.hstack((pre_pre, pre_dis))\n",
    "#cutdr_dis = SVD(A, fr)\n",
    "#cutpre_dis = SVD(B, fp)\n",
    "#pre_simdti = cosine_similarity(cutpre_dis, cutpre_dis)\n",
    "#dr_simdti = cosine_similarity(cutdr_dis, cutdr_dis)\n",
    "pre_simdti = np.loadtxt(\"./source_data/S_FGS_p_ic.txt\")\n",
    "dr_simdti = np.loadtxt(\"./source_data/S_FGS_d_ic.txt\")\n",
    "\n",
    "srfp, spfp = pruning(K=K, drug_mat=dr_simdti, target_mat=pre_simdti, miu=eta)\n",
    "srsp, spsp = pruning(K=K, drug_mat=sr, target_mat=sd, miu=eta)\n",
    "\n",
    "for f in trange(n_fold):\n",
    "    a = np.loadtxt(\"./dataset/DTI\" + str(f) + \".txt\")\n",
    "    idx=index[f,:]\n",
    "   \n",
    "    R = copy.deepcopy(a)\n",
    "    R = BiRW(R, dr_simdti, pre_simdti, a, rs)        \n",
    "    for i in trange(l_1):\n",
    "        R=BiRW(R, srfp, spfp, a, rs/2)\n",
    "    for i in trange(l_2):\n",
    "        R=BiRW(R, srsp, spsp, a, rs/2)\n",
    "\n",
    "    realvalue=np.zeros(R.shape)\n",
    "    #for i in range(len(idx)):\n",
    "        #d=int(idx[i]/prenum)\n",
    "        #p=int(idx[i]%prenum)\n",
    "    \n",
    "        #realvalue[d,p]=reala[d,p]\n",
    "    #for i in range(len(idx)):\n",
    "        #d=int(idx[i]/prenum)\n",
    "        #p=int(idx[i]%prenum)\n",
    "        #RR[d,p]=R[d,p]\n",
    "\n",
    "y_true_m = dr_pre.tolist()\n",
    "y_pre_m = R.tolist()\n",
    "\n",
    "tpr_cov=[[] for i in range(n_fold)]\n",
    "fpr_cov=[[] for i in range(n_fold)]\n",
    "recall_cov=[[] for i in range(n_fold)]\n",
    "precision_cov=[[] for i in range(n_fold)]\n",
    "\n",
    "for f in range(n_fold):\n",
    "    idx=index[f,:]\n",
    "    singal=[[] for i in range(len(y_true_m))]\n",
    "    singal_test=[[] for i in range(len(y_true_m))]\n",
    "    for i in trange(len(y_true_m)):\n",
    "        for j in range(len(y_true_m[0])):\n",
    "            if i*prenum+j in idx:\n",
    "                singal[i].append(y_true_m[i][j])\n",
    "                singal_test[i].append(y_pre_m[i][j])\n",
    "    y_true=singal\n",
    "    y_pre=singal_test\n",
    "\n",
    "    idx = []\n",
    "    tpr_list = []\n",
    "    fpr_list = []\n",
    "    recall_list = []\n",
    "    precision_list = []\n",
    "    c = 0\n",
    "    for i in trange(len(y_true)):\n",
    "        if np.sum(np.array(y_true[i])) == 0:\n",
    "            c += 1\n",
    "            continue\n",
    "        else:\n",
    "            tpr1, fpr1, precision1, recall1 = tpr_fpr_precision_recall(np.array(y_true[i]), np.array(y_pre[i]))\n",
    "            fpr_list.append(fpr1)\n",
    "            tpr_list.append(tpr1)\n",
    "            precision_list.append(precision1)\n",
    "            recall_list.append(recall1)\n",
    "    coverage = []\n",
    "\n",
    "    for i in tpr_list:\n",
    "        try:\n",
    "            coverage.append(i.index(1.0)+1)\n",
    "        except:\n",
    "            print('1')\n",
    "    print(np.mean(np.array(coverage)))\n",
    "\n",
    "    tpr = equal_len_list(tpr_list)\n",
    "    print(len(tpr ),type(tpr))\n",
    "    fpr = equal_len_list(fpr_list)\n",
    "    precision = equal_len_list(precision_list)\n",
    "    recall = equal_len_list(recall_list)\n",
    "    tpr_mean = np.mean(tpr, axis=0)\n",
    "    tpr_cov[f]=tpr_mean\n",
    "    print(type(tpr_mean),len(tpr_mean))\n",
    "    fpr_mean = np.mean(fpr, axis=0)\n",
    "    fpr_cov[f]=fpr_mean\n",
    "    recall_mean = np.mean(recall, axis=0)\n",
    "    recall_cov[f]=recall_mean\n",
    "    precision_mean = np.mean(precision, axis=0)\n",
    "    precision_cov[f]=precision_mean\n",
    "    print('The auc of prediction is:', sklearn.metrics.auc(fpr_mean, tpr_mean))\n",
    "    print('The aupr of prediction is:', sklearn.metrics.auc(recall_mean, precision_mean)+recall_mean[0]*precision_mean[0])\n",
    "\n",
    "tpr = equal_len_list(tpr_cov)\n",
    "fpr = equal_len_list(fpr_cov)\n",
    "precision = equal_len_list(precision_cov)\n",
    "recall = equal_len_list(recall_cov)\n",
    "\n",
    "tpr_mean = np.mean(tpr, axis=0)\n",
    "fpr_mean = np.mean(fpr, axis=0)\n",
    "recall_mean = np.mean(recall, axis=0)\n",
    "precision_mean = np.mean(precision, axis=0)\n",
    "\n",
    "print('The auc of prediction is:', sklearn.metrics.auc(fpr_mean, tpr_mean))\n",
    "print('The aupr of prediction is:', sklearn.metrics.auc(recall_mean, precision_mean)+recall_mean[0]*precision_mean[0])\n",
    "\n",
    "np.savetxt('./result/fpr_list.txt', fpr_mean)\n",
    "np.savetxt('./result/tpr_list.txt', tpr_mean)\n",
    "np.savetxt('./result/recall_list.txt', recall_mean)\n",
    "np.savetxt('./result/precision_list.txt', precision_mean)"
   ]
  },
  {
   "cell_type": "code",
   "execution_count": 26,
   "id": "eef4d348",
   "metadata": {},
   "outputs": [
    {
     "data": {
      "text/plain": [
       "array([0.00514814, 0.04471174, 0.20285446, 0.32003656, 0.49736822,\n",
       "       0.62422149, 1.        ])"
      ]
     },
     "execution_count": 26,
     "metadata": {},
     "output_type": "execute_result"
    }
   ],
   "source": [
    "fpr_mean"
   ]
  },
  {
   "cell_type": "code",
   "execution_count": 89,
   "id": "20cafac6",
   "metadata": {},
   "outputs": [
    {
     "data": {
      "text/plain": [
       "(210, 204)"
      ]
     },
     "execution_count": 89,
     "metadata": {},
     "output_type": "execute_result"
    }
   ],
   "source": [
    "reala.shape"
   ]
  },
  {
   "cell_type": "code",
   "execution_count": 14,
   "id": "4f8d7e94",
   "metadata": {},
   "outputs": [],
   "source": [
    "fpr = equal_len_list(fpr_list)\n",
    "   \n",
    "fpr_mean = np.mean(fpr, axis=0)"
   ]
  },
  {
   "cell_type": "code",
   "execution_count": 17,
   "id": "91b46974",
   "metadata": {},
   "outputs": [
    {
     "data": {
      "text/plain": [
       "(11,)"
      ]
     },
     "execution_count": 17,
     "metadata": {},
     "output_type": "execute_result"
    }
   ],
   "source": [
    "fpr_mean.shape"
   ]
  },
  {
   "cell_type": "code",
   "execution_count": 20,
   "id": "ef48ffac",
   "metadata": {},
   "outputs": [
    {
     "data": {
      "image/png": "[encoded data removed]",
      "text/plain": [
       "<Figure size 2000x1000 with 2 Axes>"
      ]
     },
     "metadata": {},
     "output_type": "display_data"
    }
   ],
   "source": [
    "# %load draw_fig.py\n",
    "import numpy as np\n",
    "import matplotlib.pyplot as plt\n",
    "from sklearn.metrics import *\n",
    "from tqdm import tqdm\n",
    "import pylab as Plot\n",
    "\n",
    "CPC_FPR = np.loadtxt('./result/fpr_list.txt')\n",
    "CPC_TPR = np.loadtxt('./result/tpr_list.txt')\n",
    "CPC_RECALL = np.loadtxt('./result/recall_list.txt')\n",
    "CPC_P = np.loadtxt('./result/precision_list.txt')\n",
    "\n",
    "\n",
    "\n",
    "plt.figure(1, figsize=(20, 10))\n",
    "plt.subplot(1, 2, 1)\n",
    "plt.rcParams['figure.figsize'] = (4, 4)\n",
    "plt.title('ROC curve', fontsize=15)\n",
    "\n",
    "plt.xticks(fontsize=15)\n",
    "plt.yticks(fontsize=15)\n",
    "plt.xlabel('FPR', fontsize=15)\n",
    "plt.ylabel('TPR', fontsize=15)\n",
    "\n",
    "\n",
    "plt.plot(CPC_FPR, CPC_TPR, 'aqua', label='BRWCP:{:.4f}'.format(auc(CPC_FPR, CPC_TPR)))\n",
    "\n",
    "\n",
    "plt.legend(loc='lower right', fontsize=12)\n",
    "# plt.plot(fpr_mean, tpr_mean)\n",
    "\n",
    "\n",
    "plt.subplot(1, 2, 2)\n",
    "plt.title('PR curve', fontsize=15)\n",
    "plt.xticks(fontsize=15)\n",
    "plt.yticks(fontsize=15)\n",
    "plt.xlabel('Recall', fontsize=15)\n",
    "plt.ylabel('Precision', fontsize=15)\n",
    "\n",
    "plt.plot(CPC_RECALL, CPC_P, 'aqua', label='BRWCP:{:.4f}'.format(auc(CPC_RECALL, CPC_P)+CPC_RECALL[0]*CPC_P[0]))\n",
    "\n",
    "\n",
    "plt.legend(loc='upper right', fontsize=12)\n",
    "plt.show()\n"
   ]
  },
  {
   "cell_type": "code",
   "execution_count": 25,
   "id": "acce63b2",
   "metadata": {},
   "outputs": [
    {
     "data": {
      "text/plain": [
       "array([[0.00794195, 0.02572682, 0.07236071, ..., 0.07667294, 0.00881902,\n",
       "        0.00919508],\n",
       "       [0.03505823, 0.03821782, 0.05213485, ..., 0.04250746, 0.02900922,\n",
       "        0.02729177],\n",
       "       [0.03115649, 0.04167985, 0.06432004, ..., 0.06304175, 0.04182841,\n",
       "        0.03920246],\n",
       "       ...,\n",
       "       [0.01698394, 0.01979472, 0.03332105, ..., 0.02509672, 0.01669663,\n",
       "        0.01396936],\n",
       "       [0.02702255, 0.03102028, 0.0451241 , ..., 0.03690058, 0.03026129,\n",
       "        0.0256429 ],\n",
       "       [0.01793655, 0.02537913, 0.03619186, ..., 0.02695491, 0.01871322,\n",
       "        0.01685963]])"
      ]
     },
     "execution_count": 25,
     "metadata": {},
     "output_type": "execute_result"
    }
   ],
   "source": [
    "RR"
   ]
  },
  {
   "cell_type": "markdown",
   "id": "420f7f9f",
   "metadata": {},
   "source": [
    "# setting2"
   ]
  },
  {
   "cell_type": "code",
   "execution_count": 1,
   "id": "b3ef9a2e",
   "metadata": {},
   "outputs": [
    {
     "name": "stderr",
     "output_type": "stream",
     "text": [
      "100%|██████████████████████████████████████████████████████████████████████████████████| 10/10 [00:00<00:00, 60.83it/s]\n"
     ]
    }
   ],
   "source": [
    "import random\n",
    "import numpy as np\n",
    "from tqdm import trange\n",
    "import numpy as np\n",
    "\n",
    "fold = 10\n",
    "dr_pre=np.loadtxt(\"./source_data/ic4_admat_dgc.txt\").T\n",
    "simdr=np.loadtxt(\"./source_data/ic_simmat_drug.txt\")\n",
    "simpre=np.loadtxt(\"./source_data/ic_simmat_target.txt\")\n",
    "\n",
    "prenum = len(simpre)\n",
    "drnum = len(simdr)\n",
    "\n",
    "# 获取药物的索引（矩阵的行索引）\n",
    "drug_indices = list(range(dr_pre.shape[0]))\n",
    "num_d = len(drug_indices)\n",
    "\n",
    "group_size1_d = int(num_d / fold)\n",
    "random.seed(10)\n",
    "random.shuffle(drug_indices)\n",
    "\n",
    "array_1=np.array(drug_indices)[0:fold*group_size1_d]\n",
    "group_data1=np.reshape(array_1,(fold,group_size1_d))\n",
    "\n",
    "f = 0\n",
    "for f in trange(fold):\n",
    "    DTI = np.copy(dr_pre)\n",
    "    i=0\n",
    "    while i < group_size1_d:\n",
    "        r = group_data1[f,i ] \n",
    "        c = np.where(DTI[group_data1[f, i], :] == 1)[0]\n",
    "        DTI[r, c] = 0\n",
    "        i += 1  # 得到每次交叉验证中所使用的A矩阵\n",
    "    np.savetxt(\"./dataset/DTI_setting2\"+str(f)+\".txt\",DTI)\n",
    "\n"
   ]
  },
  {
   "cell_type": "code",
   "execution_count": 2,
   "id": "b590ac35",
   "metadata": {},
   "outputs": [
    {
     "name": "stderr",
     "output_type": "stream",
     "text": [
      "  0%|                                                                                           | 0/10 [00:00<?, ?it/s]\n",
      "  0%|                                                                                            | 0/5 [00:00<?, ?it/s]\u001b[A\n",
      " 40%|█████████████████████████████████▌                                                  | 2/5 [00:00<00:00, 15.93it/s]\u001b[A\n",
      "100%|████████████████████████████████████████████████████████████████████████████████████| 5/5 [00:00<00:00, 15.13it/s]\u001b[A\n",
      "\n",
      "  0%|                                                                                            | 0/5 [00:00<?, ?it/s]\u001b[A\n",
      " 40%|█████████████████████████████████▌                                                  | 2/5 [00:00<00:00, 14.44it/s]\u001b[A\n",
      "100%|████████████████████████████████████████████████████████████████████████████████████| 5/5 [00:00<00:00, 15.10it/s]\u001b[A\n",
      " 10%|████████▎                                                                          | 1/10 [00:00<00:06,  1.31it/s]\n",
      "  0%|                                                                                            | 0/5 [00:00<?, ?it/s]\u001b[A\n",
      " 40%|█████████████████████████████████▌                                                  | 2/5 [00:00<00:00, 15.44it/s]\u001b[A\n",
      "100%|████████████████████████████████████████████████████████████████████████████████████| 5/5 [00:00<00:00, 14.18it/s]\u001b[A\n",
      "\n",
      "  0%|                                                                                            | 0/5 [00:00<?, ?it/s]\u001b[A\n",
      " 40%|█████████████████████████████████▌                                                  | 2/5 [00:00<00:00, 15.38it/s]\u001b[A\n",
      "100%|████████████████████████████████████████████████████████████████████████████████████| 5/5 [00:00<00:00, 14.53it/s]\u001b[A\n",
      " 20%|████████████████▌                                                                  | 2/10 [00:01<00:06,  1.28it/s]\n",
      "  0%|                                                                                            | 0/5 [00:00<?, ?it/s]\u001b[A\n",
      " 40%|█████████████████████████████████▌                                                  | 2/5 [00:00<00:00, 14.91it/s]\u001b[A\n",
      "100%|████████████████████████████████████████████████████████████████████████████████████| 5/5 [00:00<00:00, 14.66it/s]\u001b[A\n",
      "\n",
      "  0%|                                                                                            | 0/5 [00:00<?, ?it/s]\u001b[A\n",
      " 40%|█████████████████████████████████▌                                                  | 2/5 [00:00<00:00, 15.44it/s]\u001b[A\n",
      "100%|████████████████████████████████████████████████████████████████████████████████████| 5/5 [00:00<00:00, 14.49it/s]\u001b[A\n",
      " 30%|████████████████████████▉                                                          | 3/10 [00:02<00:05,  1.28it/s]\n",
      "  0%|                                                                                            | 0/5 [00:00<?, ?it/s]\u001b[A\n",
      " 40%|█████████████████████████████████▌                                                  | 2/5 [00:00<00:00, 16.06it/s]\u001b[A\n",
      "100%|████████████████████████████████████████████████████████████████████████████████████| 5/5 [00:00<00:00, 15.38it/s]\u001b[A\n",
      "\n",
      "  0%|                                                                                            | 0/5 [00:00<?, ?it/s]\u001b[A\n",
      " 40%|█████████████████████████████████▌                                                  | 2/5 [00:00<00:00, 13.03it/s]\u001b[A\n",
      "100%|████████████████████████████████████████████████████████████████████████████████████| 5/5 [00:00<00:00, 13.81it/s]\u001b[A\n",
      " 40%|█████████████████████████████████▏                                                 | 4/10 [00:03<00:04,  1.27it/s]\n",
      "  0%|                                                                                            | 0/5 [00:00<?, ?it/s]\u001b[A\n",
      " 40%|█████████████████████████████████▌                                                  | 2/5 [00:00<00:00, 15.56it/s]\u001b[A\n",
      "100%|████████████████████████████████████████████████████████████████████████████████████| 5/5 [00:00<00:00, 14.81it/s]\u001b[A\n",
      "\n",
      "  0%|                                                                                            | 0/5 [00:00<?, ?it/s]\u001b[A\n",
      " 40%|█████████████████████████████████▌                                                  | 2/5 [00:00<00:00, 14.42it/s]\u001b[A\n",
      "100%|████████████████████████████████████████████████████████████████████████████████████| 5/5 [00:00<00:00, 14.63it/s]\u001b[A\n",
      " 50%|█████████████████████████████████████████▌                                         | 5/10 [00:03<00:03,  1.27it/s]\n",
      "  0%|                                                                                            | 0/5 [00:00<?, ?it/s]\u001b[A\n",
      " 40%|█████████████████████████████████▌                                                  | 2/5 [00:00<00:00, 13.93it/s]\u001b[A\n",
      "100%|████████████████████████████████████████████████████████████████████████████████████| 5/5 [00:00<00:00, 14.77it/s]\u001b[A\n",
      "\n",
      "  0%|                                                                                            | 0/5 [00:00<?, ?it/s]\u001b[A\n",
      " 40%|█████████████████████████████████▌                                                  | 2/5 [00:00<00:00, 15.56it/s]\u001b[A\n",
      "100%|████████████████████████████████████████████████████████████████████████████████████| 5/5 [00:00<00:00, 15.19it/s]\u001b[A\n",
      " 60%|█████████████████████████████████████████████████▊                                 | 6/10 [00:04<00:03,  1.28it/s]\n",
      "  0%|                                                                                            | 0/5 [00:00<?, ?it/s]\u001b[A\n",
      " 40%|█████████████████████████████████▌                                                  | 2/5 [00:00<00:00, 15.56it/s]\u001b[A\n",
      "100%|████████████████████████████████████████████████████████████████████████████████████| 5/5 [00:00<00:00, 14.99it/s]\u001b[A\n",
      "\n",
      "  0%|                                                                                            | 0/5 [00:00<?, ?it/s]\u001b[A\n",
      " 40%|█████████████████████████████████▌                                                  | 2/5 [00:00<00:00, 14.70it/s]\u001b[A\n",
      "100%|████████████████████████████████████████████████████████████████████████████████████| 5/5 [00:00<00:00, 14.12it/s]\u001b[A\n",
      " 70%|██████████████████████████████████████████████████████████                         | 7/10 [00:05<00:02,  1.28it/s]\n",
      "  0%|                                                                                            | 0/5 [00:00<?, ?it/s]\u001b[A\n",
      " 40%|█████████████████████████████████▌                                                  | 2/5 [00:00<00:00, 15.26it/s]\u001b[A\n",
      "100%|████████████████████████████████████████████████████████████████████████████████████| 5/5 [00:00<00:00, 14.72it/s]\u001b[A\n",
      "\n",
      "  0%|                                                                                            | 0/5 [00:00<?, ?it/s]\u001b[A\n",
      " 40%|█████████████████████████████████▌                                                  | 2/5 [00:00<00:00, 14.98it/s]\u001b[A\n",
      "100%|████████████████████████████████████████████████████████████████████████████████████| 5/5 [00:00<00:00, 15.22it/s]\u001b[A\n",
      " 80%|██████████████████████████████████████████████████████████████████▍                | 8/10 [00:06<00:01,  1.27it/s]\n",
      "  0%|                                                                                            | 0/5 [00:00<?, ?it/s]\u001b[A\n",
      " 40%|█████████████████████████████████▌                                                  | 2/5 [00:00<00:00, 15.44it/s]\u001b[A\n",
      "100%|████████████████████████████████████████████████████████████████████████████████████| 5/5 [00:00<00:00, 14.62it/s]\u001b[A\n",
      "\n",
      "  0%|                                                                                            | 0/5 [00:00<?, ?it/s]\u001b[A\n",
      " 40%|█████████████████████████████████▌                                                  | 2/5 [00:00<00:00, 15.15it/s]\u001b[A\n",
      "100%|████████████████████████████████████████████████████████████████████████████████████| 5/5 [00:00<00:00, 14.53it/s]\u001b[A\n",
      " 90%|██████████████████████████████████████████████████████████████████████████▋        | 9/10 [00:07<00:00,  1.27it/s]\n",
      "  0%|                                                                                            | 0/5 [00:00<?, ?it/s]\u001b[A\n",
      " 40%|█████████████████████████████████▌                                                  | 2/5 [00:00<00:00, 14.54it/s]\u001b[A\n"
     ]
    },
    {
     "name": "stderr",
     "output_type": "stream",
     "text": [
      "100%|████████████████████████████████████████████████████████████████████████████████████| 5/5 [00:00<00:00, 15.45it/s]\u001b[A\n",
      "\n",
      "  0%|                                                                                            | 0/5 [00:00<?, ?it/s]\u001b[A\n",
      " 40%|█████████████████████████████████▌                                                  | 2/5 [00:00<00:00, 15.09it/s]\u001b[A\n",
      "100%|████████████████████████████████████████████████████████████████████████████████████| 5/5 [00:00<00:00, 15.89it/s]\u001b[A\n",
      "100%|██████████████████████████████████████████████████████████████████████████████████| 10/10 [00:07<00:00,  1.28it/s]\n",
      "100%|██████████████████████████████████████████████████████████████████████████████| 210/210 [00:00<00:00, 1990.43it/s]\n",
      "100%|██████████████████████████████████████████████████████████████████████████████| 210/210 [00:00<00:00, 3359.31it/s]\n"
     ]
    },
    {
     "name": "stdout",
     "output_type": "stream",
     "text": [
      "11.857142857142858\n",
      "21 <class 'list'>\n",
      "<class 'numpy.ndarray'> 204\n",
      "The auc of prediction is: 0.9827859431765203\n",
      "The aupr of prediction is: 0.7929753641666849\n"
     ]
    },
    {
     "name": "stderr",
     "output_type": "stream",
     "text": [
      "100%|██████████████████████████████████████████████████████████████████████████████| 210/210 [00:00<00:00, 2048.38it/s]\n",
      "100%|██████████████████████████████████████████████████████████████████████████████| 210/210 [00:00<00:00, 3582.35it/s]\n"
     ]
    },
    {
     "name": "stdout",
     "output_type": "stream",
     "text": [
      "19.238095238095237\n",
      "21 <class 'list'>\n",
      "<class 'numpy.ndarray'> 204\n",
      "The auc of prediction is: 0.974336385990721\n",
      "The aupr of prediction is: 0.801727926141097\n"
     ]
    },
    {
     "name": "stderr",
     "output_type": "stream",
     "text": [
      "100%|██████████████████████████████████████████████████████████████████████████████| 210/210 [00:00<00:00, 2242.70it/s]\n",
      "100%|██████████████████████████████████████████████████████████████████████████████| 210/210 [00:00<00:00, 3620.45it/s]\n"
     ]
    },
    {
     "name": "stdout",
     "output_type": "stream",
     "text": [
      "12.857142857142858\n",
      "21 <class 'list'>\n",
      "<class 'numpy.ndarray'> 204\n",
      "The auc of prediction is: 0.984592024196177\n",
      "The aupr of prediction is: 0.81956749217525\n"
     ]
    },
    {
     "name": "stderr",
     "output_type": "stream",
     "text": [
      "100%|██████████████████████████████████████████████████████████████████████████████| 210/210 [00:00<00:00, 2219.16it/s]\n",
      "100%|██████████████████████████████████████████████████████████████████████████████| 210/210 [00:00<00:00, 3652.17it/s]\n"
     ]
    },
    {
     "name": "stdout",
     "output_type": "stream",
     "text": [
      "13.380952380952381\n",
      "21 <class 'list'>\n",
      "<class 'numpy.ndarray'> 204\n",
      "The auc of prediction is: 0.9895570732000276\n",
      "The aupr of prediction is: 0.8548008354240643\n"
     ]
    },
    {
     "name": "stderr",
     "output_type": "stream",
     "text": [
      "100%|██████████████████████████████████████████████████████████████████████████████| 210/210 [00:00<00:00, 2221.20it/s]\n",
      "100%|██████████████████████████████████████████████████████████████████████████████| 210/210 [00:00<00:00, 3748.87it/s]\n"
     ]
    },
    {
     "name": "stdout",
     "output_type": "stream",
     "text": [
      "8.571428571428571\n",
      "21 <class 'list'>\n",
      "<class 'numpy.ndarray'> 204\n",
      "The auc of prediction is: 0.9911105733863224\n",
      "The aupr of prediction is: 0.8460671706711853\n"
     ]
    },
    {
     "name": "stderr",
     "output_type": "stream",
     "text": [
      "100%|██████████████████████████████████████████████████████████████████████████████| 210/210 [00:00<00:00, 2160.46it/s]\n",
      "100%|██████████████████████████████████████████████████████████████████████████████| 210/210 [00:00<00:00, 3651.36it/s]\n"
     ]
    },
    {
     "name": "stdout",
     "output_type": "stream",
     "text": [
      "15.285714285714286\n",
      "21 <class 'list'>\n",
      "<class 'numpy.ndarray'> 204\n",
      "The auc of prediction is: 0.9874403900743767\n",
      "The aupr of prediction is: 0.8667249498885929\n"
     ]
    },
    {
     "name": "stderr",
     "output_type": "stream",
     "text": [
      "100%|██████████████████████████████████████████████████████████████████████████████| 210/210 [00:00<00:00, 2068.72it/s]\n",
      "100%|██████████████████████████████████████████████████████████████████████████████| 210/210 [00:00<00:00, 3802.27it/s]\n"
     ]
    },
    {
     "name": "stdout",
     "output_type": "stream",
     "text": [
      "13.952380952380953\n",
      "21 <class 'list'>\n",
      "<class 'numpy.ndarray'> 204\n",
      "The auc of prediction is: 0.9831466738553318\n",
      "The aupr of prediction is: 0.807829018435684\n"
     ]
    },
    {
     "name": "stderr",
     "output_type": "stream",
     "text": [
      "100%|██████████████████████████████████████████████████████████████████████████████| 210/210 [00:00<00:00, 2291.21it/s]\n",
      "100%|██████████████████████████████████████████████████████████████████████████████| 210/210 [00:00<00:00, 3815.81it/s]\n"
     ]
    },
    {
     "name": "stdout",
     "output_type": "stream",
     "text": [
      "20.095238095238095\n",
      "21 <class 'list'>\n",
      "<class 'numpy.ndarray'> 204\n",
      "The auc of prediction is: 0.9787861062381418\n",
      "The aupr of prediction is: 0.8252602164164763\n"
     ]
    },
    {
     "name": "stderr",
     "output_type": "stream",
     "text": [
      "100%|██████████████████████████████████████████████████████████████████████████████| 210/210 [00:00<00:00, 2198.15it/s]\n",
      "100%|██████████████████████████████████████████████████████████████████████████████| 210/210 [00:00<00:00, 3671.96it/s]\n"
     ]
    },
    {
     "name": "stdout",
     "output_type": "stream",
     "text": [
      "21.0\n",
      "21 <class 'list'>\n",
      "<class 'numpy.ndarray'> 204\n",
      "The auc of prediction is: 0.9696580685880105\n",
      "The aupr of prediction is: 0.7869219673543936\n"
     ]
    },
    {
     "name": "stderr",
     "output_type": "stream",
     "text": [
      "100%|██████████████████████████████████████████████████████████████████████████████| 210/210 [00:00<00:00, 2269.18it/s]\n",
      "100%|██████████████████████████████████████████████████████████████████████████████| 210/210 [00:00<00:00, 3746.33it/s]"
     ]
    },
    {
     "name": "stdout",
     "output_type": "stream",
     "text": [
      "177.71428571428572\n",
      "21 <class 'list'>\n",
      "<class 'numpy.ndarray'> 204\n",
      "The auc of prediction is: 0.4789547364425087\n",
      "The aupr of prediction is: 0.0729689245107843\n",
      "The auc of prediction is: 0.9336411730167951\n",
      "The aupr of prediction is: 0.6771736872538623\n",
      "Runtime: 9.452691316604614\n"
     ]
    },
    {
     "name": "stderr",
     "output_type": "stream",
     "text": [
      "\n"
     ]
    }
   ],
   "source": [
    "# %load run_main.py\n",
    "import numpy as np\n",
    "from function import *\n",
    "from tqdm import trange\n",
    "from sklearn.metrics.pairwise import cosine_similarity\n",
    "import sklearn.metrics\n",
    "import copy\n",
    "import time\n",
    "rs = 0.6\n",
    "n_fold=10\n",
    "eta=0.7\n",
    "l_1=5\n",
    "l_2=5\n",
    "fr=500\n",
    "fp=300\n",
    "K=20\n",
    "dr_pre=np.loadtxt(\"./source_data/ic4_admat_dgc.txt\").T\n",
    "simdr=np.loadtxt(\"./source_data/ic_simmat_drug.txt\")\n",
    "simpre=np.loadtxt(\"./source_data/ic_simmat_target.txt\")\n",
    "\n",
    "drnum=len(simdr)     #药物的数目\n",
    "#disnum=len(dr_dis[0])     #副作用的数目\n",
    "prenum=len(simpre)     #蛋白质的数目\n",
    "\n",
    "\n",
    "#index_1 = np.loadtxt(\"./dataset/index_1.txt\")\n",
    "#index_0 = np.loadtxt(\"./dataset/index_0.txt\")\n",
    "#index = np.hstack((index_1, index_0))     #水平拼接\n",
    "reala=dr_pre\n",
    "sr = simdr\n",
    "sd = simpre/100\n",
    "\n",
    "RR=np.zeros(dr_pre.shape)       #原始的邻接矩阵\n",
    "#A = np.hstack((dr_dr, dr_dis, dr_se))       #Fr\n",
    "#B = np.hstack((pre_pre, pre_dis))         #Fp\n",
    "#cutdr_dis = SVD(A, fr)    #奇异值分解    Fr'\n",
    "#cutpre_dis = SVD(B, fp)     #奇异值分解    Fp'\n",
    "#pre_simdti = cosine_similarity(cutpre_dis, cutpre_dis)    #计算余弦相似度   SrF\n",
    "#dr_simdti = cosine_similarity(cutdr_dis, cutdr_dis)        #计算余弦相似度   SpF\n",
    "pre_simdti = np.loadtxt(\"./source_data/S_FGS_p_ic.txt\")\n",
    "dr_simdti = np.loadtxt(\"./source_data/S_FGS_d_ic.txt\")\n",
    "\n",
    "# 获取药物的索引（矩阵的行索引）\n",
    "drug_indices = list(range(dr_pre.shape[0]))\n",
    "num_d = len(drug_indices)\n",
    "\n",
    "group_size1_d = int(num_d / fold)\n",
    "random.seed(10)\n",
    "random.shuffle(drug_indices)\n",
    "\n",
    "array_1=np.array(drug_indices)[0:fold*group_size1_d]\n",
    "group_data1=np.reshape(array_1,(fold,group_size1_d))\n",
    "# 获取靶点的索引（矩阵的列索引）\n",
    "protein_indices = list(range(dr_pre.shape[1]))\n",
    "\n",
    "# 记录开始时间\n",
    "start_time = time.time()\n",
    "\n",
    "srfp, spfp = pruning(K=K, drug_mat=dr_simdti, target_mat=pre_simdti, miu=eta)\n",
    "srsp, spsp = pruning(K=K, drug_mat=sr, target_mat=sd, miu=eta)\n",
    "\n",
    "for f in trange(n_fold):\n",
    "    a = np.loadtxt(\"./dataset/DTI_setting2\" + str(f) + \".txt\")\n",
    "    #idx=index[f,:]\n",
    "   \n",
    "    R = copy.deepcopy(a)\n",
    "    R = BiRW(R, dr_simdti, pre_simdti, a, rs)        \n",
    "    for i in trange(l_1):\n",
    "        R=BiRW(R, srfp, spfp, a, rs/2)\n",
    "    for i in trange(l_2):\n",
    "        R=BiRW(R, srsp, spsp, a, rs/2)\n",
    "\n",
    "    realvalue=np.zeros(R.shape)\n",
    "    for i in range(len(group_data1[f, :])): \n",
    "        d=group_data1[f, i]\n",
    "        p=np.where(DTI[group_data1[f, i], :] == 1)[0]\n",
    "        realvalue[d,p]=reala[d,p]\n",
    "    for i in range(len(group_data1[f, :])): \n",
    "        d=group_data1[f, i]\n",
    "        p=np.where(DTI[group_data1[f, i], :] == 1)[0]\n",
    "        RR[d,p]=R[d,p]\n",
    "\n",
    "y_true_m = dr_pre.tolist()\n",
    "y_pre_m = RR.tolist()\n",
    "\n",
    "tpr_cov=[[] for i in range(n_fold)]\n",
    "fpr_cov=[[] for i in range(n_fold)]\n",
    "recall_cov=[[] for i in range(n_fold)]\n",
    "precision_cov=[[] for i in range(n_fold)]\n",
    "\n",
    "for f in range(n_fold):\n",
    "    #idx=index[f,:]\n",
    "    singal=[[] for i in range(len(y_true_m))]\n",
    "    singal_test=[[] for i in range(len(y_true_m))]\n",
    "    for i in trange(len(y_true_m)):\n",
    "        for j in range(len(y_true_m[0])):\n",
    "            if i in group_data1[f, :] and j in protein_indices :\n",
    "                singal[i].append(y_true_m[i][j])\n",
    "                singal_test[i].append(y_pre_m[i][j])\n",
    "    y_true=singal\n",
    "    y_pre=singal_test\n",
    "\n",
    "    idx = []\n",
    "    tpr_list = []\n",
    "    fpr_list = []\n",
    "    recall_list = []\n",
    "    precision_list = []\n",
    "    c = 0\n",
    "    for i in trange(len(y_true)):\n",
    "        if np.sum(np.array(y_true[i])) == 0:\n",
    "            c += 1\n",
    "            continue\n",
    "        else:\n",
    "            tpr1, fpr1, precision1, recall1 = tpr_fpr_precision_recall(np.array(y_true[i]), np.array(y_pre[i]))\n",
    "            fpr_list.append(fpr1)\n",
    "            tpr_list.append(tpr1)\n",
    "            precision_list.append(precision1)\n",
    "            recall_list.append(recall1)\n",
    "    coverage = []\n",
    "\n",
    "    for i in tpr_list:\n",
    "        try:\n",
    "            coverage.append(i.index(1.0)+1)\n",
    "        except:\n",
    "            print('1')\n",
    "    print(np.mean(np.array(coverage)))\n",
    "\n",
    "    tpr = equal_len_list(tpr_list)\n",
    "    print(len(tpr ),type(tpr))\n",
    "    fpr = equal_len_list(fpr_list)\n",
    "    precision = equal_len_list(precision_list)\n",
    "    recall = equal_len_list(recall_list)\n",
    "    tpr_mean = np.mean(tpr, axis=0)\n",
    "    tpr_cov[f]=tpr_mean\n",
    "    print(type(tpr_mean),len(tpr_mean))\n",
    "    fpr_mean = np.mean(fpr, axis=0)\n",
    "    fpr_cov[f]=fpr_mean\n",
    "    recall_mean = np.mean(recall, axis=0)\n",
    "    recall_cov[f]=recall_mean\n",
    "    precision_mean = np.mean(precision, axis=0)\n",
    "    precision_cov[f]=precision_mean\n",
    "    print('The auc of prediction is:', sklearn.metrics.auc(fpr_mean, tpr_mean))\n",
    "    print('The aupr of prediction is:', sklearn.metrics.auc(recall_mean, precision_mean)+recall_mean[0]*precision_mean[0])\n",
    "\n",
    "tpr = equal_len_list(tpr_cov)\n",
    "fpr = equal_len_list(fpr_cov)\n",
    "precision = equal_len_list(precision_cov)\n",
    "recall = equal_len_list(recall_cov)\n",
    "\n",
    "tpr_mean_snf = np.mean(tpr, axis=0)\n",
    "fpr_mean_snf = np.mean(fpr, axis=0)\n",
    "recall_mean_snf = np.mean(recall, axis=0)\n",
    "precision_mean_snf = np.mean(precision, axis=0)\n",
    "\n",
    "# 记录结束时间并计算运行时间\n",
    "end_time = time.time()\n",
    "runtime = end_time - start_time\n",
    "\n",
    "print('The auc of prediction is:', sklearn.metrics.auc(fpr_mean_snf, tpr_mean_snf))\n",
    "print('The aupr of prediction is:', sklearn.metrics.auc(recall_mean_snf, precision_mean_snf)+recall_mean_snf[0]*precision_mean_snf[0])\n",
    "# 打印灵敏度和运行时间\n",
    "\n",
    "print('Runtime:', runtime)\n",
    "#np.savetxt('./result/fpr_list_snf.txt', fpr_mean_snf)\n",
    "#np.savetxt('./result/tpr_list.txt_snf', tpr_mean_snf)\n",
    "#np.savetxt('./result/recall_list.txt_snf', recall_mean_snf)\n",
    "#np.savetxt('./result/precision_list.txt_snf', precision_mean_snf)\n",
    "\n",
    "\n",
    "\n",
    "\n"
   ]
  },
  {
   "cell_type": "markdown",
   "id": "0374005b",
   "metadata": {},
   "source": [
    "# setting3"
   ]
  },
  {
   "cell_type": "code",
   "execution_count": 3,
   "id": "cebb0071",
   "metadata": {},
   "outputs": [
    {
     "name": "stderr",
     "output_type": "stream",
     "text": [
      "100%|██████████████████████████████████████████████████████████████████████████████████| 10/10 [00:00<00:00, 59.49it/s]\n"
     ]
    }
   ],
   "source": [
    "import random\n",
    "import numpy as np\n",
    "from tqdm import trange\n",
    "import numpy as np\n",
    "\n",
    "fold = 10\n",
    "dr_pre=np.loadtxt(\"./source_data/ic4_admat_dgc.txt\").T\n",
    "simdr=np.loadtxt(\"./source_data/ic_simmat_drug.txt\")\n",
    "simpre=np.loadtxt(\"./source_data/ic_simmat_target.txt\")\n",
    "prenum = len(simpre)\n",
    "drnum = len(simdr)\n",
    "\n",
    "# 获取药物的索引（矩阵的行索引）\n",
    "drug_indices = list(range(dr_pre.shape[0]))\n",
    "num_d = len(drug_indices)\n",
    "group_size1_d = int(num_d / fold)\n",
    "random.seed(10)\n",
    "random.shuffle(drug_indices)\n",
    "\n",
    "# 获取靶点的索引（矩阵的列索引）\n",
    "protein_indices = list(range(dr_pre.shape[1]))\n",
    "num_p = len(protein_indices)\n",
    "group_size1_p = int(num_p / fold)\n",
    "random.seed(10)\n",
    "random.shuffle(protein_indices)\n",
    "\n",
    "array_1_p=np.array(protein_indices)[0:fold*group_size1_p]\n",
    "group_data1_p=np.reshape(array_1_p,(fold,group_size1_p))\n",
    "\n",
    "f = 0\n",
    "for f in trange(fold):\n",
    "    DTI = np.copy(dr_pre)\n",
    "    i=0\n",
    "    while i < group_size1_p:\n",
    "        r = np.where(dr_pre[:, group_data1_p[f, i]] == 1)[0]\n",
    "        c = group_data1_p[f, i]\n",
    "        DTI[r, c] = 0\n",
    "        i += 1  # 得到每次交叉验证中所使用的A矩阵\n",
    "    np.savetxt(\"./dataset/DTI_setting3\"+str(f)+\".txt\",DTI)\n",
    "\n"
   ]
  },
  {
   "cell_type": "code",
   "execution_count": 4,
   "id": "1cf5cb06",
   "metadata": {},
   "outputs": [
    {
     "name": "stderr",
     "output_type": "stream",
     "text": [
      "  0%|                                                                                           | 0/10 [00:00<?, ?it/s]\n",
      "  0%|                                                                                            | 0/5 [00:00<?, ?it/s]\u001b[A\n",
      " 40%|█████████████████████████████████▌                                                  | 2/5 [00:00<00:00, 15.44it/s]\u001b[A\n",
      "100%|████████████████████████████████████████████████████████████████████████████████████| 5/5 [00:00<00:00, 15.40it/s]\u001b[A\n",
      "\n",
      "  0%|                                                                                            | 0/5 [00:00<?, ?it/s]\u001b[A\n",
      " 40%|█████████████████████████████████▌                                                  | 2/5 [00:00<00:00, 16.24it/s]\u001b[A\n",
      "100%|████████████████████████████████████████████████████████████████████████████████████| 5/5 [00:00<00:00, 15.44it/s]\u001b[A\n",
      " 10%|████████▎                                                                          | 1/10 [00:00<00:06,  1.33it/s]\n",
      "  0%|                                                                                            | 0/5 [00:00<?, ?it/s]\u001b[A\n",
      " 40%|█████████████████████████████████▌                                                  | 2/5 [00:00<00:00, 15.48it/s]\u001b[A\n",
      "100%|████████████████████████████████████████████████████████████████████████████████████| 5/5 [00:00<00:00, 14.46it/s]\u001b[A\n",
      "\n",
      "  0%|                                                                                            | 0/5 [00:00<?, ?it/s]\u001b[A\n",
      " 40%|█████████████████████████████████▌                                                  | 2/5 [00:00<00:00, 15.44it/s]\u001b[A\n",
      "100%|████████████████████████████████████████████████████████████████████████████████████| 5/5 [00:00<00:00, 13.14it/s]\u001b[A\n",
      " 20%|████████████████▌                                                                  | 2/10 [00:01<00:06,  1.25it/s]\n",
      "  0%|                                                                                            | 0/5 [00:00<?, ?it/s]\u001b[A\n",
      " 40%|█████████████████████████████████▌                                                  | 2/5 [00:00<00:00, 12.23it/s]\u001b[A\n",
      "100%|████████████████████████████████████████████████████████████████████████████████████| 5/5 [00:00<00:00, 12.69it/s]\u001b[A\n",
      "\n",
      "  0%|                                                                                            | 0/5 [00:00<?, ?it/s]\u001b[A\n",
      " 40%|█████████████████████████████████▌                                                  | 2/5 [00:00<00:00, 13.28it/s]\u001b[A\n",
      "100%|████████████████████████████████████████████████████████████████████████████████████| 5/5 [00:00<00:00, 14.18it/s]\u001b[A\n",
      " 30%|████████████████████████▉                                                          | 3/10 [00:02<00:05,  1.21it/s]\n",
      "  0%|                                                                                            | 0/5 [00:00<?, ?it/s]\u001b[A\n",
      " 40%|█████████████████████████████████▌                                                  | 2/5 [00:00<00:00, 15.44it/s]\u001b[A\n",
      "100%|████████████████████████████████████████████████████████████████████████████████████| 5/5 [00:00<00:00, 15.33it/s]\u001b[A\n",
      "\n",
      "  0%|                                                                                            | 0/5 [00:00<?, ?it/s]\u001b[A\n",
      " 40%|█████████████████████████████████▌                                                  | 2/5 [00:00<00:00, 15.32it/s]\u001b[A\n",
      "100%|████████████████████████████████████████████████████████████████████████████████████| 5/5 [00:00<00:00, 16.02it/s]\u001b[A\n",
      " 40%|█████████████████████████████████▏                                                 | 4/10 [00:03<00:04,  1.27it/s]\n",
      "  0%|                                                                                            | 0/5 [00:00<?, ?it/s]\u001b[A\n",
      " 40%|█████████████████████████████████▌                                                  | 2/5 [00:00<00:00, 13.82it/s]\u001b[A\n",
      "100%|████████████████████████████████████████████████████████████████████████████████████| 5/5 [00:00<00:00, 14.12it/s]\u001b[A\n",
      "\n",
      "  0%|                                                                                            | 0/5 [00:00<?, ?it/s]\u001b[A\n",
      " 40%|█████████████████████████████████▌                                                  | 2/5 [00:00<00:00, 12.70it/s]\u001b[A\n",
      "100%|████████████████████████████████████████████████████████████████████████████████████| 5/5 [00:00<00:00, 13.56it/s]\u001b[A\n",
      " 50%|█████████████████████████████████████████▌                                         | 5/10 [00:04<00:04,  1.25it/s]\n",
      "  0%|                                                                                            | 0/5 [00:00<?, ?it/s]\u001b[A\n",
      " 40%|█████████████████████████████████▌                                                  | 2/5 [00:00<00:00, 14.87it/s]\u001b[A\n",
      "100%|████████████████████████████████████████████████████████████████████████████████████| 5/5 [00:00<00:00, 14.39it/s]\u001b[A\n",
      "\n",
      "  0%|                                                                                            | 0/5 [00:00<?, ?it/s]\u001b[A\n",
      " 40%|█████████████████████████████████▌                                                  | 2/5 [00:00<00:00, 14.34it/s]\u001b[A\n",
      "100%|████████████████████████████████████████████████████████████████████████████████████| 5/5 [00:00<00:00, 13.56it/s]\u001b[A\n",
      " 60%|█████████████████████████████████████████████████▊                                 | 6/10 [00:04<00:03,  1.24it/s]\n",
      "  0%|                                                                                            | 0/5 [00:00<?, ?it/s]\u001b[A\n",
      " 40%|█████████████████████████████████▌                                                  | 2/5 [00:00<00:00, 14.75it/s]\u001b[A\n",
      "100%|████████████████████████████████████████████████████████████████████████████████████| 5/5 [00:00<00:00, 13.98it/s]\u001b[A\n",
      "\n",
      "  0%|                                                                                            | 0/5 [00:00<?, ?it/s]\u001b[A\n",
      " 40%|█████████████████████████████████▌                                                  | 2/5 [00:00<00:00, 14.92it/s]\u001b[A\n",
      "100%|████████████████████████████████████████████████████████████████████████████████████| 5/5 [00:00<00:00, 15.57it/s]\u001b[A\n",
      " 70%|██████████████████████████████████████████████████████████                         | 7/10 [00:05<00:02,  1.24it/s]\n",
      "  0%|                                                                                            | 0/5 [00:00<?, ?it/s]\u001b[A\n",
      " 40%|█████████████████████████████████▌                                                  | 2/5 [00:00<00:00, 15.27it/s]\u001b[A\n",
      "100%|████████████████████████████████████████████████████████████████████████████████████| 5/5 [00:00<00:00, 14.20it/s]\u001b[A\n",
      "\n",
      "  0%|                                                                                            | 0/5 [00:00<?, ?it/s]\u001b[A\n",
      " 40%|█████████████████████████████████▌                                                  | 2/5 [00:00<00:00, 13.60it/s]\u001b[A\n",
      "100%|████████████████████████████████████████████████████████████████████████████████████| 5/5 [00:00<00:00, 14.00it/s]\u001b[A\n",
      " 80%|██████████████████████████████████████████████████████████████████▍                | 8/10 [00:06<00:01,  1.24it/s]\n",
      "  0%|                                                                                            | 0/5 [00:00<?, ?it/s]\u001b[A\n",
      " 40%|█████████████████████████████████▌                                                  | 2/5 [00:00<00:00, 15.32it/s]\u001b[A\n",
      "100%|████████████████████████████████████████████████████████████████████████████████████| 5/5 [00:00<00:00, 14.36it/s]\u001b[A\n",
      "\n",
      "  0%|                                                                                            | 0/5 [00:00<?, ?it/s]\u001b[A\n",
      " 40%|█████████████████████████████████▌                                                  | 2/5 [00:00<00:00, 15.38it/s]\u001b[A\n",
      "100%|████████████████████████████████████████████████████████████████████████████████████| 5/5 [00:00<00:00, 16.05it/s]\u001b[A\n",
      " 90%|██████████████████████████████████████████████████████████████████████████▋        | 9/10 [00:07<00:00,  1.27it/s]\n",
      "  0%|                                                                                            | 0/5 [00:00<?, ?it/s]\u001b[A\n",
      " 40%|█████████████████████████████████▌                                                  | 2/5 [00:00<00:00, 15.38it/s]\u001b[A\n"
     ]
    },
    {
     "name": "stderr",
     "output_type": "stream",
     "text": [
      "100%|████████████████████████████████████████████████████████████████████████████████████| 5/5 [00:00<00:00, 14.62it/s]\u001b[A\n",
      "\n",
      "  0%|                                                                                            | 0/5 [00:00<?, ?it/s]\u001b[A\n",
      " 40%|█████████████████████████████████▌                                                  | 2/5 [00:00<00:00, 15.69it/s]\u001b[A\n",
      "100%|████████████████████████████████████████████████████████████████████████████████████| 5/5 [00:00<00:00, 15.28it/s]\u001b[A\n",
      "100%|██████████████████████████████████████████████████████████████████████████████████| 10/10 [00:07<00:00,  1.26it/s]\n",
      "100%|██████████████████████████████████████████████████████████████████████████████| 210/210 [00:00<00:00, 1363.35it/s]\n",
      "100%|██████████████████████████████████████████████████████████████████████████████| 210/210 [00:00<00:00, 4564.58it/s]\n"
     ]
    },
    {
     "name": "stdout",
     "output_type": "stream",
     "text": [
      "2.263157894736842\n",
      "152 <class 'list'>\n",
      "<class 'numpy.ndarray'> 20\n",
      "The auc of prediction is: 0.9833264939236661\n",
      "The aupr of prediction is: 0.9132092711000679\n"
     ]
    },
    {
     "name": "stderr",
     "output_type": "stream",
     "text": [
      "100%|██████████████████████████████████████████████████████████████████████████████| 210/210 [00:00<00:00, 1656.77it/s]\n",
      "100%|██████████████████████████████████████████████████████████████████████████████| 210/210 [00:00<00:00, 6074.17it/s]\n"
     ]
    },
    {
     "name": "stdout",
     "output_type": "stream",
     "text": [
      "2.913793103448276\n",
      "116 <class 'list'>\n",
      "<class 'numpy.ndarray'> 20\n",
      "The auc of prediction is: 0.9799855434379001\n",
      "The aupr of prediction is: 0.9057379248003119\n"
     ]
    },
    {
     "name": "stderr",
     "output_type": "stream",
     "text": [
      "100%|██████████████████████████████████████████████████████████████████████████████| 210/210 [00:00<00:00, 1607.55it/s]\n",
      "100%|██████████████████████████████████████████████████████████████████████████████| 210/210 [00:00<00:00, 5643.25it/s]\n"
     ]
    },
    {
     "name": "stdout",
     "output_type": "stream",
     "text": [
      "3.2481203007518795\n",
      "133 <class 'list'>\n",
      "<class 'numpy.ndarray'> 20\n",
      "The auc of prediction is: 0.9742805021291856\n",
      "The aupr of prediction is: 0.8897809750657902\n"
     ]
    },
    {
     "name": "stderr",
     "output_type": "stream",
     "text": [
      "100%|██████████████████████████████████████████████████████████████████████████████| 210/210 [00:00<00:00, 1657.65it/s]\n",
      "100%|██████████████████████████████████████████████████████████████████████████████| 210/210 [00:00<00:00, 5377.74it/s]\n"
     ]
    },
    {
     "name": "stdout",
     "output_type": "stream",
     "text": [
      "2.4125874125874125\n",
      "143 <class 'list'>\n",
      "<class 'numpy.ndarray'> 20\n",
      "The auc of prediction is: 0.9786770737556169\n",
      "The aupr of prediction is: 0.9030276003777421\n"
     ]
    },
    {
     "name": "stderr",
     "output_type": "stream",
     "text": [
      "100%|██████████████████████████████████████████████████████████████████████████████| 210/210 [00:00<00:00, 1656.09it/s]\n",
      "100%|██████████████████████████████████████████████████████████████████████████████| 210/210 [00:00<00:00, 6086.01it/s]\n"
     ]
    },
    {
     "name": "stdout",
     "output_type": "stream",
     "text": [
      "2.4\n",
      "125 <class 'list'>\n",
      "<class 'numpy.ndarray'> 20\n",
      "The auc of prediction is: 0.9837482881232384\n",
      "The aupr of prediction is: 0.9171542796289425\n"
     ]
    },
    {
     "name": "stderr",
     "output_type": "stream",
     "text": [
      "100%|██████████████████████████████████████████████████████████████████████████████| 210/210 [00:00<00:00, 1658.21it/s]\n",
      "100%|██████████████████████████████████████████████████████████████████████████████| 210/210 [00:00<00:00, 5052.65it/s]\n"
     ]
    },
    {
     "name": "stdout",
     "output_type": "stream",
     "text": [
      "2.2158273381294964\n",
      "139 <class 'list'>\n",
      "<class 'numpy.ndarray'> 20\n",
      "The auc of prediction is: 0.9821970037456722\n",
      "The aupr of prediction is: 0.9123397293833714\n"
     ]
    },
    {
     "name": "stderr",
     "output_type": "stream",
     "text": [
      "100%|██████████████████████████████████████████████████████████████████████████████| 210/210 [00:00<00:00, 1571.72it/s]\n",
      "100%|██████████████████████████████████████████████████████████████████████████████| 210/210 [00:00<00:00, 6879.99it/s]\n"
     ]
    },
    {
     "name": "stdout",
     "output_type": "stream",
     "text": [
      "2.9611650485436893\n",
      "103 <class 'list'>\n",
      "<class 'numpy.ndarray'> 20\n",
      "The auc of prediction is: 0.9771147185080866\n",
      "The aupr of prediction is: 0.8933556177622701\n"
     ]
    },
    {
     "name": "stderr",
     "output_type": "stream",
     "text": [
      "100%|██████████████████████████████████████████████████████████████████████████████| 210/210 [00:00<00:00, 1559.51it/s]\n",
      "100%|██████████████████████████████████████████████████████████████████████████████| 210/210 [00:00<00:00, 7222.13it/s]\n"
     ]
    },
    {
     "name": "stdout",
     "output_type": "stream",
     "text": [
      "2.378640776699029\n",
      "103 <class 'list'>\n",
      "<class 'numpy.ndarray'> 20\n",
      "The auc of prediction is: 0.9785473229852927\n",
      "The aupr of prediction is: 0.909375434510339\n"
     ]
    },
    {
     "name": "stderr",
     "output_type": "stream",
     "text": [
      "100%|██████████████████████████████████████████████████████████████████████████████| 210/210 [00:00<00:00, 1552.90it/s]\n",
      "100%|██████████████████████████████████████████████████████████████████████████████| 210/210 [00:00<00:00, 6352.81it/s]\n"
     ]
    },
    {
     "name": "stdout",
     "output_type": "stream",
     "text": [
      "2.7079646017699117\n",
      "113 <class 'list'>\n",
      "<class 'numpy.ndarray'> 20\n",
      "The auc of prediction is: 0.9740740624672503\n",
      "The aupr of prediction is: 0.8938000078556959\n"
     ]
    },
    {
     "name": "stderr",
     "output_type": "stream",
     "text": [
      "100%|██████████████████████████████████████████████████████████████████████████████| 210/210 [00:00<00:00, 1542.91it/s]\n",
      "100%|██████████████████████████████████████████████████████████████████████████████| 210/210 [00:00<00:00, 6363.27it/s]"
     ]
    },
    {
     "name": "stdout",
     "output_type": "stream",
     "text": [
      "2.2018348623853212\n",
      "109 <class 'list'>\n",
      "<class 'numpy.ndarray'> 20\n",
      "The auc of prediction is: 0.9827932511347767\n",
      "The aupr of prediction is: 0.9172792137448301\n",
      "The auc of prediction is: 0.9788737815371539\n",
      "The aupr of prediction is: 0.9021757701447292\n",
      "Runtime: 9.773264646530151\n"
     ]
    },
    {
     "name": "stderr",
     "output_type": "stream",
     "text": [
      "\n"
     ]
    }
   ],
   "source": [
    "# %load run_main.py\n",
    "import numpy as np\n",
    "from function import *\n",
    "from tqdm import trange\n",
    "from sklearn.metrics.pairwise import cosine_similarity\n",
    "import sklearn.metrics\n",
    "import copy\n",
    "import time\n",
    "rs = 0.6\n",
    "n_fold=10\n",
    "eta=0.7\n",
    "l_1=5\n",
    "l_2=5\n",
    "fr=500\n",
    "fp=300\n",
    "K=20\n",
    "dr_pre=np.loadtxt(\"./source_data/ic4_admat_dgc.txt\").T\n",
    "simdr=np.loadtxt(\"./source_data/ic_simmat_drug.txt\")\n",
    "simpre=np.loadtxt(\"./source_data/ic_simmat_target.txt\")\n",
    "\n",
    "drnum=len(simdr)     #药物的数目\n",
    "#disnum=len(dr_dis[0])     #副作用的数目\n",
    "prenum=len(simpre)     #蛋白质的数目\n",
    "\n",
    "\n",
    "#index_1 = np.loadtxt(\"./dataset/index_1.txt\")\n",
    "#index_0 = np.loadtxt(\"./dataset/index_0.txt\")\n",
    "#index = np.hstack((index_1, index_0))     #水平拼接\n",
    "reala=dr_pre\n",
    "sr = simdr\n",
    "sd = simpre/100\n",
    "\n",
    "RR=np.zeros(dr_pre.shape)       #原始的邻接矩阵\n",
    "#A = np.hstack((dr_dr, dr_dis, dr_se))       #Fr\n",
    "#B = np.hstack((pre_pre, pre_dis))         #Fp\n",
    "#cutdr_dis = SVD(A, fr)    #奇异值分解    Fr'\n",
    "#cutpre_dis = SVD(B, fp)     #奇异值分解    Fp'\n",
    "#pre_simdti = cosine_similarity(cutpre_dis, cutpre_dis)    #计算余弦相似度   SrF\n",
    "#dr_simdti = cosine_similarity(cutdr_dis, cutdr_dis)        #计算余弦相似度   SpF\n",
    "pre_simdti = np.loadtxt(\"./source_data/S_FGS_p_ic.txt\")\n",
    "dr_simdti = np.loadtxt(\"./source_data/S_FGS_d_ic.txt\")\n",
    "\n",
    "# 获取靶点的索引（矩阵的列索引）\n",
    "protein_indices = list(range(dr_pre.shape[1]))\n",
    "num_p = len(protein_indices)\n",
    "group_size1_p = int(num_p / fold)\n",
    "random.seed(10)\n",
    "random.shuffle(protein_indices)\n",
    "\n",
    "array_1_p=np.array(protein_indices)[0:fold*group_size1_p]\n",
    "group_data1_p=np.reshape(array_1_p,(fold,group_size1_p))\n",
    "\n",
    "# 记录开始时间\n",
    "start_time = time.time()\n",
    "\n",
    "srfp, spfp = pruning(K=K, drug_mat=dr_simdti, target_mat=pre_simdti, miu=eta)\n",
    "srsp, spsp = pruning(K=K, drug_mat=sr, target_mat=sd, miu=eta)\n",
    "\n",
    "for f in trange(n_fold):\n",
    "    a = np.loadtxt(\"./dataset/DTI_setting3\" + str(f) + \".txt\")\n",
    "    #idx=index[f,:]\n",
    "   \n",
    "    R = copy.deepcopy(a)\n",
    "    R = BiRW(R, dr_simdti, pre_simdti, a, rs)        \n",
    "    for i in trange(l_1):\n",
    "        R=BiRW(R, srfp, spfp, a, rs/2)\n",
    "    for i in trange(l_2):\n",
    "        R=BiRW(R, srsp, spsp, a, rs/2)\n",
    "\n",
    "    realvalue=np.zeros(R.shape)\n",
    "    for i in range(len(group_data1_p[f, :])): \n",
    "        d=np.where(dr_pre[:, group_data1_p[f, i]] == 1)[0]\n",
    "        p=group_data1_p[f, i]\n",
    "        realvalue[d,p]=reala[d,p]\n",
    "    for i in range(len(group_data1_p[f, :])): \n",
    "        d=np.where(dr_pre[:, group_data1_p[f, i]] == 1)[0]\n",
    "        p=group_data1_p[f, i]\n",
    "        RR[d,p]=R[d,p]\n",
    "\n",
    "y_true_m = dr_pre.tolist()\n",
    "y_pre_m = RR.tolist()\n",
    "\n",
    "tpr_cov=[[] for i in range(n_fold)]\n",
    "fpr_cov=[[] for i in range(n_fold)]\n",
    "recall_cov=[[] for i in range(n_fold)]\n",
    "precision_cov=[[] for i in range(n_fold)]\n",
    "\n",
    "for f in range(n_fold):\n",
    "    #idx=index[f,:]\n",
    "    singal=[[] for i in range(len(y_true_m))]\n",
    "    singal_test=[[] for i in range(len(y_true_m))]\n",
    "    for i in trange(len(y_true_m)):\n",
    "        for j in range(len(y_true_m[0])):\n",
    "            if i in drug_indices and j in group_data1_p[f, :] :\n",
    "                singal[i].append(y_true_m[i][j])\n",
    "                singal_test[i].append(y_pre_m[i][j])\n",
    "    y_true=singal\n",
    "    y_pre=singal_test\n",
    "\n",
    "    idx = []\n",
    "    tpr_list = []\n",
    "    fpr_list = []\n",
    "    recall_list = []\n",
    "    precision_list = []\n",
    "    c = 0\n",
    "    for i in trange(len(y_true)):\n",
    "        if np.sum(np.array(y_true[i])) == 0:\n",
    "            c += 1\n",
    "            continue\n",
    "        else:\n",
    "            tpr1, fpr1, precision1, recall1 = tpr_fpr_precision_recall(np.array(y_true[i]), np.array(y_pre[i]))\n",
    "            fpr_list.append(fpr1)\n",
    "            tpr_list.append(tpr1)\n",
    "            precision_list.append(precision1)\n",
    "            recall_list.append(recall1)\n",
    "    coverage = []\n",
    "\n",
    "    for i in tpr_list:\n",
    "        try:\n",
    "            coverage.append(i.index(1.0)+1)\n",
    "        except:\n",
    "            print('1')\n",
    "    print(np.mean(np.array(coverage)))\n",
    "\n",
    "    tpr = equal_len_list(tpr_list)\n",
    "    print(len(tpr ),type(tpr))\n",
    "    fpr = equal_len_list(fpr_list)\n",
    "    precision = equal_len_list(precision_list)\n",
    "    recall = equal_len_list(recall_list)\n",
    "    tpr_mean = np.mean(tpr, axis=0)\n",
    "    tpr_cov[f]=tpr_mean\n",
    "    print(type(tpr_mean),len(tpr_mean))\n",
    "    fpr_mean = np.mean(fpr, axis=0)\n",
    "    fpr_cov[f]=fpr_mean\n",
    "    recall_mean = np.mean(recall, axis=0)\n",
    "    recall_cov[f]=recall_mean\n",
    "    precision_mean = np.mean(precision, axis=0)\n",
    "    precision_cov[f]=precision_mean\n",
    "    print('The auc of prediction is:', sklearn.metrics.auc(fpr_mean, tpr_mean))\n",
    "    print('The aupr of prediction is:', sklearn.metrics.auc(recall_mean, precision_mean)+recall_mean[0]*precision_mean[0])\n",
    "\n",
    "tpr = equal_len_list(tpr_cov)\n",
    "fpr = equal_len_list(fpr_cov)\n",
    "precision = equal_len_list(precision_cov)\n",
    "recall = equal_len_list(recall_cov)\n",
    "\n",
    "tpr_mean_snf = np.mean(tpr, axis=0)\n",
    "fpr_mean_snf = np.mean(fpr, axis=0)\n",
    "recall_mean_snf = np.mean(recall, axis=0)\n",
    "precision_mean_snf = np.mean(precision, axis=0)\n",
    "\n",
    "# 记录结束时间并计算运行时间\n",
    "end_time = time.time()\n",
    "runtime = end_time - start_time\n",
    "\n",
    "print('The auc of prediction is:', sklearn.metrics.auc(fpr_mean_snf, tpr_mean_snf))\n",
    "print('The aupr of prediction is:', sklearn.metrics.auc(recall_mean_snf, precision_mean_snf)+recall_mean_snf[0]*precision_mean_snf[0])\n",
    "# 打印灵敏度和运行时间\n",
    "\n",
    "print('Runtime:', runtime)\n",
    "#np.savetxt('./result/fpr_list_snf.txt', fpr_mean_snf)\n",
    "#np.savetxt('./result/tpr_list.txt_snf', tpr_mean_snf)\n",
    "#np.savetxt('./result/recall_list.txt_snf', recall_mean_snf)\n",
    "#np.savetxt('./result/precision_list.txt_snf', precision_mean_snf)\n",
    "\n",
    "\n",
    "\n",
    "\n"
   ]
  },
  {
   "cell_type": "markdown",
   "id": "7ce401ea",
   "metadata": {},
   "source": [
    "# setting4"
   ]
  },
  {
   "cell_type": "code",
   "execution_count": 5,
   "id": "220ce976",
   "metadata": {},
   "outputs": [
    {
     "name": "stderr",
     "output_type": "stream",
     "text": [
      "100%|██████████████████████████████████████████████████████████████████████████████████| 10/10 [00:00<00:00, 47.96it/s]\n"
     ]
    }
   ],
   "source": [
    "import random\n",
    "import numpy as np\n",
    "from tqdm import trange\n",
    "import numpy as np\n",
    "\n",
    "fold = 10\n",
    "dr_pre=np.loadtxt(\"./source_data/ic4_admat_dgc.txt\").T\n",
    "simdr=np.loadtxt(\"./source_data/ic_simmat_drug.txt\")\n",
    "simpre=np.loadtxt(\"./source_data/ic_simmat_target.txt\")\n",
    "\n",
    "prenum = len(simpre)\n",
    "drnum = len(simdr)\n",
    "\n",
    "# 获取药物的索引（矩阵的行索引）\n",
    "drug_indices = list(range(dr_pre.shape[0]))\n",
    "num_d = len(drug_indices)\n",
    "group_size1_d = int(num_d / fold)\n",
    "random.seed(10)\n",
    "random.shuffle(drug_indices)\n",
    "\n",
    "# 获取靶点的索引（矩阵的列索引）\n",
    "protein_indices = list(range(dr_pre.shape[1]))\n",
    "num_p = len(protein_indices)\n",
    "group_size1_p = int(num_p / fold)\n",
    "random.seed(10)\n",
    "random.shuffle(protein_indices)\n",
    "\n",
    "array_1_p=np.array(protein_indices)[0:fold*group_size1_p]\n",
    "group_data1_p=np.reshape(array_1_p,(fold,group_size1_p))\n",
    "\n",
    "f = 0\n",
    "for f in trange(fold):\n",
    "    DTI = np.copy(dr_pre)\n",
    "    i=0\n",
    "    while i < group_size1_d:\n",
    "        r = group_data1[f,i ] \n",
    "        c = np.where(DTI[group_data1[f, i], :] == 1)[0]\n",
    "        DTI[r, c] = 0\n",
    "        i += 1  # 得到每次交叉验证中所使用的A矩阵\n",
    "\n",
    "    while i < group_size1_p:\n",
    "        r = np.where(dr_pre[:, group_data1_p[f, i]] == 1)[0]\n",
    "        c = group_data1_p[f, i]\n",
    "        DTI[r, c] = 0\n",
    "        i += 1  # 得到每次交叉验证中所使用的A矩阵\n",
    "    np.savetxt(\"./dataset/DTI_setting4\"+str(f)+\".txt\",DTI)\n",
    "\n"
   ]
  },
  {
   "cell_type": "code",
   "execution_count": 6,
   "id": "6b511aee",
   "metadata": {},
   "outputs": [
    {
     "name": "stderr",
     "output_type": "stream",
     "text": [
      "  0%|                                                                                           | 0/10 [00:00<?, ?it/s]\n",
      "  0%|                                                                                            | 0/5 [00:00<?, ?it/s]\u001b[A\n",
      " 40%|█████████████████████████████████▌                                                  | 2/5 [00:00<00:00, 14.92it/s]\u001b[A\n",
      "100%|████████████████████████████████████████████████████████████████████████████████████| 5/5 [00:00<00:00, 15.15it/s]\u001b[A\n",
      "\n",
      "  0%|                                                                                            | 0/5 [00:00<?, ?it/s]\u001b[A\n",
      " 40%|█████████████████████████████████▌                                                  | 2/5 [00:00<00:00, 14.69it/s]\u001b[A\n",
      "100%|████████████████████████████████████████████████████████████████████████████████████| 5/5 [00:00<00:00, 14.49it/s]\u001b[A\n",
      " 10%|████████▎                                                                          | 1/10 [00:00<00:06,  1.29it/s]\n",
      "  0%|                                                                                            | 0/5 [00:00<?, ?it/s]\u001b[A\n",
      " 40%|█████████████████████████████████▌                                                  | 2/5 [00:00<00:00, 14.08it/s]\u001b[A\n",
      "100%|████████████████████████████████████████████████████████████████████████████████████| 5/5 [00:00<00:00, 13.40it/s]\u001b[A\n",
      "\n",
      "  0%|                                                                                            | 0/5 [00:00<?, ?it/s]\u001b[A\n",
      " 40%|█████████████████████████████████▌                                                  | 2/5 [00:00<00:00, 13.60it/s]\u001b[A\n",
      "100%|████████████████████████████████████████████████████████████████████████████████████| 5/5 [00:00<00:00, 13.38it/s]\u001b[A\n",
      " 20%|████████████████▌                                                                  | 2/10 [00:01<00:06,  1.21it/s]\n",
      "  0%|                                                                                            | 0/5 [00:00<?, ?it/s]\u001b[A\n",
      " 40%|█████████████████████████████████▌                                                  | 2/5 [00:00<00:00, 13.47it/s]\u001b[A\n",
      "100%|████████████████████████████████████████████████████████████████████████████████████| 5/5 [00:00<00:00, 13.23it/s]\u001b[A\n",
      "\n",
      "  0%|                                                                                            | 0/5 [00:00<?, ?it/s]\u001b[A\n",
      " 40%|█████████████████████████████████▌                                                  | 2/5 [00:00<00:00, 15.09it/s]\u001b[A\n",
      "100%|████████████████████████████████████████████████████████████████████████████████████| 5/5 [00:00<00:00, 13.03it/s]\u001b[A\n",
      " 30%|████████████████████████▉                                                          | 3/10 [00:02<00:05,  1.18it/s]\n",
      "  0%|                                                                                            | 0/5 [00:00<?, ?it/s]\u001b[A\n",
      " 40%|█████████████████████████████████▌                                                  | 2/5 [00:00<00:00, 14.23it/s]\u001b[A\n",
      "100%|████████████████████████████████████████████████████████████████████████████████████| 5/5 [00:00<00:00, 14.02it/s]\u001b[A\n",
      "\n",
      "  0%|                                                                                            | 0/5 [00:00<?, ?it/s]\u001b[A\n",
      " 40%|█████████████████████████████████▌                                                  | 2/5 [00:00<00:00, 13.16it/s]\u001b[A\n",
      "100%|████████████████████████████████████████████████████████████████████████████████████| 5/5 [00:00<00:00, 11.98it/s]\u001b[A\n",
      " 40%|█████████████████████████████████▏                                                 | 4/10 [00:03<00:05,  1.15it/s]\n",
      "  0%|                                                                                            | 0/5 [00:00<?, ?it/s]\u001b[A\n",
      " 40%|█████████████████████████████████▌                                                  | 2/5 [00:00<00:00, 13.47it/s]\u001b[A\n",
      "100%|████████████████████████████████████████████████████████████████████████████████████| 5/5 [00:00<00:00, 13.95it/s]\u001b[A\n",
      "\n",
      "  0%|                                                                                            | 0/5 [00:00<?, ?it/s]\u001b[A\n",
      " 40%|█████████████████████████████████▌                                                  | 2/5 [00:00<00:00, 12.58it/s]\u001b[A\n",
      "100%|████████████████████████████████████████████████████████████████████████████████████| 5/5 [00:00<00:00, 12.95it/s]\u001b[A\n",
      " 50%|█████████████████████████████████████████▌                                         | 5/10 [00:04<00:04,  1.15it/s]\n",
      "  0%|                                                                                            | 0/5 [00:00<?, ?it/s]\u001b[A\n",
      " 40%|█████████████████████████████████▌                                                  | 2/5 [00:00<00:00, 13.74it/s]\u001b[A\n",
      "100%|████████████████████████████████████████████████████████████████████████████████████| 5/5 [00:00<00:00, 12.80it/s]\u001b[A\n",
      "\n",
      "  0%|                                                                                            | 0/5 [00:00<?, ?it/s]\u001b[A\n",
      " 40%|█████████████████████████████████▌                                                  | 2/5 [00:00<00:00, 11.76it/s]\u001b[A\n",
      "100%|████████████████████████████████████████████████████████████████████████████████████| 5/5 [00:00<00:00, 11.25it/s]\u001b[A\n",
      " 60%|█████████████████████████████████████████████████▊                                 | 6/10 [00:05<00:03,  1.12it/s]\n",
      "  0%|                                                                                            | 0/5 [00:00<?, ?it/s]\u001b[A\n",
      " 40%|█████████████████████████████████▌                                                  | 2/5 [00:00<00:00, 13.47it/s]\u001b[A\n",
      "100%|████████████████████████████████████████████████████████████████████████████████████| 5/5 [00:00<00:00, 13.22it/s]\u001b[A\n",
      "\n",
      "  0%|                                                                                            | 0/5 [00:00<?, ?it/s]\u001b[A\n",
      " 40%|█████████████████████████████████▌                                                  | 2/5 [00:00<00:00, 13.33it/s]\u001b[A\n",
      "100%|████████████████████████████████████████████████████████████████████████████████████| 5/5 [00:00<00:00, 12.34it/s]\u001b[A\n",
      " 70%|██████████████████████████████████████████████████████████                         | 7/10 [00:06<00:02,  1.12it/s]\n",
      "  0%|                                                                                            | 0/5 [00:00<?, ?it/s]\u001b[A\n",
      " 40%|█████████████████████████████████▌                                                  | 2/5 [00:00<00:00, 13.75it/s]\u001b[A\n",
      "100%|████████████████████████████████████████████████████████████████████████████████████| 5/5 [00:00<00:00, 13.66it/s]\u001b[A\n",
      "\n",
      "  0%|                                                                                            | 0/5 [00:00<?, ?it/s]\u001b[A\n",
      " 40%|█████████████████████████████████▌                                                  | 2/5 [00:00<00:00, 13.81it/s]\u001b[A\n",
      "100%|████████████████████████████████████████████████████████████████████████████████████| 5/5 [00:00<00:00, 13.55it/s]\u001b[A\n",
      " 80%|██████████████████████████████████████████████████████████████████▍                | 8/10 [00:06<00:01,  1.14it/s]\n",
      "  0%|                                                                                            | 0/5 [00:00<?, ?it/s]\u001b[A\n",
      " 40%|█████████████████████████████████▌                                                  | 2/5 [00:00<00:00, 11.05it/s]\u001b[A\n",
      "100%|████████████████████████████████████████████████████████████████████████████████████| 5/5 [00:00<00:00, 12.50it/s]\u001b[A\n",
      "\n",
      "  0%|                                                                                            | 0/5 [00:00<?, ?it/s]\u001b[A\n",
      " 40%|█████████████████████████████████▌                                                  | 2/5 [00:00<00:00, 13.25it/s]\u001b[A\n",
      "100%|████████████████████████████████████████████████████████████████████████████████████| 5/5 [00:00<00:00, 13.59it/s]\u001b[A\n",
      " 90%|██████████████████████████████████████████████████████████████████████████▋        | 9/10 [00:07<00:00,  1.13it/s]\n",
      "  0%|                                                                                            | 0/5 [00:00<?, ?it/s]\u001b[A\n",
      " 40%|█████████████████████████████████▌                                                  | 2/5 [00:00<00:00, 13.65it/s]\u001b[A\n"
     ]
    },
    {
     "name": "stderr",
     "output_type": "stream",
     "text": [
      "100%|████████████████████████████████████████████████████████████████████████████████████| 5/5 [00:00<00:00, 13.82it/s]\u001b[A\n",
      "\n",
      "  0%|                                                                                            | 0/5 [00:00<?, ?it/s]\u001b[A\n",
      " 40%|█████████████████████████████████▌                                                  | 2/5 [00:00<00:00, 13.94it/s]\u001b[A\n",
      "100%|████████████████████████████████████████████████████████████████████████████████████| 5/5 [00:00<00:00, 14.04it/s]\u001b[A\n",
      "100%|██████████████████████████████████████████████████████████████████████████████████| 10/10 [00:08<00:00,  1.15it/s]\n",
      "100%|███████████████████████████████████████████████████████████████████████████████| 210/210 [00:00<00:00, 773.41it/s]\n",
      "100%|██████████████████████████████████████████████████████████████████████████████| 210/210 [00:00<00:00, 1865.60it/s]\n"
     ]
    },
    {
     "name": "stdout",
     "output_type": "stream",
     "text": [
      "17.61875\n",
      "160 <class 'list'>\n",
      "<class 'numpy.ndarray'> 20\n",
      "The auc of prediction is: 0.48911328225089235\n",
      "The aupr of prediction is: 0.12835704682243806\n"
     ]
    },
    {
     "name": "stderr",
     "output_type": "stream",
     "text": [
      "100%|███████████████████████████████████████████████████████████████████████████████| 210/210 [00:00<00:00, 861.76it/s]\n",
      "100%|██████████████████████████████████████████████████████████████████████████████| 210/210 [00:00<00:00, 2027.82it/s]\n"
     ]
    },
    {
     "name": "stdout",
     "output_type": "stream",
     "text": [
      "28.536\n",
      "125 <class 'list'>\n",
      "<class 'numpy.ndarray'> 20\n",
      "The auc of prediction is: 0.5286158538959568\n",
      "The aupr of prediction is: 0.23689892650910807\n"
     ]
    },
    {
     "name": "stderr",
     "output_type": "stream",
     "text": [
      "100%|███████████████████████████████████████████████████████████████████████████████| 210/210 [00:00<00:00, 890.77it/s]\n",
      "100%|██████████████████████████████████████████████████████████████████████████████| 210/210 [00:00<00:00, 1864.31it/s]\n"
     ]
    },
    {
     "name": "stdout",
     "output_type": "stream",
     "text": [
      "23.855172413793102\n",
      "145 <class 'list'>\n",
      "<class 'numpy.ndarray'> 20\n",
      "The auc of prediction is: 0.5630545837604451\n",
      "The aupr of prediction is: 0.21514894648039512\n"
     ]
    },
    {
     "name": "stderr",
     "output_type": "stream",
     "text": [
      "100%|███████████████████████████████████████████████████████████████████████████████| 210/210 [00:00<00:00, 821.61it/s]\n",
      "100%|██████████████████████████████████████████████████████████████████████████████| 210/210 [00:00<00:00, 2048.63it/s]\n"
     ]
    },
    {
     "name": "stdout",
     "output_type": "stream",
     "text": [
      "28.5578231292517\n",
      "147 <class 'list'>\n",
      "<class 'numpy.ndarray'> 20\n",
      "The auc of prediction is: 0.5858224484946211\n",
      "The aupr of prediction is: 0.2232587635848721\n"
     ]
    },
    {
     "name": "stderr",
     "output_type": "stream",
     "text": [
      "100%|███████████████████████████████████████████████████████████████████████████████| 210/210 [00:00<00:00, 908.28it/s]\n",
      "100%|██████████████████████████████████████████████████████████████████████████████| 210/210 [00:00<00:00, 2268.64it/s]\n"
     ]
    },
    {
     "name": "stdout",
     "output_type": "stream",
     "text": [
      "27.7007299270073\n",
      "137 <class 'list'>\n",
      "<class 'numpy.ndarray'> 20\n",
      "The auc of prediction is: 0.7266584170039381\n",
      "The aupr of prediction is: 0.31895253429027126\n"
     ]
    },
    {
     "name": "stderr",
     "output_type": "stream",
     "text": [
      "100%|███████████████████████████████████████████████████████████████████████████████| 210/210 [00:00<00:00, 784.76it/s]\n",
      "100%|██████████████████████████████████████████████████████████████████████████████| 210/210 [00:00<00:00, 1905.45it/s]\n"
     ]
    },
    {
     "name": "stdout",
     "output_type": "stream",
     "text": [
      "31.137931034482758\n",
      "145 <class 'list'>\n",
      "<class 'numpy.ndarray'> 20\n",
      "The auc of prediction is: 0.7147124981898161\n",
      "The aupr of prediction is: 0.3900695322115158\n"
     ]
    },
    {
     "name": "stderr",
     "output_type": "stream",
     "text": [
      "100%|███████████████████████████████████████████████████████████████████████████████| 210/210 [00:00<00:00, 879.95it/s]\n",
      "100%|██████████████████████████████████████████████████████████████████████████████| 210/210 [00:00<00:00, 2153.63it/s]\n"
     ]
    },
    {
     "name": "stdout",
     "output_type": "stream",
     "text": [
      "32.16379310344828\n",
      "116 <class 'list'>\n",
      "<class 'numpy.ndarray'> 20\n",
      "The auc of prediction is: 0.8338013408231405\n",
      "The aupr of prediction is: 0.5719765289243277\n"
     ]
    },
    {
     "name": "stderr",
     "output_type": "stream",
     "text": [
      "100%|███████████████████████████████████████████████████████████████████████████████| 210/210 [00:00<00:00, 941.23it/s]\n",
      "100%|██████████████████████████████████████████████████████████████████████████████| 210/210 [00:00<00:00, 2138.21it/s]\n"
     ]
    },
    {
     "name": "stdout",
     "output_type": "stream",
     "text": [
      "40.252252252252255\n",
      "111 <class 'list'>\n",
      "<class 'numpy.ndarray'> 20\n",
      "The auc of prediction is: 0.7335231180166245\n",
      "The aupr of prediction is: 0.4831702381413796\n"
     ]
    },
    {
     "name": "stderr",
     "output_type": "stream",
     "text": [
      "100%|███████████████████████████████████████████████████████████████████████████████| 210/210 [00:00<00:00, 799.58it/s]\n",
      "100%|██████████████████████████████████████████████████████████████████████████████| 210/210 [00:00<00:00, 1978.51it/s]\n"
     ]
    },
    {
     "name": "stdout",
     "output_type": "stream",
     "text": [
      "35.08661417322835\n",
      "127 <class 'list'>\n",
      "<class 'numpy.ndarray'> 20\n",
      "The auc of prediction is: 0.8459621344789545\n",
      "The aupr of prediction is: 0.6111974900012411\n"
     ]
    },
    {
     "name": "stderr",
     "output_type": "stream",
     "text": [
      "100%|███████████████████████████████████████████████████████████████████████████████| 210/210 [00:00<00:00, 867.70it/s]\n",
      "100%|██████████████████████████████████████████████████████████████████████████████| 210/210 [00:00<00:00, 2244.75it/s]"
     ]
    },
    {
     "name": "stdout",
     "output_type": "stream",
     "text": [
      "37.275862068965516\n",
      "116 <class 'list'>\n",
      "<class 'numpy.ndarray'> 20\n",
      "The auc of prediction is: 0.8930439159620107\n",
      "The aupr of prediction is: 0.6543498296063024\n",
      "The auc of prediction is: 0.6911120431588802\n",
      "The aupr of prediction is: 0.35106007289012353\n",
      "Runtime: 12.30445408821106\n"
     ]
    },
    {
     "name": "stderr",
     "output_type": "stream",
     "text": [
      "\n"
     ]
    }
   ],
   "source": [
    "# %load run_main.py\n",
    "import numpy as np\n",
    "from function import *\n",
    "from tqdm import trange\n",
    "from sklearn.metrics.pairwise import cosine_similarity\n",
    "import sklearn.metrics\n",
    "import copy\n",
    "import time\n",
    "rs = 0.6\n",
    "n_fold=10\n",
    "eta=0.7\n",
    "l_1=5\n",
    "l_2=5\n",
    "fr=500\n",
    "fp=300\n",
    "K=20\n",
    "dr_pre=np.loadtxt(\"./source_data/ic4_admat_dgc.txt\").T\n",
    "simdr=np.loadtxt(\"./source_data/ic_simmat_drug.txt\")\n",
    "simpre=np.loadtxt(\"./source_data/ic_simmat_target.txt\")\n",
    "\n",
    "drnum=len(simdr)     #药物的数目\n",
    "#disnum=len(dr_dis[0])     #副作用的数目\n",
    "prenum=len(simpre)     #蛋白质的数目\n",
    "\n",
    "\n",
    "#index_1 = np.loadtxt(\"./dataset/index_1.txt\")\n",
    "#index_0 = np.loadtxt(\"./dataset/index_0.txt\")\n",
    "#index = np.hstack((index_1, index_0))     #水平拼接\n",
    "reala=dr_pre\n",
    "sr = simdr\n",
    "sd = simpre/100\n",
    "\n",
    "RR=np.zeros(dr_pre.shape)       #原始的邻接矩阵\n",
    "RR_1=np.zeros(dr_pre.shape)       #原始的邻接矩阵\n",
    "#A = np.hstack((dr_dr, dr_dis, dr_se))       #Fr\n",
    "#B = np.hstack((pre_pre, pre_dis))         #Fp\n",
    "#cutdr_dis = SVD(A, fr)    #奇异值分解    Fr'\n",
    "#cutpre_dis = SVD(B, fp)     #奇异值分解    Fp'\n",
    "#pre_simdti = cosine_similarity(cutpre_dis, cutpre_dis)    #计算余弦相似度   SrF\n",
    "#dr_simdti = cosine_similarity(cutdr_dis, cutdr_dis)        #计算余弦相似度   SpF\n",
    "pre_simdti = np.loadtxt(\"./source_data/S_FGS_p_ic.txt\")\n",
    "dr_simdti = np.loadtxt(\"./source_data/S_FGS_d_ic.txt\")\n",
    "\n",
    "# 获取药物的索引（矩阵的行索引）\n",
    "drug_indices = list(range(dr_pre.shape[0]))\n",
    "num_d = len(drug_indices)\n",
    "group_size1_d = int(num_d / fold)\n",
    "random.seed(10)\n",
    "random.shuffle(drug_indices)\n",
    "array_1=np.array(drug_indices)[0:fold*group_size1_d]\n",
    "group_data1=np.reshape(array_1,(fold,group_size1_d))\n",
    "\n",
    "# 获取靶点的索引（矩阵的列索引）\n",
    "protein_indices = list(range(dr_pre.shape[1]))\n",
    "num_p = len(protein_indices)\n",
    "group_size1_p = int(num_p / fold)\n",
    "random.seed(10)\n",
    "random.shuffle(protein_indices)\n",
    "\n",
    "array_1_p=np.array(protein_indices)[0:fold*group_size1_p]\n",
    "group_data1_p=np.reshape(array_1_p,(fold,group_size1_p))\n",
    "\n",
    "# 记录开始时间\n",
    "start_time = time.time()\n",
    "\n",
    "srfp, spfp = pruning(K=K, drug_mat=dr_simdti, target_mat=pre_simdti, miu=eta)\n",
    "srsp, spsp = pruning(K=K, drug_mat=sr, target_mat=sd, miu=eta)\n",
    "\n",
    "for f in trange(n_fold):\n",
    "    a = np.loadtxt(\"./dataset/DTI_setting4\" + str(f) + \".txt\")\n",
    "    #idx=index[f,:]\n",
    "   \n",
    "    R = copy.deepcopy(a)\n",
    "    R = BiRW(R, dr_simdti, pre_simdti, a, rs)        \n",
    "    for i in trange(l_1):\n",
    "        R=BiRW(R, srfp, spfp, a, rs/2)\n",
    "    for i in trange(l_2):\n",
    "        R=BiRW(R, srsp, spsp, a, rs/2)\n",
    "\n",
    "    realvalue=np.zeros(R.shape)\n",
    "    realvalue_1=np.zeros(R.shape)\n",
    "    for i in range(len(group_data1[f, :])): \n",
    "        d=group_data1[f, i]\n",
    "        p=np.where(DTI[group_data1[f, i], :] == 1)[0]\n",
    "        realvalue_1[d,p]=reala[d,p]\n",
    "    for i in range(len(group_data1_p[f, :])): \n",
    "        d=np.where(dr_pre[:, group_data1_p[f, i]] == 1)[0]\n",
    "        p=group_data1_p[f, i]\n",
    "        realvalue[d,p]=realvalue_1[d,p]\n",
    "    for i in range(len(group_data1[f, :])): \n",
    "        d=group_data1[f, i]\n",
    "        p=np.where(DTI[group_data1[f, i], :] == 1)[0]\n",
    "        RR_1[d,p]=R[d,p]\n",
    "    for i in range(len(group_data1_p[f, :])): \n",
    "        d=np.where(dr_pre[:, group_data1_p[f, i]] == 1)[0]\n",
    "        p=group_data1_p[f, i]\n",
    "        RR[d,p]=RR_1[d,p]\n",
    "\n",
    "    \n",
    "y_true_m = dr_pre.tolist()\n",
    "y_pre_m = RR.tolist()\n",
    "\n",
    "tpr_cov=[[] for i in range(n_fold)]\n",
    "fpr_cov=[[] for i in range(n_fold)]\n",
    "recall_cov=[[] for i in range(n_fold)]\n",
    "precision_cov=[[] for i in range(n_fold)]\n",
    "\n",
    "for f in range(n_fold):\n",
    "    #idx=index[f,:]\n",
    "    singal=[[] for i in range(len(y_true_m))]\n",
    "    singal_test=[[] for i in range(len(y_true_m))]\n",
    "    for i in trange(len(y_true_m)):\n",
    "        for j in range(len(y_true_m[0])):\n",
    "            if i in drug_indices and j in group_data1_p[f, :] :\n",
    "                singal[i].append(y_true_m[i][j])\n",
    "                singal_test[i].append(y_pre_m[i][j])\n",
    "            if i in group_data1[f, :] and j in protein_indices :\n",
    "                singal[i].append(y_true_m[i][j])\n",
    "                singal_test[i].append(y_pre_m[i][j])\n",
    "    y_true=singal\n",
    "    y_pre=singal_test\n",
    "\n",
    "    idx = []\n",
    "    tpr_list = []\n",
    "    fpr_list = []\n",
    "    recall_list = []\n",
    "    precision_list = []\n",
    "    c = 0\n",
    "    for i in trange(len(y_true)):\n",
    "        if np.sum(np.array(y_true[i])) == 0:\n",
    "            c += 1\n",
    "            continue\n",
    "        else:\n",
    "            tpr1, fpr1, precision1, recall1 = tpr_fpr_precision_recall(np.array(y_true[i]), np.array(y_pre[i]))\n",
    "            fpr_list.append(fpr1)\n",
    "            tpr_list.append(tpr1)\n",
    "            precision_list.append(precision1)\n",
    "            recall_list.append(recall1)\n",
    "    coverage = []\n",
    "\n",
    "    for i in tpr_list:\n",
    "        try:\n",
    "            coverage.append(i.index(1.0)+1)\n",
    "        except:\n",
    "            print('1')\n",
    "    print(np.mean(np.array(coverage)))\n",
    "\n",
    "    tpr = equal_len_list(tpr_list)\n",
    "    print(len(tpr ),type(tpr))\n",
    "    fpr = equal_len_list(fpr_list)\n",
    "    precision = equal_len_list(precision_list)\n",
    "    recall = equal_len_list(recall_list)\n",
    "    tpr_mean = np.mean(tpr, axis=0)\n",
    "    tpr_cov[f]=tpr_mean\n",
    "    print(type(tpr_mean),len(tpr_mean))\n",
    "    fpr_mean = np.mean(fpr, axis=0)\n",
    "    fpr_cov[f]=fpr_mean\n",
    "    recall_mean = np.mean(recall, axis=0)\n",
    "    recall_cov[f]=recall_mean\n",
    "    precision_mean = np.mean(precision, axis=0)\n",
    "    precision_cov[f]=precision_mean\n",
    "    print('The auc of prediction is:', sklearn.metrics.auc(fpr_mean, tpr_mean))\n",
    "    print('The aupr of prediction is:', sklearn.metrics.auc(recall_mean, precision_mean)+recall_mean[0]*precision_mean[0])\n",
    "\n",
    "tpr = equal_len_list(tpr_cov)\n",
    "fpr = equal_len_list(fpr_cov)\n",
    "precision = equal_len_list(precision_cov)\n",
    "recall = equal_len_list(recall_cov)\n",
    "\n",
    "tpr_mean_snf = np.mean(tpr, axis=0)\n",
    "fpr_mean_snf = np.mean(fpr, axis=0)\n",
    "recall_mean_snf = np.mean(recall, axis=0)\n",
    "precision_mean_snf = np.mean(precision, axis=0)\n",
    "\n",
    "# 记录结束时间并计算运行时间\n",
    "end_time = time.time()\n",
    "runtime = end_time - start_time\n",
    "\n",
    "print('The auc of prediction is:', sklearn.metrics.auc(fpr_mean_snf, tpr_mean_snf))\n",
    "print('The aupr of prediction is:', sklearn.metrics.auc(recall_mean_snf, precision_mean_snf)+recall_mean_snf[0]*precision_mean_snf[0])\n",
    "# 打印灵敏度和运行时间\n",
    "\n",
    "print('Runtime:', runtime)\n",
    "#np.savetxt('./result/fpr_list_snf.txt', fpr_mean_snf)\n",
    "#np.savetxt('./result/tpr_list.txt_snf', tpr_mean_snf)\n",
    "#np.savetxt('./result/recall_list.txt_snf', recall_mean_snf)\n",
    "#np.savetxt('./result/precision_list.txt_snf', precision_mean_snf)\n",
    "\n",
    "\n",
    "\n",
    "\n"
   ]
  },
  {
   "cell_type": "code",
   "execution_count": null,
   "id": "d61b14d2",
   "metadata": {},
   "outputs": [],
   "source": []
  }
 ],
 "metadata": {
  "kernelspec": {
   "display_name": "Python 3 (ipykernel)",
   "language": "python",
   "name": "python3"
  },
  "language_info": {
   "codemirror_mode": {
    "name": "ipython",
    "version": 3
   },
   "file_extension": ".py",
   "mimetype": "text/x-python",
   "name": "python",
   "nbconvert_exporter": "python",
   "pygments_lexer": "ipython3",
   "version": "3.9.13"
  }
 },
 "nbformat": 4,
 "nbformat_minor": 5
}
